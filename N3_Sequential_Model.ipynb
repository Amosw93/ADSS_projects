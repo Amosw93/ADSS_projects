{
 "cells": [
  {
   "cell_type": "markdown",
   "id": "e33c9e52-fac2-45a3-8a97-02fa41192a5e",
   "metadata": {},
   "source": [
    "# Notebook 3: Develop Sequential Model"
   ]
  },
  {
   "cell_type": "markdown",
   "id": "8b97f665-4831-45eb-93aa-73e915fd4c6c",
   "metadata": {},
   "source": [
    "In Notebook 2, it has labeled the sentiment \"positive, negative and neutral\" to the standardised sentences which was extracted from 30 UK retailers annual report (pdf file). In addition, the label of these three sentiment has been converted to numeric value which positive is 1, negative is -1, and neutral is 0 respectively.\n",
    "\n",
    "\n",
    "In this notebook, first, it will tokenize and pad the sentences into sequences. And then, it will develop different sequential models by using Tensorflow and Keras."
   ]
  },
  {
   "cell_type": "markdown",
   "id": "770fd472-b008-475d-86ae-57380a85cbf1",
   "metadata": {
    "tags": []
   },
   "source": [
    "# Tokenization and padding sequences"
   ]
  },
  {
   "cell_type": "code",
   "execution_count": 19,
   "id": "9dc33133-3712-4395-b8ec-f46db9d34f0d",
   "metadata": {},
   "outputs": [
    {
     "data": {
      "text/html": [
       "<div>\n",
       "<style scoped>\n",
       "    .dataframe tbody tr th:only-of-type {\n",
       "        vertical-align: middle;\n",
       "    }\n",
       "\n",
       "    .dataframe tbody tr th {\n",
       "        vertical-align: top;\n",
       "    }\n",
       "\n",
       "    .dataframe thead th {\n",
       "        text-align: right;\n",
       "    }\n",
       "</style>\n",
       "<table border=\"1\" class=\"dataframe\">\n",
       "  <thead>\n",
       "    <tr style=\"text-align: right;\">\n",
       "      <th></th>\n",
       "      <th>sentences</th>\n",
       "      <th>labels</th>\n",
       "    </tr>\n",
       "  </thead>\n",
       "  <tbody>\n",
       "    <tr>\n",
       "      <th>0</th>\n",
       "      <td>mothercare plc annual report accounts www</td>\n",
       "      <td>0</td>\n",
       "    </tr>\n",
       "    <tr>\n",
       "      <th>1</th>\n",
       "      <td>mothercareplc</td>\n",
       "      <td>0</td>\n",
       "    </tr>\n",
       "    <tr>\n",
       "      <th>2</th>\n",
       "      <td>com transformation growth</td>\n",
       "      <td>0</td>\n",
       "    </tr>\n",
       "    <tr>\n",
       "      <th>3</th>\n",
       "      <td>financial highlights worldwide network sales</td>\n",
       "      <td>0</td>\n",
       "    </tr>\n",
       "    <tr>\n",
       "      <th>4</th>\n",
       "      <td>group sales</td>\n",
       "      <td>0</td>\n",
       "    </tr>\n",
       "  </tbody>\n",
       "</table>\n",
       "</div>"
      ],
      "text/plain": [
       "                                      sentences  labels\n",
       "0     mothercare plc annual report accounts www       0\n",
       "1                                 mothercareplc       0\n",
       "2                     com transformation growth       0\n",
       "3  financial highlights worldwide network sales       0\n",
       "4                                   group sales       0"
      ]
     },
     "execution_count": 19,
     "metadata": {},
     "output_type": "execute_result"
    }
   ],
   "source": [
    "# read the csv file which stores sentence and numeric labels\n",
    "import pandas as pd\n",
    "df_sent_lab = pd.read_csv(\"dataset/sen_with_numeric_labels.csv\")\n",
    "df_sent_lab.head()"
   ]
  },
  {
   "cell_type": "code",
   "execution_count": 20,
   "id": "a0583d0e-41ef-4cb3-ae36-54410d0ae2ea",
   "metadata": {},
   "outputs": [
    {
     "name": "stdout",
     "output_type": "stream",
     "text": [
      "Print the sentiment summary of the dataset (1 = positive; 0 = neutral; negative = -1):\n",
      "labels\n",
      " 1    396692\n",
      " 0    301895\n",
      "-1    205911\n",
      "Name: count, dtype: int64\n",
      "\n",
      "Is there any missing and null value? Answer: 0\n"
     ]
    }
   ],
   "source": [
    "# a short summary of the dataset \"df_sent_lab\"\n",
    "sentcount = df_sent_lab[\"labels\"].value_counts()\n",
    "print(\"Print the sentiment summary of the dataset (1 = positive; 0 = neutral; negative = -1):\")\n",
    "print(sentcount)\n",
    "print(f\"\\nIs there any missing and null value? Answer: {sentcount.isnull().sum()}\")"
   ]
  },
  {
   "cell_type": "markdown",
   "id": "f5beb31b-673c-4eb6-bbaf-de20f998c820",
   "metadata": {},
   "source": [
    "After the above inital screening, it can tokenize the sentences and pad them as sequences."
   ]
  },
  {
   "cell_type": "code",
   "execution_count": 21,
   "id": "c66122e8-919c-4cf5-bb53-6b9682c38f55",
   "metadata": {},
   "outputs": [],
   "source": [
    "# Import global nlp functions to tokenize the sentences and pad them as sequences\n",
    "from nlp_functions import tokenize_pad_sequences\n",
    "\n",
    "# Global parameters\n",
    "num_words = 500 # max numbers of vocabulary \n",
    "oov_token = '<OOV>' # words that is out of the vocabulary\n",
    "maxlen = 10 # max length of the sequences\n",
    "padding = 'post' # padding position\n",
    "truncating = 'post' # truncation position\n",
    "\n",
    "# Extract the sentence from the dataset \"df_sent_lab\"\n",
    "sentences = df_sent_lab[\"sentences\"]"
   ]
  },
  {
   "cell_type": "code",
   "execution_count": 22,
   "id": "3256e34d-0a0d-4596-84c0-e59dabb19696",
   "metadata": {},
   "outputs": [],
   "source": [
    "# Tokenize and padded the sentences\n",
    "tokenizer, word_index, sequences, padded_sequences = tokenize_pad_sequences(sentences, \n",
    "                                                                            num_words, \n",
    "                                                                            oov_token, \n",
    "                                                                            maxlen,\n",
    "                                                                            padding, \n",
    "                                                                            truncating)"
   ]
  },
  {
   "cell_type": "markdown",
   "id": "1e721d1a-d622-4bc0-ad4d-cede2baf5228",
   "metadata": {},
   "source": [
    "Using the global nlp function to visualise the padded sequences."
   ]
  },
  {
   "cell_type": "code",
   "execution_count": 23,
   "id": "6e835248-7b7e-4162-a654-01b6a8b8f024",
   "metadata": {},
   "outputs": [
    {
     "name": "stdout",
     "output_type": "stream",
     "text": [
      "start index: 0\n",
      "end index: 10\n",
      "Summary of the tokenization and padding:\n",
      "\n",
      "Selected Word Index:\n",
      "<OOV>: 1\n",
      "group: 2\n",
      "financial: 3\n",
      "year: 4\n",
      "report: 5\n",
      "company: 6\n",
      "committee: 7\n",
      "board: 8\n",
      "directors: 9\n",
      "business: 10\n",
      "\n",
      "Selected Sentences:\n",
      "[1, 25, 11, 5, 36, 1]\n",
      "[1]\n",
      "[395, 1, 81]\n",
      "[3, 1, 1, 1, 57]\n",
      "[2, 57]\n",
      "[62, 253]\n",
      "[26, 62, 71]\n",
      "[166, 1]\n",
      "[253]\n",
      "[61, 223, 4, 249, 62, 253]\n",
      "\n",
      "Selected Padded Sequences:\n",
      "[ 1 25 11  5 36  1  0  0  0  0]\n",
      "[1 0 0 0 0 0 0 0 0 0]\n",
      "[395   1  81   0   0   0   0   0   0   0]\n",
      "[ 3  1  1  1 57  0  0  0  0  0]\n",
      "[ 2 57  0  0  0  0  0  0  0  0]\n",
      "[ 62 253   0   0   0   0   0   0   0   0]\n",
      "[26 62 71  0  0  0  0  0  0  0]\n",
      "[166   1   0   0   0   0   0   0   0   0]\n",
      "[253   0   0   0   0   0   0   0   0   0]\n",
      "[ 61 223   4 249  62 253   0   0   0   0]\n"
     ]
    }
   ],
   "source": [
    "# Import global nlp functions for the summary\n",
    "from nlp_functions import summary_tokpad\n",
    "\n",
    "# Get the summary of the padded and tokenization for first 10 rows\n",
    "summary = tokenize_pad_sequences(sentences, num_words, oov_token, maxlen, padding, truncating)\n",
    "summary_tokpad(summary, 0, 10)"
   ]
  },
  {
   "cell_type": "markdown",
   "id": "2621eacd-cafb-4f2f-afb0-8bdb5774213b",
   "metadata": {
    "tags": []
   },
   "source": [
    "# Spliting the dataset"
   ]
  },
  {
   "cell_type": "markdown",
   "id": "25796d8a-22c1-4996-995f-92293536185f",
   "metadata": {},
   "source": [
    "Split the dataset into X_training, X_test, Y_training and Y_test for modelling and validation. \n",
    "In details, X_training is training_sequences, X_test is testing_sequences, Y_training is training_labels, Y_test is testing_labels, respectively."
   ]
  },
  {
   "cell_type": "markdown",
   "id": "d6d04878-beb0-4d25-833d-995e86dd4187",
   "metadata": {},
   "source": [
    "First, it splits the training sequences and testing sequences."
   ]
  },
  {
   "cell_type": "code",
   "execution_count": 24,
   "id": "b9a8d6a4-6916-4d4c-b160-7a5886b4edaf",
   "metadata": {},
   "outputs": [],
   "source": [
    "# parameters setting\n",
    "training_size = 0.8\n",
    "labels = df_sent_lab[\"labels\"]\n",
    "sequences = padded_sequences\n",
    "\n",
    "# Split the sequences into training and testing dataset\n",
    "from nlp_functions import split_the_dataset\n",
    "training_sequences, testing_sequences = split_the_dataset(sequences, training_size)"
   ]
  },
  {
   "cell_type": "code",
   "execution_count": 25,
   "id": "51df9302-a3ce-48b7-8f36-85e2524a56c9",
   "metadata": {},
   "outputs": [
    {
     "name": "stdout",
     "output_type": "stream",
     "text": [
      "There are 723598 in the training sequences data.\n",
      "The following are the training sequences: \n",
      "[[329   1   1 ... 207 208  22]\n",
      " [  1   1   1 ...   1   1   1]\n",
      " [ 74  78   1 ...  78   1 203]\n",
      " ...\n",
      " [ 50   1   1 ...   1   0   0]\n",
      " [126 238   1 ...   1   1  45]\n",
      " [  1   5 381 ...   0   0   0]]\n",
      "\n",
      "\n",
      "There are 180900 in the testing sequences data.\n",
      "The following are the testing sequences: \n",
      "[[128   0   0 ...   0   0   0]\n",
      " [249 188  19 ...  50 190 273]\n",
      " [  1   1   1 ...  23   1  16]\n",
      " ...\n",
      " [  1   1 201 ...  48   1   1]\n",
      " [  1   1   1 ...   1   1 214]\n",
      " [ 20  14  90 ...   0   0   0]]\n"
     ]
    }
   ],
   "source": [
    "# Print the training sequences dataset\n",
    "print(f\"There are {len(training_sequences)} in the training sequences data.\")\n",
    "print(\"The following are the training sequences: \")\n",
    "print(training_sequences)\n",
    "\n",
    "# Print the testing sequences dataset\n",
    "print(\"\")\n",
    "print(\"\")\n",
    "print(f\"There are {len(testing_sequences)} in the testing sequences data.\")\n",
    "print(\"The following are the testing sequences: \")\n",
    "print(testing_sequences)"
   ]
  },
  {
   "cell_type": "markdown",
   "id": "9e199246-d14c-4eb4-8a34-671f1732e3b7",
   "metadata": {},
   "source": [
    "Next, it splits the training lables and testing labels datasets."
   ]
  },
  {
   "cell_type": "code",
   "execution_count": 26,
   "id": "bed18175-9cdb-4ad5-8954-2e1426d55e5c",
   "metadata": {},
   "outputs": [],
   "source": [
    "# Split the labels into training and testing dataset\n",
    "training_labels, testing_labels = split_the_dataset(labels, training_size)"
   ]
  },
  {
   "cell_type": "code",
   "execution_count": 27,
   "id": "7f31641f-2fc3-4949-b8b8-0baf21774105",
   "metadata": {},
   "outputs": [
    {
     "name": "stdout",
     "output_type": "stream",
     "text": [
      "There are 723598 in the training labels data.\n",
      "The following are the training labels: \n",
      "145206    1\n",
      "488489    1\n",
      "333331    1\n",
      "658478    0\n",
      "700643    0\n",
      "         ..\n",
      "259178    1\n",
      "365838    0\n",
      "131932    1\n",
      "671155    1\n",
      "121958    0\n",
      "Name: labels, Length: 723598, dtype: int64\n",
      "\n",
      "\n",
      "There are 180900 in the testing labels data.\n",
      "The following are the testing labels: \n",
      "347497    0\n",
      "840078    1\n",
      "289955   -1\n",
      "861028    1\n",
      "901240    1\n",
      "         ..\n",
      "758540    1\n",
      "7624     -1\n",
      "313781    1\n",
      "476891    1\n",
      "240607    1\n",
      "Name: labels, Length: 180900, dtype: int64\n"
     ]
    }
   ],
   "source": [
    "# Print the training labels dataset\n",
    "print(f\"There are {len(training_labels)} in the training labels data.\")\n",
    "print(\"The following are the training labels: \")\n",
    "print(training_labels)\n",
    "\n",
    "# Print the testing labels dataset\n",
    "print(\"\")\n",
    "print(\"\")\n",
    "print(f\"There are {len(testing_labels)} in the testing labels data.\")\n",
    "print(\"The following are the testing labels: \")\n",
    "print(testing_labels)"
   ]
  },
  {
   "cell_type": "markdown",
   "id": "b9e28660-9cc5-49d1-8fed-d1f0d9a359d1",
   "metadata": {
    "tags": []
   },
   "source": [
    "# LSTM Models"
   ]
  },
  {
   "cell_type": "markdown",
   "id": "2e81bac8-b023-4b71-862d-5d82626573be",
   "metadata": {},
   "source": [
    "LSTM, the Long Short-Term Memoary model is one of the sequential models widely used in NLP. It is a variant of recurrent neural network and it is used to process input data in a sequential manner. In NLP, the input sequence can be sentences or paragraph. In details, LSTM can prcess each element of the input seuqnces at a time, and then it maintains an internal memory state that can capture and retain relevant informtion over time. This feature allows LSTM to handle varuing lengths and capture long term dependencies during sentiment analysis."
   ]
  },
  {
   "cell_type": "markdown",
   "id": "a2ca988d-9bab-470d-87e7-d97c005d07ca",
   "metadata": {},
   "source": [
    "1. Embedding Layer: An input layer, converting the input into dense vectors, the numeric representative of the sentences. It specifiy num_words which is the total number of freqeuent/unique words from the dataset. embedding)dim specifies the dimentionaly of the word embeddings. input length specifies the length of the input sequences, that is usually the maximum sequence length in the dataset.\n",
    "\n",
    "2. Bidirectional LSTM layer: The bidirectional wrapper allows the LSTM layer to process input sequenences in both forward and backward directions, capturing contextual information from past and future words. lstm_dim means the number of LSTM units in each direction to determines the capacity and complextity of LSTM layer. It is common to use bidirectional LSTM layer in NLP because language is seuqential and the meanding of word can be affected by surrounding words. It gives the model to capture the contextual information. \n",
    "\n",
    "3. Dense layer (intermediate layer): Transforming the preceding layer to non-linearity (if use ReLU activation) before the output layer. It can be seen as a linear transformation of the LSTM layer output.\n",
    "\n",
    "4. Dense layer (output layer): different activation function can generate different number of output. For sigmoid activation, it produce a signle output value between 0 and 1. Since there are 3 sentiment label classification, it will use softmax activation instead.\n",
    "\n",
    "5. Loss function: measure of model performance, quantifying the discrepancy between predicted output and actual output.\n",
    "\n",
    "6. Optimizer: determines how the model's weight are being updated. adam is popular optimizer due to faster convergence and improved performance.\n",
    "\n",
    "7. metrics: performance evaluation. accuracy calcluate the percentage of correct prediction. "
   ]
  },
  {
   "cell_type": "markdown",
   "id": "fe264d79-4a76-4cf8-bb53-2103d29d9791",
   "metadata": {
    "tags": []
   },
   "source": [
    "## Model 1"
   ]
  },
  {
   "cell_type": "code",
   "execution_count": 83,
   "id": "12cb6256-18ed-4ecf-9bea-112b34d79060",
   "metadata": {},
   "outputs": [],
   "source": [
    "# Hyperparameters\n",
    "embedding_dim = 10 # each word will be represented by a dense vextor of specified size\n",
    "lstm_dim = 12 # number of LSTM units\n",
    "dense_dim = 12 # number of units intermediate dense layer\n",
    "maxlen = 10 # length of the input sequences\n"
   ]
  },
  {
   "cell_type": "code",
   "execution_count": 84,
   "id": "99ec77ff-2ab2-4fb6-8011-ed1d03360226",
   "metadata": {},
   "outputs": [],
   "source": [
    "import tensorflow as tf\n",
    "from tensorflow.keras.layers import Embedding, LSTM, Dense, Bidirectional\n",
    "from tensorflow.keras.models import Sequential\n"
   ]
  },
  {
   "cell_type": "markdown",
   "id": "3d77c177-84f8-4a6b-a0ed-3e3bbb0e0da5",
   "metadata": {},
   "source": [
    "Before specify the model definition, it should covert the label as one-hot encoded format. It can work with categorical_crossentropy loss function as this function only read labels at one-hot encoded format and it cannot process any negative value.\n",
    "\n",
    "One-hot encoding: It is a process of converting the numeric categorical variables as binary vectors as follows:\n",
    "\n",
    "-1 = [1,0,0]  \n",
    "0 = [0,1,0]  \n",
    "1 = [0,0,1]\n",
    ". "
   ]
  },
  {
   "cell_type": "code",
   "execution_count": 85,
   "id": "31d6cd08-4c21-4372-b413-6bd6b62878e0",
   "metadata": {},
   "outputs": [],
   "source": [
    "from tensorflow.keras.utils import to_categorical\n",
    "\n",
    "# Convert target labels to one-hot encoding\n",
    "training_labels_encoded = to_categorical(training_labels, num_classes=3)\n",
    "testing_labels_encoded = to_categorical(testing_labels, num_classes=3)"
   ]
  },
  {
   "cell_type": "code",
   "execution_count": 86,
   "id": "05533f8e-62e2-4942-9505-c75a17d93433",
   "metadata": {},
   "outputs": [
    {
     "name": "stdout",
     "output_type": "stream",
     "text": [
      "Model: \"sequential_17\"\n",
      "_________________________________________________________________\n",
      " Layer (type)                Output Shape              Param #   \n",
      "=================================================================\n",
      " embedding_17 (Embedding)    (None, None, 10)          5000      \n",
      "                                                                 \n",
      " bidirectional_17 (Bidirecti  (None, 24)               2208      \n",
      " onal)                                                           \n",
      "                                                                 \n",
      " dense_34 (Dense)            (None, 12)                300       \n",
      "                                                                 \n",
      " dense_35 (Dense)            (None, 3)                 39        \n",
      "                                                                 \n",
      "=================================================================\n",
      "Total params: 7,547\n",
      "Trainable params: 7,547\n",
      "Non-trainable params: 0\n",
      "_________________________________________________________________\n"
     ]
    }
   ],
   "source": [
    "# Build the model\n",
    "model = tf.keras.Sequential([\n",
    "    tf.keras.layers.Embedding(num_words, embedding_dim),\n",
    "    tf.keras.layers.Bidirectional(tf.keras.layers.LSTM(lstm_dim)),\n",
    "    tf.keras.layers.Dense(dense_dim, activation='relu'),\n",
    "    tf.keras.layers.Dense(3, activation='softmax')\n",
    "])\n",
    "\n",
    "# Set the training parameters\n",
    "# using sparse_categorical_crossentropy for mutil-class classification of positive, netural, and negative sentiment\n",
    "model.compile(loss='categorical_crossentropy', optimizer='adam', metrics=['accuracy'])\n",
    "\n",
    "# Print the model summary\n",
    "model.summary()"
   ]
  },
  {
   "cell_type": "code",
   "execution_count": 87,
   "id": "4c48fc05-3b1b-4113-916b-cb2d9dc6a60e",
   "metadata": {},
   "outputs": [
    {
     "name": "stdout",
     "output_type": "stream",
     "text": [
      "Epoch 1/10\n",
      "22613/22613 [==============================] - 79s 3ms/step - loss: 0.5187 - accuracy: 0.7574 - val_loss: 0.5006 - val_accuracy: 0.7623\n",
      "Epoch 2/10\n",
      "22613/22613 [==============================] - 75s 3ms/step - loss: 0.4939 - accuracy: 0.7685 - val_loss: 0.4948 - val_accuracy: 0.7684\n",
      "Epoch 3/10\n",
      "22613/22613 [==============================] - 75s 3ms/step - loss: 0.4875 - accuracy: 0.7726 - val_loss: 0.4890 - val_accuracy: 0.7719\n",
      "Epoch 4/10\n",
      "22613/22613 [==============================] - 78s 3ms/step - loss: 0.4830 - accuracy: 0.7753 - val_loss: 0.4857 - val_accuracy: 0.7739\n",
      "Epoch 5/10\n",
      "22613/22613 [==============================] - 75s 3ms/step - loss: 0.4794 - accuracy: 0.7778 - val_loss: 0.4846 - val_accuracy: 0.7742\n",
      "Epoch 6/10\n",
      "22613/22613 [==============================] - 76s 3ms/step - loss: 0.4767 - accuracy: 0.7799 - val_loss: 0.4827 - val_accuracy: 0.7768\n",
      "Epoch 7/10\n",
      "22613/22613 [==============================] - 77s 3ms/step - loss: 0.4741 - accuracy: 0.7810 - val_loss: 0.4823 - val_accuracy: 0.7770\n",
      "Epoch 8/10\n",
      "22613/22613 [==============================] - 76s 3ms/step - loss: 0.4720 - accuracy: 0.7824 - val_loss: 0.4793 - val_accuracy: 0.7789\n",
      "Epoch 9/10\n",
      "22613/22613 [==============================] - 75s 3ms/step - loss: 0.4698 - accuracy: 0.7841 - val_loss: 0.4799 - val_accuracy: 0.7782\n",
      "Epoch 10/10\n",
      "22613/22613 [==============================] - 74s 3ms/step - loss: 0.4682 - accuracy: 0.7851 - val_loss: 0.4793 - val_accuracy: 0.7798\n"
     ]
    }
   ],
   "source": [
    "NUM_EPOCHS = 10\n",
    "\n",
    "model = model.fit(training_sequences, training_labels_encoded, \n",
    "                    epochs=NUM_EPOCHS, \n",
    "                    validation_data=(testing_sequences, testing_labels_encoded))"
   ]
  },
  {
   "cell_type": "markdown",
   "id": "059b148f-fa16-492c-8668-3d56d1fd0bd9",
   "metadata": {},
   "source": [
    "Next, it visualises the training accuracy and loss over time after the model training."
   ]
  },
  {
   "cell_type": "code",
   "execution_count": 89,
   "id": "e737b3e9-c1f0-49b5-bf24-ef1b6512ab6c",
   "metadata": {},
   "outputs": [
    {
     "data": {
      "image/png": "[encoded data removed]",
      "text/plain": [
       "<Figure size 640x480 with 1 Axes>"
      ]
     },
     "metadata": {},
     "output_type": "display_data"
    },
    {
     "data": {
      "image/png": "[encoded data removed]",
      "text/plain": [
       "<Figure size 640x480 with 1 Axes>"
      ]
     },
     "metadata": {},
     "output_type": "display_data"
    }
   ],
   "source": [
    "import matplotlib.pyplot as plt\n",
    "\n",
    "# Plot functions\n",
    "def plot_graphs(model, string):\n",
    "  plt.plot(model.history[string])\n",
    "  plt.plot(model.history['val_'+string])\n",
    "  plt.xlabel(\"Epochs\")\n",
    "  plt.ylabel(string)\n",
    "  plt.legend([string, 'val_'+string])\n",
    "  plt.show()\n",
    "\n",
    "# Plot the accuracy and results \n",
    "plot_graphs(model, \"accuracy\")\n",
    "plot_graphs(model, \"loss\")\n"
   ]
  },
  {
   "cell_type": "markdown",
   "id": "0efe8569-df37-4ffd-a48d-cec5cd79ee4c",
   "metadata": {},
   "source": [
    "Comment: This model has high training accuracy of 78.4% and validation accuracy of 77.8%. The total training time is approximate 674 seconds (around 11 mins) for 10 epochs. The trend of lowering training loss and increasing val_loss cannot be identified after the training. It indicates there is no overfitting problem of the model."
   ]
  },
  {
   "cell_type": "code",
   "execution_count": 90,
   "id": "cc7097c4-1341-491b-95b2-2e02ee8f04a2",
   "metadata": {},
   "outputs": [
    {
     "name": "stdout",
     "output_type": "stream",
     "text": [
      "/Users/amosmbp14/Jupyter notebook/Summer_proj\n"
     ]
    }
   ],
   "source": [
    "import os\n",
    "wd = os.getcwd()\n",
    "\n",
    "print(wd)"
   ]
  }
 ],
 "metadata": {
  "kernelspec": {
   "display_name": "Python 3 (ipykernel)",
   "language": "python",
   "name": "python3"
  },
  "language_info": {
   "codemirror_mode": {
    "name": "ipython",
    "version": 3
   },
   "file_extension": ".py",
   "mimetype": "text/x-python",
   "name": "python",
   "nbconvert_exporter": "python",
   "pygments_lexer": "ipython3",
   "version": "3.9.16"
  }
 },
 "nbformat": 4,
 "nbformat_minor": 5
}
