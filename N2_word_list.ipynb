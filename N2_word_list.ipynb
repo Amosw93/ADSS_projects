{
 "cells": [
  {
   "cell_type": "markdown",
   "id": "7bae317c-684a-45e8-ae53-8308d708b3a4",
   "metadata": {},
   "source": [
    "# Notebook 2: labelling sentiment to the standardised sentences"
   ]
  },
  {
   "cell_type": "code",
   "execution_count": 1,
   "id": "8d77f671-f36e-4980-8862-5b8211f93a55",
   "metadata": {},
   "outputs": [
    {
     "name": "stdout",
     "output_type": "stream",
     "text": [
      "Intel MKL WARNING: Support of Intel(R) Streaming SIMD Extensions 4.2 (Intel(R) SSE4.2) enabled only processors has been deprecated. Intel oneAPI Math Kernel Library 2025.0 will require Intel(R) Advanced Vector Extensions (Intel(R) AVX) instructions.\n",
      "Intel MKL WARNING: Support of Intel(R) Streaming SIMD Extensions 4.2 (Intel(R) SSE4.2) enabled only processors has been deprecated. Intel oneAPI Math Kernel Library 2025.0 will require Intel(R) Advanced Vector Extensions (Intel(R) AVX) instructions.\n"
     ]
    }
   ],
   "source": [
    "import pandas as pd"
   ]
  },
  {
   "cell_type": "markdown",
   "id": "0c20a3f6-efc0-4d80-a8ed-579aa849bd0d",
   "metadata": {},
   "source": [
    "Read the dataset of standardised sentences extracted from Notebook 1."
   ]
  },
  {
   "cell_type": "code",
   "execution_count": 2,
   "id": "ca338f0d-f65b-418b-a3d3-e5d3bb9ef85f",
   "metadata": {},
   "outputs": [
    {
     "data": {
      "text/html": [
       "<div>\n",
       "<style scoped>\n",
       "    .dataframe tbody tr th:only-of-type {\n",
       "        vertical-align: middle;\n",
       "    }\n",
       "\n",
       "    .dataframe tbody tr th {\n",
       "        vertical-align: top;\n",
       "    }\n",
       "\n",
       "    .dataframe thead th {\n",
       "        text-align: right;\n",
       "    }\n",
       "</style>\n",
       "<table border=\"1\" class=\"dataframe\">\n",
       "  <thead>\n",
       "    <tr style=\"text-align: right;\">\n",
       "      <th></th>\n",
       "      <th>Unnamed: 0</th>\n",
       "      <th>standardised sentences</th>\n",
       "    </tr>\n",
       "  </thead>\n",
       "  <tbody>\n",
       "    <tr>\n",
       "      <th>0</th>\n",
       "      <td>0</td>\n",
       "      <td>mothercare plc annual report accounts www</td>\n",
       "    </tr>\n",
       "    <tr>\n",
       "      <th>1</th>\n",
       "      <td>1</td>\n",
       "      <td>mothercareplc</td>\n",
       "    </tr>\n",
       "    <tr>\n",
       "      <th>2</th>\n",
       "      <td>2</td>\n",
       "      <td>com transformation growth</td>\n",
       "    </tr>\n",
       "    <tr>\n",
       "      <th>3</th>\n",
       "      <td>3</td>\n",
       "      <td>financial highlights worldwide network sales</td>\n",
       "    </tr>\n",
       "    <tr>\n",
       "      <th>4</th>\n",
       "      <td>4</td>\n",
       "      <td>group sales</td>\n",
       "    </tr>\n",
       "    <tr>\n",
       "      <th>5</th>\n",
       "      <td>5</td>\n",
       "      <td>operating pro</td>\n",
       "    </tr>\n",
       "  </tbody>\n",
       "</table>\n",
       "</div>"
      ],
      "text/plain": [
       "   Unnamed: 0                        standardised sentences\n",
       "0           0     mothercare plc annual report accounts www\n",
       "1           1                                 mothercareplc\n",
       "2           2                     com transformation growth\n",
       "3           3  financial highlights worldwide network sales\n",
       "4           4                                   group sales\n",
       "5           5                                 operating pro"
      ]
     },
     "execution_count": 2,
     "metadata": {},
     "output_type": "execute_result"
    }
   ],
   "source": [
    "# Read the csv of the standardised sentences\n",
    "df_sentence = pd.read_csv(\"dataset/ar_30companies.csv\")\n",
    "df_sentence.head(6)"
   ]
  },
  {
   "cell_type": "markdown",
   "id": "b3a98f15-01f4-4f99-b7e9-e9317d177ddf",
   "metadata": {},
   "source": [
    "Combine the two word lists of financial and environmental topic. Read the word list csv files and perform data wrangling."
   ]
  },
  {
   "cell_type": "code",
   "execution_count": 3,
   "id": "2dc9d12d-57ab-4f62-aeac-798539f16504",
   "metadata": {},
   "outputs": [
    {
     "data": {
      "text/html": [
       "<div>\n",
       "<style scoped>\n",
       "    .dataframe tbody tr th:only-of-type {\n",
       "        vertical-align: middle;\n",
       "    }\n",
       "\n",
       "    .dataframe tbody tr th {\n",
       "        vertical-align: top;\n",
       "    }\n",
       "\n",
       "    .dataframe thead th {\n",
       "        text-align: right;\n",
       "    }\n",
       "</style>\n",
       "<table border=\"1\" class=\"dataframe\">\n",
       "  <thead>\n",
       "    <tr style=\"text-align: right;\">\n",
       "      <th></th>\n",
       "      <th>word</th>\n",
       "      <th>sentiment</th>\n",
       "    </tr>\n",
       "  </thead>\n",
       "  <tbody>\n",
       "    <tr>\n",
       "      <th>0</th>\n",
       "      <td>abandon</td>\n",
       "      <td>Negative</td>\n",
       "    </tr>\n",
       "    <tr>\n",
       "      <th>1</th>\n",
       "      <td>abandoned</td>\n",
       "      <td>Negative</td>\n",
       "    </tr>\n",
       "    <tr>\n",
       "      <th>2</th>\n",
       "      <td>abandoning</td>\n",
       "      <td>Negative</td>\n",
       "    </tr>\n",
       "    <tr>\n",
       "      <th>3</th>\n",
       "      <td>abandonment</td>\n",
       "      <td>Negative</td>\n",
       "    </tr>\n",
       "    <tr>\n",
       "      <th>4</th>\n",
       "      <td>abandonments</td>\n",
       "      <td>Negative</td>\n",
       "    </tr>\n",
       "    <tr>\n",
       "      <th>5</th>\n",
       "      <td>abandons</td>\n",
       "      <td>Negative</td>\n",
       "    </tr>\n",
       "  </tbody>\n",
       "</table>\n",
       "</div>"
      ],
      "text/plain": [
       "           word sentiment\n",
       "0       abandon  Negative\n",
       "1     abandoned  Negative\n",
       "2    abandoning  Negative\n",
       "3   abandonment  Negative\n",
       "4  abandonments  Negative\n",
       "5      abandons  Negative"
      ]
     },
     "execution_count": 3,
     "metadata": {},
     "output_type": "execute_result"
    }
   ],
   "source": [
    "# Read the csv of financial word list with the sentiment\n",
    "df_fin_word = pd.read_csv(\"word_list/Loughran_McDonald_Sentiment_Word_List.csv\")\n",
    "df_fin_word.head(6)"
   ]
  },
  {
   "cell_type": "code",
   "execution_count": 4,
   "id": "ab15984c-9d34-4aa4-8723-bb20d55fbd99",
   "metadata": {},
   "outputs": [
    {
     "data": {
      "text/plain": [
       "word         0\n",
       "sentiment    0\n",
       "dtype: int64"
      ]
     },
     "execution_count": 4,
     "metadata": {},
     "output_type": "execute_result"
    }
   ],
   "source": [
    "# Checking any missing value\n",
    "df_fin_word.isnull().sum()"
   ]
  },
  {
   "cell_type": "code",
   "execution_count": 5,
   "id": "98f2cc76-6920-4394-b820-7f6862c94f04",
   "metadata": {},
   "outputs": [
    {
     "data": {
      "text/plain": [
       "sentiment\n",
       "Negative        5646\n",
       "Litigious       1630\n",
       "Positive        1231\n",
       "Uncertainty      767\n",
       "Constraining     432\n",
       "WeakModal         27\n",
       "StrongModal       19\n",
       "Name: count, dtype: int64"
      ]
     },
     "execution_count": 5,
     "metadata": {},
     "output_type": "execute_result"
    }
   ],
   "source": [
    "# Check the sentiment summary\n",
    "categorycount = df_fin_word[\"sentiment\"].value_counts()\n",
    "categorycount"
   ]
  },
  {
   "cell_type": "markdown",
   "id": "96a53a1a-e793-4ef1-93b1-43cd8dba5b73",
   "metadata": {},
   "source": [
    "Removing the sentiment uncertainty, constraining, weakmodal, strongmodal to reduce the dataset size."
   ]
  },
  {
   "cell_type": "code",
   "execution_count": 6,
   "id": "dde8e5ad-763c-4ff6-9fe6-fab526077285",
   "metadata": {},
   "outputs": [
    {
     "name": "stderr",
     "output_type": "stream",
     "text": [
      "/var/folders/y_/_4lmv2450t13fk_011cwcn3h0000gn/T/ipykernel_72294/1348555967.py:6: SettingWithCopyWarning: \n",
      "A value is trying to be set on a copy of a slice from a DataFrame.\n",
      "Try using .loc[row_indexer,col_indexer] = value instead\n",
      "\n",
      "See the caveats in the documentation: https://pandas.pydata.org/pandas-docs/stable/user_guide/indexing.html#returning-a-view-versus-a-copy\n",
      "  filtered_df_fin_word[\"sentiment\"] = filtered_df_fin_word[\"sentiment\"].str.lower()\n"
     ]
    },
    {
     "data": {
      "text/plain": [
       "sentiment\n",
       "negative    5646\n",
       "positive    1231\n",
       "Name: count, dtype: int64"
      ]
     },
     "execution_count": 6,
     "metadata": {},
     "output_type": "execute_result"
    }
   ],
   "source": [
    "# Create a mask for positive and negative sentiment only\n",
    "fin_mask = (df_fin_word[\"sentiment\"] == \"Positive\") | (df_fin_word[\"sentiment\"] == \"Negative\")\n",
    "\n",
    "# Filter the unused sentiment litigious, uncertainty, constraining, WeakModal, Strong Modal\n",
    "filtered_df_fin_word = df_fin_word[fin_mask]\n",
    "filtered_df_fin_word[\"sentiment\"] = filtered_df_fin_word[\"sentiment\"].str.lower()\n",
    "\n",
    "# Showing the negative and positive sentiment of the financial word list\n",
    "df_fin_word_sum = filtered_df_fin_word[\"sentiment\"].value_counts()\n",
    "df_fin_word_sum"
   ]
  },
  {
   "cell_type": "markdown",
   "id": "dedf217b-199b-4c7c-88ae-92a5c672aab8",
   "metadata": {},
   "source": [
    "Repeat the above wrangling for environmental word list."
   ]
  },
  {
   "cell_type": "code",
   "execution_count": 7,
   "id": "ae4c76d3-d568-47a8-80ab-4e35f48ce8fb",
   "metadata": {},
   "outputs": [
    {
     "data": {
      "text/html": [
       "<div>\n",
       "<style scoped>\n",
       "    .dataframe tbody tr th:only-of-type {\n",
       "        vertical-align: middle;\n",
       "    }\n",
       "\n",
       "    .dataframe tbody tr th {\n",
       "        vertical-align: top;\n",
       "    }\n",
       "\n",
       "    .dataframe thead th {\n",
       "        text-align: right;\n",
       "    }\n",
       "</style>\n",
       "<table border=\"1\" class=\"dataframe\">\n",
       "  <thead>\n",
       "    <tr style=\"text-align: right;\">\n",
       "      <th></th>\n",
       "      <th>word</th>\n",
       "      <th>sentiment</th>\n",
       "    </tr>\n",
       "  </thead>\n",
       "  <tbody>\n",
       "    <tr>\n",
       "      <th>0</th>\n",
       "      <td>biofuels</td>\n",
       "      <td>positive</td>\n",
       "    </tr>\n",
       "    <tr>\n",
       "      <th>1</th>\n",
       "      <td>carbon dioxide</td>\n",
       "      <td>negative</td>\n",
       "    </tr>\n",
       "    <tr>\n",
       "      <th>2</th>\n",
       "      <td>co2</td>\n",
       "      <td>negative</td>\n",
       "    </tr>\n",
       "    <tr>\n",
       "      <th>3</th>\n",
       "      <td>carbon offsets</td>\n",
       "      <td>positive</td>\n",
       "    </tr>\n",
       "    <tr>\n",
       "      <th>4</th>\n",
       "      <td>fossil fuels</td>\n",
       "      <td>negative</td>\n",
       "    </tr>\n",
       "    <tr>\n",
       "      <th>5</th>\n",
       "      <td>carcinogens</td>\n",
       "      <td>negative</td>\n",
       "    </tr>\n",
       "  </tbody>\n",
       "</table>\n",
       "</div>"
      ],
      "text/plain": [
       "             word sentiment\n",
       "0        biofuels  positive\n",
       "1  carbon dioxide  negative\n",
       "2             co2  negative\n",
       "3  carbon offsets  positive\n",
       "4    fossil fuels  negative\n",
       "5     carcinogens  negative"
      ]
     },
     "execution_count": 7,
     "metadata": {},
     "output_type": "execute_result"
    }
   ],
   "source": [
    "# Read the environmental word list\n",
    "df_env_word = pd.read_csv(\"word_list/environmental_word_list.csv\")\n",
    "df_env_word.head(6)"
   ]
  },
  {
   "cell_type": "code",
   "execution_count": 8,
   "id": "fb4f89ba-5a99-4ec9-b8b8-57fa936de86c",
   "metadata": {},
   "outputs": [
    {
     "data": {
      "text/plain": [
       "word         0\n",
       "sentiment    0\n",
       "dtype: int64"
      ]
     },
     "execution_count": 8,
     "metadata": {},
     "output_type": "execute_result"
    }
   ],
   "source": [
    "# Check any missing and null values\n",
    "df_env_word.isnull().sum()"
   ]
  },
  {
   "cell_type": "code",
   "execution_count": 9,
   "id": "4d6a6f92-6f4e-492c-8253-d59c9d6a9b58",
   "metadata": {},
   "outputs": [
    {
     "data": {
      "text/plain": [
       "sentiment\n",
       "positive    123\n",
       "negative     61\n",
       "Name: count, dtype: int64"
      ]
     },
     "execution_count": 9,
     "metadata": {},
     "output_type": "execute_result"
    }
   ],
   "source": [
    "# Showing the summary of sentiment category of envrionmental word list\n",
    "categorycount = df_env_word[\"sentiment\"].value_counts()\n",
    "categorycount"
   ]
  },
  {
   "cell_type": "markdown",
   "id": "bcb6e0d7-9417-494b-999c-4724ef99d7a8",
   "metadata": {},
   "source": [
    "Next, combine the two word list into a sigle dataframe."
   ]
  },
  {
   "cell_type": "code",
   "execution_count": 10,
   "id": "c77a9b27-a3d8-4033-8ee1-175f9a253304",
   "metadata": {},
   "outputs": [
    {
     "data": {
      "text/html": [
       "<div>\n",
       "<style scoped>\n",
       "    .dataframe tbody tr th:only-of-type {\n",
       "        vertical-align: middle;\n",
       "    }\n",
       "\n",
       "    .dataframe tbody tr th {\n",
       "        vertical-align: top;\n",
       "    }\n",
       "\n",
       "    .dataframe thead th {\n",
       "        text-align: right;\n",
       "    }\n",
       "</style>\n",
       "<table border=\"1\" class=\"dataframe\">\n",
       "  <thead>\n",
       "    <tr style=\"text-align: right;\">\n",
       "      <th></th>\n",
       "      <th>word</th>\n",
       "      <th>sentiment</th>\n",
       "    </tr>\n",
       "  </thead>\n",
       "  <tbody>\n",
       "    <tr>\n",
       "      <th>0</th>\n",
       "      <td>abandon</td>\n",
       "      <td>negative</td>\n",
       "    </tr>\n",
       "    <tr>\n",
       "      <th>1</th>\n",
       "      <td>abandoned</td>\n",
       "      <td>negative</td>\n",
       "    </tr>\n",
       "    <tr>\n",
       "      <th>2</th>\n",
       "      <td>abandoning</td>\n",
       "      <td>negative</td>\n",
       "    </tr>\n",
       "    <tr>\n",
       "      <th>3</th>\n",
       "      <td>abandonment</td>\n",
       "      <td>negative</td>\n",
       "    </tr>\n",
       "    <tr>\n",
       "      <th>4</th>\n",
       "      <td>abandonments</td>\n",
       "      <td>negative</td>\n",
       "    </tr>\n",
       "    <tr>\n",
       "      <th>...</th>\n",
       "      <td>...</td>\n",
       "      <td>...</td>\n",
       "    </tr>\n",
       "    <tr>\n",
       "      <th>7056</th>\n",
       "      <td>seg</td>\n",
       "      <td>positive</td>\n",
       "    </tr>\n",
       "    <tr>\n",
       "      <th>7057</th>\n",
       "      <td>environmental permit</td>\n",
       "      <td>positive</td>\n",
       "    </tr>\n",
       "    <tr>\n",
       "      <th>7058</th>\n",
       "      <td>anaerobic digestion</td>\n",
       "      <td>positive</td>\n",
       "    </tr>\n",
       "    <tr>\n",
       "      <th>7059</th>\n",
       "      <td>energy from waste</td>\n",
       "      <td>positive</td>\n",
       "    </tr>\n",
       "    <tr>\n",
       "      <th>7060</th>\n",
       "      <td>wishcycling</td>\n",
       "      <td>positive</td>\n",
       "    </tr>\n",
       "  </tbody>\n",
       "</table>\n",
       "<p>7061 rows × 2 columns</p>\n",
       "</div>"
      ],
      "text/plain": [
       "                      word sentiment\n",
       "0                  abandon  negative\n",
       "1                abandoned  negative\n",
       "2               abandoning  negative\n",
       "3              abandonment  negative\n",
       "4             abandonments  negative\n",
       "...                    ...       ...\n",
       "7056                   seg  positive\n",
       "7057  environmental permit  positive\n",
       "7058   anaerobic digestion  positive\n",
       "7059     energy from waste  positive\n",
       "7060           wishcycling  positive\n",
       "\n",
       "[7061 rows x 2 columns]"
      ]
     },
     "execution_count": 10,
     "metadata": {},
     "output_type": "execute_result"
    }
   ],
   "source": [
    "# Combine both cleanned word lists\n",
    "combined_word_list = pd.concat([filtered_df_fin_word, df_env_word], ignore_index = True)\n",
    "combined_word_list"
   ]
  },
  {
   "cell_type": "code",
   "execution_count": 11,
   "id": "8c358014-dc7d-4373-8f0a-9fb014f4a162",
   "metadata": {},
   "outputs": [
    {
     "data": {
      "text/plain": [
       "word         0\n",
       "sentiment    0\n",
       "dtype: int64"
      ]
     },
     "execution_count": 11,
     "metadata": {},
     "output_type": "execute_result"
    }
   ],
   "source": [
    "# Checking any missin value\n",
    "combined_word_list.isnull().sum()"
   ]
  },
  {
   "cell_type": "code",
   "execution_count": 12,
   "id": "01c097ed-4599-4682-bb29-c2fbaa8a6e48",
   "metadata": {},
   "outputs": [
    {
     "data": {
      "text/plain": [
       "sentiment\n",
       "negative    5707\n",
       "positive    1354\n",
       "Name: count, dtype: int64"
      ]
     },
     "execution_count": 12,
     "metadata": {},
     "output_type": "execute_result"
    }
   ],
   "source": [
    "# Showing the summary of sentiment category of the combined word list\n",
    "categorycount = combined_word_list[\"sentiment\"].value_counts()\n",
    "categorycount"
   ]
  },
  {
   "cell_type": "code",
   "execution_count": 13,
   "id": "3963a5de-485e-4001-a5f1-8fed0d65c205",
   "metadata": {},
   "outputs": [],
   "source": [
    "# Download as csv for backup\n",
    "combined_word_list.to_csv('word_list_final.csv', index = False)"
   ]
  },
  {
   "cell_type": "markdown",
   "id": "8d4ce7b2-a1c8-4e28-874c-9302e9b31568",
   "metadata": {},
   "source": [
    "Next, using this word list to label the standardised sentences which has been extracted in Notebook 1."
   ]
  },
  {
   "cell_type": "code",
   "execution_count": 14,
   "id": "f0b2555e-9f63-4fc7-8b19-ee6ba89e3372",
   "metadata": {},
   "outputs": [],
   "source": [
    "# Droup the unnecessary column of standardised sentences dataframe\n",
    "df_sentence_1 = df_sentence.drop(\"Unnamed: 0\", axis = 1)"
   ]
  },
  {
   "cell_type": "code",
   "execution_count": 15,
   "id": "3fa2ea4f-e8bc-42df-8414-3d5d1bdfd79a",
   "metadata": {},
   "outputs": [
    {
     "data": {
      "text/html": [
       "<div>\n",
       "<style scoped>\n",
       "    .dataframe tbody tr th:only-of-type {\n",
       "        vertical-align: middle;\n",
       "    }\n",
       "\n",
       "    .dataframe tbody tr th {\n",
       "        vertical-align: top;\n",
       "    }\n",
       "\n",
       "    .dataframe thead th {\n",
       "        text-align: right;\n",
       "    }\n",
       "</style>\n",
       "<table border=\"1\" class=\"dataframe\">\n",
       "  <thead>\n",
       "    <tr style=\"text-align: right;\">\n",
       "      <th></th>\n",
       "      <th>standardised sentences</th>\n",
       "    </tr>\n",
       "  </thead>\n",
       "  <tbody>\n",
       "    <tr>\n",
       "      <th>0</th>\n",
       "      <td>mothercare plc annual report accounts www</td>\n",
       "    </tr>\n",
       "    <tr>\n",
       "      <th>1</th>\n",
       "      <td>mothercareplc</td>\n",
       "    </tr>\n",
       "    <tr>\n",
       "      <th>2</th>\n",
       "      <td>com transformation growth</td>\n",
       "    </tr>\n",
       "    <tr>\n",
       "      <th>3</th>\n",
       "      <td>financial highlights worldwide network sales</td>\n",
       "    </tr>\n",
       "    <tr>\n",
       "      <th>4</th>\n",
       "      <td>group sales</td>\n",
       "    </tr>\n",
       "    <tr>\n",
       "      <th>5</th>\n",
       "      <td>operating pro</td>\n",
       "    </tr>\n",
       "  </tbody>\n",
       "</table>\n",
       "</div>"
      ],
      "text/plain": [
       "                         standardised sentences\n",
       "0     mothercare plc annual report accounts www\n",
       "1                                 mothercareplc\n",
       "2                     com transformation growth\n",
       "3  financial highlights worldwide network sales\n",
       "4                                   group sales\n",
       "5                                 operating pro"
      ]
     },
     "execution_count": 15,
     "metadata": {},
     "output_type": "execute_result"
    }
   ],
   "source": [
    "# Show the dataframe after dropping the unnecessary column\n",
    "df_sentence_1.head(6)"
   ]
  },
  {
   "cell_type": "markdown",
   "id": "30558549-7e9f-417c-8c18-ac17c60bb7ef",
   "metadata": {},
   "source": [
    "Next, transfer to the above dataframe as a list as the global functions needs a list of the standardised sentences."
   ]
  },
  {
   "cell_type": "code",
   "execution_count": 16,
   "id": "097d36ad-dbc6-47d2-9c31-f7ddc365389e",
   "metadata": {},
   "outputs": [
    {
     "name": "stdout",
     "output_type": "stream",
     "text": [
      "Print the first 6 sentence of the list:\n",
      "['mothercare plc annual report accounts www', 'mothercareplc', 'com transformation growth', 'financial highlights worldwide network sales', 'group sales', 'operating pro']\n",
      "\n",
      "Data type: <class 'list'>\n"
     ]
    }
   ],
   "source": [
    "# Transfer dataframe as a list\n",
    "sentence_list = df_sentence_1[\"standardised sentences\"].tolist()\n",
    "print(\"Print the first 6 sentence of the list:\")\n",
    "print(sentence_list[:6])\n",
    "print(f\"\\nData type: {type(sentence_list)}\")"
   ]
  },
  {
   "cell_type": "markdown",
   "id": "cf7568a0-197b-4cb5-8211-5f2d7851d109",
   "metadata": {},
   "source": [
    "Then, it will import the global functions \"label_sentences\" to label the sentences."
   ]
  },
  {
   "cell_type": "code",
   "execution_count": 17,
   "id": "c242fe8b-8c02-48f5-9f5c-4ed96778afdb",
   "metadata": {},
   "outputs": [],
   "source": [
    "# Import the global nlp function to label the sentences\n",
    "from nlp_functions import label_sentences\n",
    "df_sen_labels = label_sentences(sentence_list,combined_word_list)"
   ]
  },
  {
   "cell_type": "code",
   "execution_count": 25,
   "id": "afba9382-0058-48eb-8390-530e42912dfa",
   "metadata": {},
   "outputs": [
    {
     "data": {
      "text/html": [
       "<div>\n",
       "<style scoped>\n",
       "    .dataframe tbody tr th:only-of-type {\n",
       "        vertical-align: middle;\n",
       "    }\n",
       "\n",
       "    .dataframe tbody tr th {\n",
       "        vertical-align: top;\n",
       "    }\n",
       "\n",
       "    .dataframe thead th {\n",
       "        text-align: right;\n",
       "    }\n",
       "</style>\n",
       "<table border=\"1\" class=\"dataframe\">\n",
       "  <thead>\n",
       "    <tr style=\"text-align: right;\">\n",
       "      <th></th>\n",
       "      <th>sentences</th>\n",
       "      <th>labels</th>\n",
       "    </tr>\n",
       "  </thead>\n",
       "  <tbody>\n",
       "    <tr>\n",
       "      <th>0</th>\n",
       "      <td>mothercare plc annual report accounts www</td>\n",
       "      <td>neutral</td>\n",
       "    </tr>\n",
       "    <tr>\n",
       "      <th>1</th>\n",
       "      <td>mothercareplc</td>\n",
       "      <td>neutral</td>\n",
       "    </tr>\n",
       "    <tr>\n",
       "      <th>2</th>\n",
       "      <td>com transformation growth</td>\n",
       "      <td>neutral</td>\n",
       "    </tr>\n",
       "    <tr>\n",
       "      <th>3</th>\n",
       "      <td>financial highlights worldwide network sales</td>\n",
       "      <td>neutral</td>\n",
       "    </tr>\n",
       "    <tr>\n",
       "      <th>4</th>\n",
       "      <td>group sales</td>\n",
       "      <td>neutral</td>\n",
       "    </tr>\n",
       "    <tr>\n",
       "      <th>5</th>\n",
       "      <td>operating pro</td>\n",
       "      <td>neutral</td>\n",
       "    </tr>\n",
       "    <tr>\n",
       "      <th>6</th>\n",
       "      <td>uk operating loss</td>\n",
       "      <td>negative</td>\n",
       "    </tr>\n",
       "    <tr>\n",
       "      <th>7</th>\n",
       "      <td>n vs</td>\n",
       "      <td>neutral</td>\n",
       "    </tr>\n",
       "    <tr>\n",
       "      <th>8</th>\n",
       "      <td>pro</td>\n",
       "      <td>neutral</td>\n",
       "    </tr>\n",
       "    <tr>\n",
       "      <th>9</th>\n",
       "      <td>million last year international operating pro</td>\n",
       "      <td>neutral</td>\n",
       "    </tr>\n",
       "    <tr>\n",
       "      <th>10</th>\n",
       "      <td>corporate expenses</td>\n",
       "      <td>neutral</td>\n",
       "    </tr>\n",
       "    <tr>\n",
       "      <th>11</th>\n",
       "      <td>uk sales</td>\n",
       "      <td>neutral</td>\n",
       "    </tr>\n",
       "    <tr>\n",
       "      <th>12</th>\n",
       "      <td>uk retail stores direct uk wholesale sales int...</td>\n",
       "      <td>positive</td>\n",
       "    </tr>\n",
       "    <tr>\n",
       "      <th>13</th>\n",
       "      <td>retail sales achieved franchise partners joint...</td>\n",
       "      <td>positive</td>\n",
       "    </tr>\n",
       "    <tr>\n",
       "      <th>14</th>\n",
       "      <td>uk retail stores direct uk wholesale sales int...</td>\n",
       "      <td>positive</td>\n",
       "    </tr>\n",
       "    <tr>\n",
       "      <th>15</th>\n",
       "      <td>royalty revenues landed cost goods delivered f...</td>\n",
       "      <td>neutral</td>\n",
       "    </tr>\n",
       "    <tr>\n",
       "      <th>16</th>\n",
       "      <td>space k sq</td>\n",
       "      <td>neutral</td>\n",
       "    </tr>\n",
       "    <tr>\n",
       "      <th>17</th>\n",
       "      <td>ft</td>\n",
       "      <td>neutral</td>\n",
       "    </tr>\n",
       "    <tr>\n",
       "      <th>18</th>\n",
       "      <td>uk stores</td>\n",
       "      <td>neutral</td>\n",
       "    </tr>\n",
       "    <tr>\n",
       "      <th>19</th>\n",
       "      <td>space k sq</td>\n",
       "      <td>neutral</td>\n",
       "    </tr>\n",
       "  </tbody>\n",
       "</table>\n",
       "</div>"
      ],
      "text/plain": [
       "                                            sentences    labels\n",
       "0           mothercare plc annual report accounts www   neutral\n",
       "1                                       mothercareplc   neutral\n",
       "2                           com transformation growth   neutral\n",
       "3        financial highlights worldwide network sales   neutral\n",
       "4                                         group sales   neutral\n",
       "5                                       operating pro   neutral\n",
       "6                                   uk operating loss  negative\n",
       "7                                                n vs   neutral\n",
       "8                                                 pro   neutral\n",
       "9       million last year international operating pro   neutral\n",
       "10                                 corporate expenses   neutral\n",
       "11                                           uk sales   neutral\n",
       "12  uk retail stores direct uk wholesale sales int...  positive\n",
       "13  retail sales achieved franchise partners joint...  positive\n",
       "14  uk retail stores direct uk wholesale sales int...  positive\n",
       "15  royalty revenues landed cost goods delivered f...   neutral\n",
       "16                                         space k sq   neutral\n",
       "17                                                 ft   neutral\n",
       "18                                          uk stores   neutral\n",
       "19                                         space k sq   neutral"
      ]
     },
     "execution_count": 25,
     "metadata": {},
     "output_type": "execute_result"
    }
   ],
   "source": [
    "# print the labels and sentences\n",
    "df_sen_labels.head(20)"
   ]
  },
  {
   "cell_type": "code",
   "execution_count": 19,
   "id": "ee85c3c0-5170-433d-bf48-ed6f1739d64b",
   "metadata": {},
   "outputs": [
    {
     "data": {
      "text/plain": [
       "sentences    0\n",
       "labels       0\n",
       "dtype: int64"
      ]
     },
     "execution_count": 19,
     "metadata": {},
     "output_type": "execute_result"
    }
   ],
   "source": [
    "# Check any missing and null values\n",
    "df_sen_labels.isnull().sum()"
   ]
  },
  {
   "cell_type": "code",
   "execution_count": 20,
   "id": "c62e7311-091b-4eed-b09c-4b8b23b296dd",
   "metadata": {},
   "outputs": [
    {
     "data": {
      "text/plain": [
       "labels\n",
       "positive    396692\n",
       "neutral     301895\n",
       "negative    205911\n",
       "Name: count, dtype: int64"
      ]
     },
     "execution_count": 20,
     "metadata": {},
     "output_type": "execute_result"
    }
   ],
   "source": [
    "# Summary of labels for the sentences\n",
    "categorysum = df_sen_labels[\"labels\"].value_counts()\n",
    "categorysum"
   ]
  },
  {
   "cell_type": "code",
   "execution_count": 21,
   "id": "f6ec3532-8a52-4361-b859-913035e942b0",
   "metadata": {},
   "outputs": [],
   "source": [
    "# Download as csv for back up\n",
    "df_sen_labels.to_csv('sentences_labels.csv', index = False)"
   ]
  },
  {
   "cell_type": "markdown",
   "id": "34af9ad1-f193-4a28-a54d-d58a7351c5cd",
   "metadata": {},
   "source": [
    "Next, it can covert the above labels into numeric value before tokenization."
   ]
  },
  {
   "cell_type": "code",
   "execution_count": 23,
   "id": "e1204070-9004-4867-9d82-78d1e8e95e83",
   "metadata": {},
   "outputs": [],
   "source": [
    "from nlp_functions import convert_labels_to_numeric\n",
    "# Mapping the labels with numeric values\n",
    "label_mapping = {'positive': 1, 'negative': -1, 'neutral': 0}\n",
    "\n",
    "# Converting the labels into numeric values\n",
    "converted_sen_labels = convert_labels_to_numeric(df_sen_labels,label_mapping)"
   ]
  },
  {
   "cell_type": "code",
   "execution_count": 26,
   "id": "080955c9-9568-415c-8636-3b28356c67f5",
   "metadata": {},
   "outputs": [
    {
     "data": {
      "text/html": [
       "<div>\n",
       "<style scoped>\n",
       "    .dataframe tbody tr th:only-of-type {\n",
       "        vertical-align: middle;\n",
       "    }\n",
       "\n",
       "    .dataframe tbody tr th {\n",
       "        vertical-align: top;\n",
       "    }\n",
       "\n",
       "    .dataframe thead th {\n",
       "        text-align: right;\n",
       "    }\n",
       "</style>\n",
       "<table border=\"1\" class=\"dataframe\">\n",
       "  <thead>\n",
       "    <tr style=\"text-align: right;\">\n",
       "      <th></th>\n",
       "      <th>sentences</th>\n",
       "      <th>labels</th>\n",
       "    </tr>\n",
       "  </thead>\n",
       "  <tbody>\n",
       "    <tr>\n",
       "      <th>0</th>\n",
       "      <td>mothercare plc annual report accounts www</td>\n",
       "      <td>0</td>\n",
       "    </tr>\n",
       "    <tr>\n",
       "      <th>1</th>\n",
       "      <td>mothercareplc</td>\n",
       "      <td>0</td>\n",
       "    </tr>\n",
       "    <tr>\n",
       "      <th>2</th>\n",
       "      <td>com transformation growth</td>\n",
       "      <td>0</td>\n",
       "    </tr>\n",
       "    <tr>\n",
       "      <th>3</th>\n",
       "      <td>financial highlights worldwide network sales</td>\n",
       "      <td>0</td>\n",
       "    </tr>\n",
       "    <tr>\n",
       "      <th>4</th>\n",
       "      <td>group sales</td>\n",
       "      <td>0</td>\n",
       "    </tr>\n",
       "    <tr>\n",
       "      <th>5</th>\n",
       "      <td>operating pro</td>\n",
       "      <td>0</td>\n",
       "    </tr>\n",
       "    <tr>\n",
       "      <th>6</th>\n",
       "      <td>uk operating loss</td>\n",
       "      <td>-1</td>\n",
       "    </tr>\n",
       "    <tr>\n",
       "      <th>7</th>\n",
       "      <td>n vs</td>\n",
       "      <td>0</td>\n",
       "    </tr>\n",
       "    <tr>\n",
       "      <th>8</th>\n",
       "      <td>pro</td>\n",
       "      <td>0</td>\n",
       "    </tr>\n",
       "    <tr>\n",
       "      <th>9</th>\n",
       "      <td>million last year international operating pro</td>\n",
       "      <td>0</td>\n",
       "    </tr>\n",
       "    <tr>\n",
       "      <th>10</th>\n",
       "      <td>corporate expenses</td>\n",
       "      <td>0</td>\n",
       "    </tr>\n",
       "    <tr>\n",
       "      <th>11</th>\n",
       "      <td>uk sales</td>\n",
       "      <td>0</td>\n",
       "    </tr>\n",
       "    <tr>\n",
       "      <th>12</th>\n",
       "      <td>uk retail stores direct uk wholesale sales int...</td>\n",
       "      <td>1</td>\n",
       "    </tr>\n",
       "    <tr>\n",
       "      <th>13</th>\n",
       "      <td>retail sales achieved franchise partners joint...</td>\n",
       "      <td>1</td>\n",
       "    </tr>\n",
       "    <tr>\n",
       "      <th>14</th>\n",
       "      <td>uk retail stores direct uk wholesale sales int...</td>\n",
       "      <td>1</td>\n",
       "    </tr>\n",
       "    <tr>\n",
       "      <th>15</th>\n",
       "      <td>royalty revenues landed cost goods delivered f...</td>\n",
       "      <td>0</td>\n",
       "    </tr>\n",
       "    <tr>\n",
       "      <th>16</th>\n",
       "      <td>space k sq</td>\n",
       "      <td>0</td>\n",
       "    </tr>\n",
       "    <tr>\n",
       "      <th>17</th>\n",
       "      <td>ft</td>\n",
       "      <td>0</td>\n",
       "    </tr>\n",
       "    <tr>\n",
       "      <th>18</th>\n",
       "      <td>uk stores</td>\n",
       "      <td>0</td>\n",
       "    </tr>\n",
       "    <tr>\n",
       "      <th>19</th>\n",
       "      <td>space k sq</td>\n",
       "      <td>0</td>\n",
       "    </tr>\n",
       "  </tbody>\n",
       "</table>\n",
       "</div>"
      ],
      "text/plain": [
       "                                            sentences  labels\n",
       "0           mothercare plc annual report accounts www       0\n",
       "1                                       mothercareplc       0\n",
       "2                           com transformation growth       0\n",
       "3        financial highlights worldwide network sales       0\n",
       "4                                         group sales       0\n",
       "5                                       operating pro       0\n",
       "6                                   uk operating loss      -1\n",
       "7                                                n vs       0\n",
       "8                                                 pro       0\n",
       "9       million last year international operating pro       0\n",
       "10                                 corporate expenses       0\n",
       "11                                           uk sales       0\n",
       "12  uk retail stores direct uk wholesale sales int...       1\n",
       "13  retail sales achieved franchise partners joint...       1\n",
       "14  uk retail stores direct uk wholesale sales int...       1\n",
       "15  royalty revenues landed cost goods delivered f...       0\n",
       "16                                         space k sq       0\n",
       "17                                                 ft       0\n",
       "18                                          uk stores       0\n",
       "19                                         space k sq       0"
      ]
     },
     "execution_count": 26,
     "metadata": {},
     "output_type": "execute_result"
    }
   ],
   "source": [
    "# Print the coverted dataframe\n",
    "converted_sen_labels.head(20)"
   ]
  },
  {
   "cell_type": "code",
   "execution_count": 27,
   "id": "737cff35-5e0b-44c7-85e9-6037f8746f66",
   "metadata": {},
   "outputs": [
    {
     "data": {
      "text/plain": [
       "labels\n",
       " 1    396692\n",
       " 0    301895\n",
       "-1    205911\n",
       "Name: count, dtype: int64"
      ]
     },
     "execution_count": 27,
     "metadata": {},
     "output_type": "execute_result"
    }
   ],
   "source": [
    "# Show the numeric labels summary\n",
    "numeric_labels_counts = converted_sen_labels['labels'].value_counts()\n",
    "numeric_labels_counts"
   ]
  },
  {
   "cell_type": "code",
   "execution_count": 29,
   "id": "2e7823ca-0357-44ab-b50a-2364461c65d3",
   "metadata": {},
   "outputs": [],
   "source": [
    "# Download as csv for back up\n",
    "converted_sen_labels.to_csv(\"sen_with_numeric_labels.csv\", index = False)"
   ]
  }
 ],
 "metadata": {
  "kernelspec": {
   "display_name": "Python 3 (ipykernel)",
   "language": "python",
   "name": "python3"
  },
  "language_info": {
   "codemirror_mode": {
    "name": "ipython",
    "version": 3
   },
   "file_extension": ".py",
   "mimetype": "text/x-python",
   "name": "python",
   "nbconvert_exporter": "python",
   "pygments_lexer": "ipython3",
   "version": "3.9.16"
  }
 },
 "nbformat": 4,
 "nbformat_minor": 5
}
