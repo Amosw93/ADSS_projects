{
 "cells": [
  {
   "cell_type": "markdown",
   "id": "dd9bf9b3-cbdf-490b-803a-a824dca43421",
   "metadata": {
    "tags": []
   },
   "source": [
    "# Notebook 1: Text Mining from Annual Reports and News"
   ]
  },
  {
   "cell_type": "markdown",
   "id": "2cc5575a-390d-4116-8969-49cf91cfd330",
   "metadata": {},
   "source": [
    "## ADSS summer project: Sentiment Analysis on Financial Risk and Sustainability in UK Retail Industry."
   ]
  },
  {
   "cell_type": "markdown",
   "id": "9c9055e9-f952-4bb0-8830-376efecee955",
   "metadata": {},
   "source": [
    "Student Name: Shing Fai, Wong (Amos)  \n",
    "Student Number: 720062083   \n",
    "Programme: MSc Applied Data Science and Statistics"
   ]
  },
  {
   "cell_type": "markdown",
   "id": "d40c3463-1a3a-4371-bd60-c3d1c373be58",
   "metadata": {},
   "source": [
    "This notebook is mining the text from the annual report, and then clean the sentence and label the sentiment accordingly."
   ]
  },
  {
   "cell_type": "markdown",
   "id": "b8896785-b0ee-4e8a-a442-943af5177bf9",
   "metadata": {
    "tags": []
   },
   "source": [
    "# Part A. Global functions"
   ]
  },
  {
   "cell_type": "markdown",
   "id": "80242c9a-748e-40fa-b34f-6ac3d4a24307",
   "metadata": {
    "tags": []
   },
   "source": [
    "## 1. extract_pdf_text(pdf_file)\n",
    "Function: Extracting text from pdf"
   ]
  },
  {
   "cell_type": "code",
   "execution_count": 1,
   "id": "9fd9c7fc-f734-4340-bd4f-68d51baed0e4",
   "metadata": {},
   "outputs": [],
   "source": [
    "def extract_pdf_text(pdf_file):\n",
    "    \n",
    "    \"\"\"Extracts text from a PDF\n",
    "    \n",
    "    Args:\n",
    "        pdf_file: the path to the pdf file.\n",
    "    \n",
    "    Steps:\n",
    "    Part A. Extract sentence from pdf\n",
    "        1. Read the pdf document\n",
    "        2. Create a pdf reader\n",
    "        3. Get the total numbers of pages of the pdf document\n",
    "        4. Extract text from each pages of the pdf document\n",
    "        5. Split the text into sentence by full stop\n",
    "\n",
    "    Part B. Clean the sentence\n",
    "        1. Remove empty sentence\n",
    "        2. Remove newline indicator /n\n",
    "        3. Replace mutiple conseuctive spaces with single space\n",
    "        4. Replace double quotation marks \"\" with signle quotation marks\n",
    "\n",
    "    Return:\n",
    "        A list of numbers of cleanned sentence from the pdf documents\n",
    "    \"\"\"\n",
    "    # libraries\n",
    "    import re # regular expression library to handle sentence pattern\n",
    "    import PyPDF2 # pdf library \n",
    "    \n",
    "    # Create a list to store the extracted text from each page\n",
    "    sentences = []\n",
    "    \n",
    "    ### Part A. Extract text from pdf\n",
    "    with open(pdf_file, \"rb\") as f:\n",
    "        # Create a PDF reader object\n",
    "        pdf_reader = PyPDF2.PdfReader(f)\n",
    "        num_pages = len(pdf_reader.pages)\n",
    "        \n",
    "        # Iteration over each page of the PDF and extract the text content\n",
    "        for page_num in range(num_pages):\n",
    "            page = pdf_reader.pages[page_num]\n",
    "            text = page.extract_text()\n",
    "        \n",
    "            # split the text into sentences\n",
    "            sentences.extend(text.split('.'))\n",
    "    \n",
    "    ### Part B. Clean the sentence\n",
    "    # Remove any empty sentences\n",
    "    sentences = [sentence.strip() for sentence in sentences if sentence.strip()]\n",
    "    \n",
    "    # Remove any /n indicating newline characters\n",
    "    sentences = [sentence.replace('\\n', ' ') for sentence in sentences]\n",
    "    \n",
    "    # Replace any mulitple consecutive spaces with a single space '\\s+'\n",
    "    sentences = [re.sub(r'\\s+', ' ', sentence) for sentence in sentences]\n",
    "    \n",
    "    # Replace any double quotation marks \"\" with a single\n",
    "    sentences = [re.sub(r'\"\"', '\"', sentence) for sentence in sentences]\n",
    "\n",
    "    return sentences\n",
    "    # End"
   ]
  },
  {
   "cell_type": "markdown",
   "id": "8a5bd3a9-67ef-4848-aca8-3463a0dff065",
   "metadata": {},
   "source": [
    "Output:"
   ]
  },
  {
   "cell_type": "code",
   "execution_count": 2,
   "id": "f6b9f5cb-72c3-4d7f-8136-db4930e489ca",
   "metadata": {},
   "outputs": [
    {
     "name": "stdout",
     "output_type": "stream",
     "text": [
      "Total number of sentences: 3295\n",
      "\n",
      "Print the first 5 sentences: ['Annual Report and Financial Statements 2012 Annual Report and Financial Statements 2012', 'Welcome to our Annual Report and Financial Statements 2012 It’s an exciting time for Sainsbury’s', 'Our clear, long-term strategy continues to deliver for our customers, ensuring we are well positioned for future growth', 'In recent years we have transformed our business, while remaining true to our 143 year heritage', 'By offering universal appeal we are helping our customers Live Well for Less']\n",
      "\n",
      "Data type: <class 'list'>\n"
     ]
    }
   ],
   "source": [
    "pdf_file_path = \"AR/sainsbury/sainsbury-ar2012.pdf\"\n",
    "extracted_sentences = extract_pdf_text(pdf_file_path)\n",
    "\n",
    "# print the total number of sentences\n",
    "print(f\"Total number of sentences: {len(extracted_sentences)}\")\n",
    "print(\"\")\n",
    "# print the first 5 sentences\n",
    "print(f'Print the first 5 sentences: {extracted_sentences[:5]}')\n",
    "print(f\"\\nData type: {type(extracted_sentences)}\")"
   ]
  },
  {
   "cell_type": "markdown",
   "id": "47af4b1c-7828-4bf1-8683-14bbe49686a7",
   "metadata": {
    "tags": []
   },
   "source": [
    "## 2. standardize_sentences(extracted_sentences)\n",
    "Function: lowering, removing punctuation, numbers, stopwords."
   ]
  },
  {
   "cell_type": "code",
   "execution_count": 3,
   "id": "46e45e59-5eb9-48d8-ad97-8f035059da1b",
   "metadata": {},
   "outputs": [],
   "source": [
    "def standardize_sentences(extracted_sentences):\n",
    "    \"\"\"\n",
    "    Lowercases all texts, removes punctuation, numbers, and stopwords.\n",
    "\n",
    "    Args:\n",
    "        extracted_sentences: Extracted and cleaned sentences from the PDF.\n",
    "\n",
    "    Steps:\n",
    "        1. Convert text to lowercase\n",
    "        2. Remove punctuation and numbers\n",
    "        3. Remove stopwords such as \"the,\" \"and,\" \"is,\" \"a,\" which are commonly used\n",
    "           without any sentiment.\n",
    "\n",
    "    Return:\n",
    "        A list of sentences with all lowercase text,\n",
    "        without punctuation, numbers, and stopwords.\n",
    "    \"\"\"\n",
    "\n",
    "    import re  # regular expression library to handle sentence pattern\n",
    "    from nltk.corpus import stopwords  # natural language toolkit stopwords module\n",
    "\n",
    "    clean_sentences = []  # storing the cleaned sentences\n",
    "    stop_words = set(stopwords.words('english'))  # using English stopwords\n",
    "\n",
    "    # iteration over each extracted sentence and then preprocess the sentence\n",
    "    for sentence in extracted_sentences:\n",
    "        # Convert text to lowercase\n",
    "        lower_text = sentence.lower()\n",
    "\n",
    "        # Remove punctuation and numbers\n",
    "        # [^a-zA-Z] regular expression for non-English characters\n",
    "        removed_punc_num = re.sub('[^a-zA-Z]', ' ', lower_text)\n",
    "\n",
    "        # Remove stopwords\n",
    "        # iteration over each word and check whether it matches with the stopwords\n",
    "        # If the word does not match with the stopword, then join into a sentence using a single separator \" \"\n",
    "        clean_sentence = ' '.join(word for word in removed_punc_num.split() if word not in stop_words)\n",
    "\n",
    "        # Append the preprocessed sentence to the list\n",
    "        clean_sentences.append(clean_sentence)\n",
    "\n",
    "    return clean_sentences\n"
   ]
  },
  {
   "cell_type": "markdown",
   "id": "1e8117cc-db18-4a46-a7f6-e5dde71d3b5a",
   "metadata": {},
   "source": [
    "Output:"
   ]
  },
  {
   "cell_type": "code",
   "execution_count": 4,
   "id": "500f563d-919f-40fb-a398-4cceeb5c04a6",
   "metadata": {},
   "outputs": [
    {
     "name": "stdout",
     "output_type": "stream",
     "text": [
      "Intel MKL WARNING: Support of Intel(R) Streaming SIMD Extensions 4.2 (Intel(R) SSE4.2) enabled only processors has been deprecated. Intel oneAPI Math Kernel Library 2025.0 will require Intel(R) Advanced Vector Extensions (Intel(R) AVX) instructions.\n",
      "Intel MKL WARNING: Support of Intel(R) Streaming SIMD Extensions 4.2 (Intel(R) SSE4.2) enabled only processors has been deprecated. Intel oneAPI Math Kernel Library 2025.0 will require Intel(R) Advanced Vector Extensions (Intel(R) AVX) instructions.\n",
      "Total number of preprocessed sentences: 3295\n",
      "\n",
      "Print the first 5 sentences: ['annual report financial statements annual report financial statements', 'welcome annual report financial statements exciting time sainsbury', 'clear long term strategy continues deliver customers ensuring well positioned future growth', 'recent years transformed business remaining true year heritage', 'offering universal appeal helping customers live well less']\n"
     ]
    }
   ],
   "source": [
    "clean_sentences = standardize_sentences(extracted_sentences)\n",
    "\n",
    "# Print the preprocessed sentences\n",
    "print(f\"Total number of preprocessed sentences: {len(clean_sentences)}\")\n",
    "print(\"\")\n",
    "# print the first 5 sentences\n",
    "print(f'Print the first 5 sentences: {clean_sentences[:5]}')"
   ]
  },
  {
   "cell_type": "markdown",
   "id": "62cbc2f9-3b4e-4cea-b334-fcc191e5a06e",
   "metadata": {
    "tags": []
   },
   "source": [
    "## 3. label_sentences(sentences, word_list)\n",
    "Function: labeling the sentences as negative, positive, or neutral based on the given word list."
   ]
  },
  {
   "cell_type": "code",
   "execution_count": 5,
   "id": "24cf2cc8-da9a-483e-840a-4b96a87bf28f",
   "metadata": {},
   "outputs": [],
   "source": [
    "def label_sentences(sentences, word_list):\n",
    "    \"\"\"\n",
    "    Labels sentences as negative, positive, or neutral based on the given word list.\n",
    "\n",
    "    Args:\n",
    "        sentences: List of preprocessed sentences.\n",
    "        word_list: DataFrame containing financial words and their sentiment.\n",
    "\n",
    "    Returns:\n",
    "        DataFrame with sentences and labels.\n",
    "    \"\"\"\n",
    "    import pandas as pd\n",
    "    \n",
    "    labels = []\n",
    "    positive_words = set(word_list[word_list['sentiment'] == 'Positive']['word'])\n",
    "    negative_words = set(word_list[word_list['sentiment'] == 'Negative']['word'])\n",
    "\n",
    "    for sentence in sentences:\n",
    "        words = sentence.split()\n",
    "        if any(word in positive_words for word in words):\n",
    "            labels.append('positive')\n",
    "        elif any(word in negative_words for word in words):\n",
    "            labels.append('negative')\n",
    "        else:\n",
    "            labels.append('neutral')\n",
    "\n",
    "    # Create a DataFrame with sentences and labels\n",
    "    data = pd.DataFrame({'sentences': sentences, 'labels': labels})\n",
    "\n",
    "    return data\n"
   ]
  },
  {
   "cell_type": "markdown",
   "id": "268af6f8-1e96-44a3-b31d-b6d7386a00d9",
   "metadata": {},
   "source": [
    "output:"
   ]
  },
  {
   "cell_type": "code",
   "execution_count": 6,
   "id": "1f48b075-ce49-4fec-8f9c-1885109ef8d4",
   "metadata": {},
   "outputs": [
    {
     "name": "stdout",
     "output_type": "stream",
     "text": [
      "                                            sentences    labels\n",
      "0   annual report financial statements annual repo...   neutral\n",
      "1   welcome annual report financial statements exc...  positive\n",
      "2   clear long term strategy continues deliver cus...  positive\n",
      "3   recent years transformed business remaining tr...  negative\n",
      "4   offering universal appeal helping customers li...  positive\n",
      "5   delivering business strategy five areas focus ...  positive\n",
      "6   know colleagues culture values make us differe...  positive\n",
      "7                                    find j sainsbury  positive\n",
      "8                                                  co   neutral\n",
      "9   uk cover picture taken tv advertising campaign...  positive\n",
      "10  advertisement achieved record ratings likeabil...  positive\n",
      "11  first store opened london drury lanevision goa...  positive\n",
      "12  sainsbury founded john james sainsbury wife ma...  positive\n",
      "13  make customers lives easier every day offering...  positive\n",
      "14  years strong began recruiting women work store...  positive\n",
      "15  put customers heart everything invested stores...  positive\n",
      "16  strong culture values part identity integral s...  positive\n",
      "17                                    aste difference  negative\n",
      "18                            ales growth b sainsbury   neutral\n",
      "19                              sales g rowth b asics   neutral\n",
      "20  sales growth ver half brand match c oupons sho...  negative\n"
     ]
    }
   ],
   "source": [
    "import pandas as pd\n",
    "\n",
    "financial_words = pd.read_csv(\"word_list/Loughran_McDonald_Sentiment_Word_List.csv\")\n",
    "\n",
    "# Apply label_sentences function to the clean_sentences\n",
    "df = label_sentences(clean_sentences, financial_words)\n",
    "\n",
    "# Print the selected rows of the dataset\n",
    "print(df.loc[0:20,:])"
   ]
  },
  {
   "cell_type": "markdown",
   "id": "3667b0da-aea6-44de-b90e-e8177d8ff5f2",
   "metadata": {
    "jp-MarkdownHeadingCollapsed": true,
    "tags": []
   },
   "source": [
    "## 4. convert_labels_to_numeric(data, label_mapping)\n",
    "\n",
    "Function: Converting categorical labels into numeric values based on the provided label mapping."
   ]
  },
  {
   "cell_type": "code",
   "execution_count": 7,
   "id": "43dd596c-ce4d-4b13-b58a-a94bb57d3f6e",
   "metadata": {},
   "outputs": [],
   "source": [
    "def convert_labels_to_numeric(data, label_mapping):\n",
    "    \"\"\"\n",
    "    Converts categorical labels into numeric values based on the provided label mapping.\n",
    "    \n",
    "    Args:\n",
    "        data (pd.DataFrame): DataFrame containing sentences and labels.\n",
    "        label_mapping (dict): Mapping of categorical labels to numeric values.\n",
    "        \n",
    "    Returns:\n",
    "        pd.DataFrame: DataFrame with labels converted to numeric values.\n",
    "    \"\"\"\n",
    "    # Create a copy of the DataFrame to avoid modifying the original data\n",
    "    converted_data = data.copy()\n",
    "    \n",
    "    # Convert labels to numeric values\n",
    "    converted_data['labels'] = converted_data['labels'].map(label_mapping)\n",
    "    \n",
    "    return converted_data\n"
   ]
  },
  {
   "cell_type": "code",
   "execution_count": 8,
   "id": "b7ff2962-88be-4ab6-8814-87e672e4fe9b",
   "metadata": {},
   "outputs": [
    {
     "name": "stdout",
     "output_type": "stream",
     "text": [
      "                                            sentences  labels\n",
      "0   annual report financial statements annual repo...       0\n",
      "1   welcome annual report financial statements exc...       1\n",
      "2   clear long term strategy continues deliver cus...       1\n",
      "3   recent years transformed business remaining tr...      -1\n",
      "4   offering universal appeal helping customers li...       1\n",
      "5   delivering business strategy five areas focus ...       1\n",
      "6   know colleagues culture values make us differe...       1\n",
      "7                                    find j sainsbury       1\n",
      "8                                                  co       0\n",
      "9   uk cover picture taken tv advertising campaign...       1\n",
      "10  advertisement achieved record ratings likeabil...       1\n",
      "11  first store opened london drury lanevision goa...       1\n",
      "12  sainsbury founded john james sainsbury wife ma...       1\n",
      "13  make customers lives easier every day offering...       1\n",
      "14  years strong began recruiting women work store...       1\n",
      "15  put customers heart everything invested stores...       1\n",
      "16  strong culture values part identity integral s...       1\n",
      "17                                    aste difference      -1\n",
      "18                            ales growth b sainsbury       0\n",
      "19                              sales g rowth b asics       0\n"
     ]
    }
   ],
   "source": [
    "# Define label mapping\n",
    "label_mapping = {'positive': 1, 'negative': -1, 'neutral': 0}\n",
    "\n",
    "# Convert labels to numeric values\n",
    "converted_df = convert_labels_to_numeric(df, label_mapping)\n",
    "\n",
    "# Print the first few rows of the converted data\n",
    "print(converted_df.iloc[0:20,:])"
   ]
  },
  {
   "cell_type": "markdown",
   "id": "6cce7f7b-374e-4b87-b062-fbd03e4b0fd6",
   "metadata": {
    "tags": []
   },
   "source": [
    "## 5. split_the_dataset(dataset, training_size)\n",
    "Function: Spliting the dataset into training and testing sets."
   ]
  },
  {
   "cell_type": "code",
   "execution_count": 9,
   "id": "ba89b4db-4a06-4b76-b87a-ec05662a3e5f",
   "metadata": {},
   "outputs": [],
   "source": [
    "def split_the_dataset(dataset, training_size):\n",
    "    \"\"\"\n",
    "    Splits the dataset into training and testing sets.\n",
    "\n",
    "    Args:\n",
    "        dataset: The dataset to be split.\n",
    "        training_size: The proportion of the dataset to be used for training.\n",
    "\n",
    "    Returns:\n",
    "        Two datasets: the training dataset and the testing dataset.\n",
    "    \"\"\"\n",
    "    # library\n",
    "    from sklearn.model_selection import train_test_split\n",
    "    \n",
    "    # Split the dataset into training and testing sets\n",
    "    training_data, testing_data = train_test_split(dataset, \n",
    "                                                   train_size=training_size, \n",
    "                                                   random_state=42)\n",
    "    \n",
    "    return training_data, testing_data"
   ]
  },
  {
   "cell_type": "markdown",
   "id": "a1f26251-4bf1-4cf0-8213-a82e9f642bb6",
   "metadata": {},
   "source": [
    "Output:"
   ]
  },
  {
   "cell_type": "code",
   "execution_count": 10,
   "id": "ec583d48-0c90-4301-8471-b5960b673533",
   "metadata": {},
   "outputs": [
    {
     "name": "stdout",
     "output_type": "stream",
     "text": [
      "There are 2636 in the training sentences data.\n",
      "The following are the training sentences: \n",
      "2989    arose normal course business immaterial group ...\n",
      "2882    details options march set date grant ate expir...\n",
      "2643    group considers basis point increase reasonabl...\n",
      "436     per cent year year facilitated part b overall ...\n",
      "2215    property leases land building elements treated...\n",
      "                              ...                        \n",
      "1095                                                   co\n",
      "1130      committee terms reference available website www\n",
      "1294    key r isk facing group area relates reducing e...\n",
      "860     ddition shareholders asked renew general autho...\n",
      "3174    implications capital gains tax purposes gain l...\n",
      "Name: sentences, Length: 2636, dtype: object\n",
      "\n",
      "\n",
      "There are 2636 in the testing sentences data.\n",
      "The following are the training sentences: \n",
      "3101                                                     \n",
      "3164    telephone freephone quote sainsbury computersh...\n",
      "3102                                                     \n",
      "1947    j sainsbury plc annual report financial statem...\n",
      "2400             per cent financial year commencing april\n",
      "                              ...                        \n",
      "802     gwyn nearly years business experience includin...\n",
      "2308    evidence exists available sale financial asset...\n",
      "839     corporate governance statementthe corporate go...\n",
      "817         appointed group development irector september\n",
      "69      tenure remuneration c ommittee progressively i...\n",
      "Name: sentences, Length: 659, dtype: object\n"
     ]
    }
   ],
   "source": [
    "training_size = 0.8\n",
    "sentences = converted_df[\"sentences\"]\n",
    "labels = converted_df[\"labels\"]\n",
    "\n",
    "# Split the sentences\n",
    "training_sentences, testing_sentences = split_the_dataset(sentences, training_size)\n",
    "\n",
    "# Print the training sentences dataframe\n",
    "print(f\"There are {len(training_sentences)} in the training sentences data.\")\n",
    "print(\"The following are the training sentences: \")\n",
    "print(training_sentences)\n",
    "\n",
    "# Print the testing sentences dataframe\n",
    "print(\"\")\n",
    "print(\"\")\n",
    "print(f\"There are {len(training_sentences)} in the testing sentences data.\")\n",
    "print(\"The following are the training sentences: \")\n",
    "print(testing_sentences)"
   ]
  },
  {
   "cell_type": "code",
   "execution_count": 11,
   "id": "8035b3ab-68b7-4b81-9d72-e22815395c47",
   "metadata": {},
   "outputs": [
    {
     "name": "stdout",
     "output_type": "stream",
     "text": [
      "There are 2636 in the training label data.\n",
      "The following are the training labels: \n",
      "2989   -1\n",
      "2882    1\n",
      "2643    1\n",
      "436     1\n",
      "2215   -1\n",
      "       ..\n",
      "1095    0\n",
      "1130   -1\n",
      "1294   -1\n",
      "860     1\n",
      "3174    1\n",
      "Name: labels, Length: 2636, dtype: int64\n",
      "\n",
      "\n",
      "There are 659 in the testing label data.\n",
      "The following are the training labels: \n",
      "3101    0\n",
      "3164    1\n",
      "3102    0\n",
      "1947   -1\n",
      "2400    0\n",
      "       ..\n",
      "802    -1\n",
      "2308   -1\n",
      "839    -1\n",
      "817    -1\n",
      "69      1\n",
      "Name: labels, Length: 659, dtype: int64\n"
     ]
    }
   ],
   "source": [
    "# Split the labels\n",
    "training_labels, testing_labels = split_the_dataset(labels, training_size)\n",
    "\n",
    "# Print the training sentences dataframe\n",
    "print(f\"There are {len(training_labels)} in the training label data.\")\n",
    "print(\"The following are the training labels: \")\n",
    "print(training_labels)\n",
    "\n",
    "# Print the testing sentences dataframe\n",
    "print(\"\")\n",
    "print(\"\")\n",
    "print(f\"There are {len(testing_labels)} in the testing label data.\")\n",
    "print(\"The following are the training labels: \")\n",
    "print(testing_labels)"
   ]
  },
  {
   "cell_type": "markdown",
   "id": "90d271b6-b172-4c03-bfda-11948f6de71b",
   "metadata": {
    "tags": []
   },
   "source": [
    "## 6. tokenize_pad_sequences(sentences, num_words, oov_token, maxlen, padding, truncating)\n",
    "Function: Tokenize the text from sentences and pad the sequences"
   ]
  },
  {
   "cell_type": "code",
   "execution_count": 12,
   "id": "d7451cd5-c3e5-4b6c-a0d0-9daf9accccca",
   "metadata": {},
   "outputs": [],
   "source": [
    "def tokenize_pad_sequences(sentences, num_words, oov_token, maxlen, padding, truncating):\n",
    "    \"\"\"Tokenize the text from sentences and pad the sequences\n",
    "    Args:\n",
    "        1. sentences: A list of cleaned and preprocessed sentences.\n",
    "        2. num_words: An integer specifying the maximum number of words \n",
    "        to keep based on word frequency.\n",
    "        3. oov_token: A string specifying the out-of-vocabulary token to \n",
    "        be used for words not present in the tokenizer's word index.\n",
    "        4. maxlen: An integer specifying the maximum length of the sequences.\n",
    "        5. padding: A string specifying the padding type to use. It can be either 'pre' or 'post'.\n",
    "        6. truncating: A string specifying the truncation type to use. It can be \n",
    "        either 'pre' or 'post'.\n",
    "    \"\"\"\n",
    "    \n",
    "    # library\n",
    "    from tensorflow.keras.preprocessing.text import Tokenizer\n",
    "    from tensorflow.keras.preprocessing.sequence import pad_sequences\n",
    "    \n",
    "    # Initialize the Tokenizer class\n",
    "    tokenizer = Tokenizer(num_words=num_words, oov_token=oov_token)\n",
    "    \n",
    "    # Split each sentence into words\n",
    "    tokenized_sentences = [sentence.split() for sentence in sentences]\n",
    "\n",
    "    # Generate indices for each word in the corpus\n",
    "    tokenizer.fit_on_texts(tokenized_sentences)\n",
    "\n",
    "    # Get the indices\n",
    "    word_index = tokenizer.word_index\n",
    "    \n",
    "    # Generate list of token sequences\n",
    "    sequences = tokenizer.texts_to_sequences(tokenized_sentences)\n",
    "    \n",
    "    # Pad the sequences with the assigned length, padding, and truncating\n",
    "    padded_sequences = pad_sequences(sequences, maxlen=maxlen, padding=padding, truncating=truncating)\n",
    "    \n",
    "    return tokenizer, word_index, sequences, padded_sequences\n"
   ]
  },
  {
   "cell_type": "markdown",
   "id": "8579f5b9-2dba-4124-98b3-a28fdc10e45e",
   "metadata": {
    "tags": []
   },
   "source": [
    "## 7. summary_tokpad(padded_sentences, start_index, end_index)\n",
    "Function: Printing a summary of the tokenization and padding process for a given range of entries."
   ]
  },
  {
   "cell_type": "code",
   "execution_count": 13,
   "id": "e188d8dd-db5e-45a4-afab-5c4af88d8122",
   "metadata": {},
   "outputs": [],
   "source": [
    "def summary_tokpad(padded_sentences, start_index, end_index):\n",
    "    \n",
    "    \"\"\"\n",
    "    Prints a summary of the tokenization and padding process for a given range of entries.\n",
    "\n",
    "    Args:\n",
    "        padded_sentences: A tuple containing the word index, sequences, and padded sequences.\n",
    "        start_index: The starting index of the entries to be summarized.\n",
    "        end_index: The ending index of the entries to be summarized.\n",
    "\n",
    "    Returns:\n",
    "        None (Prints the summary to the console).\n",
    "    \"\"\"\n",
    "    \n",
    "    # Retrieve the word index, sequences, and padded sequences\n",
    "    word_index = padded_sentences[1]\n",
    "    sequences = padded_sentences[2]\n",
    "    padded_sequences = padded_sentences[3]\n",
    "\n",
    "    # Print the assigned number of entries of the word index\n",
    "    print(f\"start index: {start_index}\")\n",
    "    print(f\"end index: {end_index}\")\n",
    "    print(\"Summary of the tokenization and padding:\")\n",
    "    print(\"\\nSelected Word Index:\")\n",
    "    for word, index in list(word_index.items())[start_index:end_index]:\n",
    "        print(f\"{word}: {index}\")\n",
    "\n",
    "    # Print the selected sentences\n",
    "    print(\"\\nSelected Sentences:\")\n",
    "    for sentence in sequences[start_index:end_index]:\n",
    "        print(sentence)\n",
    "\n",
    "    # Print the selected padded sequences\n",
    "    print(\"\\nSelected Padded Sequences:\")\n",
    "    for padded_seq in padded_sequences[start_index:end_index]:\n",
    "        print(padded_seq)\n"
   ]
  },
  {
   "cell_type": "markdown",
   "id": "f2bea646-de2f-46f6-bc61-0f822efe623f",
   "metadata": {},
   "source": [
    "Output:"
   ]
  },
  {
   "cell_type": "code",
   "execution_count": 14,
   "id": "1ab9c448-7c15-4e43-86e7-37a5efd7fab2",
   "metadata": {},
   "outputs": [],
   "source": [
    "# Global parameters\n",
    "num_words = 100\n",
    "oov_token = '<OOV>'\n",
    "maxlen = 5\n",
    "padding = 'post'\n",
    "truncating = 'post'\n",
    "\n",
    "# sentences to be tokenized and padded\n",
    "sentences = clean_sentences"
   ]
  },
  {
   "cell_type": "code",
   "execution_count": 15,
   "id": "f9247523-b992-4b55-9c3e-df6f8a220285",
   "metadata": {},
   "outputs": [
    {
     "name": "stderr",
     "output_type": "stream",
     "text": [
      "2023-06-22 18:44:27.863043: I tensorflow/core/platform/cpu_feature_guard.cc:193] This TensorFlow binary is optimized with oneAPI Deep Neural Network Library (oneDNN) to use the following CPU instructions in performance-critical operations:  SSE4.1 SSE4.2\n",
      "To enable them in other operations, rebuild TensorFlow with the appropriate compiler flags.\n"
     ]
    }
   ],
   "source": [
    "# tokenize and padded the sentences\n",
    "padded_sentences = tokenize_pad_sequences(sentences, num_words, oov_token, maxlen, padding, truncating)"
   ]
  },
  {
   "cell_type": "code",
   "execution_count": 16,
   "id": "c3b55bbb-1663-4f77-90d4-49c794039931",
   "metadata": {},
   "outputs": [
    {
     "name": "stdout",
     "output_type": "stream",
     "text": [
      "start index: 0\n",
      "end index: 5\n",
      "Summary of the tokenization and padding:\n",
      "\n",
      "Selected Word Index:\n",
      "<OOV>: 1\n",
      "financial: 2\n",
      "year: 3\n",
      "million: 4\n",
      "group: 5\n",
      "\n",
      "Selected Sentences:\n",
      "[34, 15, 2, 9, 34, 15, 2, 9]\n",
      "[1, 34, 15, 2, 9, 1, 1, 6]\n",
      "[1, 1, 66, 1, 1, 1, 67, 1, 1, 1, 1, 59]\n",
      "[1, 55, 1, 26, 1, 1, 3, 1]\n",
      "[1, 1, 1, 1, 67, 1, 1, 1]\n",
      "\n",
      "Selected Padded Sequences:\n",
      "[34 15  2  9 34]\n",
      "[ 1 34 15  2  9]\n",
      "[ 1  1 66  1  1]\n",
      "[ 1 55  1 26  1]\n",
      "[ 1  1  1  1 67]\n"
     ]
    }
   ],
   "source": [
    "# Using the global function summary_tokpad()\n",
    "summary_tokpad(padded_sentences, 0, 5)"
   ]
  },
  {
   "cell_type": "markdown",
   "id": "c4b59b54-21b4-4065-8eac-d7c11dd72e10",
   "metadata": {
    "tags": []
   },
   "source": [
    "## 8. scrap_yahoo_news(stock_sym, start_date, end_date)\n",
    "Function: Scrapes Yahoo Finance news search results for a given query and date range."
   ]
  },
  {
   "cell_type": "code",
   "execution_count": 17,
   "id": "70c07434-9632-417f-b778-6449c34a7d37",
   "metadata": {},
   "outputs": [],
   "source": [
    "def scrap_yahoo_news(stock_sym, start_date, end_date):\n",
    "    \"\"\"\n",
    "    Scrapes Yahoo Finance news search results for a given query and date range.\n",
    "\n",
    "    Args:\n",
    "        stock_sym (str): The stock symbol\n",
    "        start_date (str): \"YYYY-MM-DD\"\n",
    "        end_date (str): \"YYYY-MM-DD\"\n",
    "\n",
    "    Returns:\n",
    "        list: A list of sentences extracted from the news articles.\n",
    "\n",
    "    \"\"\"\n",
    "    # Library\n",
    "    import requests\n",
    "    from bs4 import BeautifulSoup\n",
    "    import re\n",
    "\n",
    "    # Format the query and date range in the URL\n",
    "    formatted_query = stock_sym.replace(\" \", \"+\")\n",
    "    url = f\"https://search.yahoo.com/search?p={formatted_query}+news&b={start_date}&bt={end_date}\"\n",
    "\n",
    "    # Send a GET request to the search results page\n",
    "    response = requests.get(url)\n",
    "\n",
    "    # Create a BeautifulSoup object to parse the HTML content\n",
    "    soup = BeautifulSoup(response.content, 'html.parser')\n",
    "\n",
    "    # Find the news articles on the search results page\n",
    "    articles = soup.find_all(\"div\", class_=\"algo-sr\")\n",
    "\n",
    "    # Create a list to store the extracted content\n",
    "    contents = []\n",
    "\n",
    "    # Loop through the articles and extract the content\n",
    "    for article in articles:\n",
    "        content = article.find(\"p\").text.strip()\n",
    "        \n",
    "        # Remove the date using regex\n",
    "        content_without_date = re.sub(r\"[A-Za-z]+\\s+\\d{1,2},\\s+\\d{4}\\s*·\\s*\", \"\", content)\n",
    "        \n",
    "        contents.append(content_without_date)\n",
    "\n",
    "    # Combine the content into a single string\n",
    "    combined_content = ' '.join(contents)\n",
    "\n",
    "    # Split the combined content into sentences\n",
    "    sentences = re.split(r'(?<=[.!?])\\s+', combined_content)\n",
    "\n",
    "    return sentences\n",
    "\n"
   ]
  },
  {
   "cell_type": "markdown",
   "id": "d8624148-e2e2-456a-8ce2-1078c2506eab",
   "metadata": {},
   "source": [
    "Output:"
   ]
  },
  {
   "cell_type": "code",
   "execution_count": 18,
   "id": "b6023326-9f4f-43a0-b5cb-2e8039fe03e0",
   "metadata": {},
   "outputs": [
    {
     "name": "stdout",
     "output_type": "stream",
     "text": [
      "Extracted sentences from the news SBRY.L\n"
     ]
    },
    {
     "data": {
      "text/plain": [
       "['Get J Sainsbury PLC (SBRY.L) real-time stock quotes, news, price and financial information from Reuters to inform your trading and investments Find the latest J Sainsbury plc (SBRY.L) stock quote, history, news and other vital information to help you with your stock trading and investing.',\n",
       " 'Get the latest J Sainsbury plc (SBRY.L) stock news and headlines to help you in your trading and investing decisions.',\n",
       " 'Get the latest J Sainsbury plc (SBRY) real-time quote, historical performance, charts, and other financial information to help you make more informed trading and investment decisions.',\n",
       " 'J Sainsbury PLC SBRY.L Latest Trade 278 GBp 0 0.00% As of May 23 2023.',\n",
       " \"Values delayed up to 15 minutes Today's Range -- - -- 52 Week Range 168.70 - 291.00 Profile Charts Financials Key Metrics...\"]"
      ]
     },
     "execution_count": 18,
     "metadata": {},
     "output_type": "execute_result"
    }
   ],
   "source": [
    "# Define the search query and date range\n",
    "query = \"SBRY.L\"\n",
    "start_date = \"2022-05-01\"\n",
    "end_date = \"2022-05-30\"\n",
    "\n",
    "# Extract the news content\n",
    "example = scrap_yahoo_news(query, start_date, end_date)\n",
    "\n",
    "# Print the result\n",
    "print(f\"Extracted sentences from the news {query}\")\n",
    "example[:5]"
   ]
  },
  {
   "cell_type": "markdown",
   "id": "63ec0d46-0501-4602-837c-3150e76e9ad9",
   "metadata": {
    "tags": []
   },
   "source": [
    "## 9. Removing pdf encryption"
   ]
  },
  {
   "cell_type": "code",
   "execution_count": 19,
   "id": "24dc504d-498b-4639-80b0-17d96bbf9f37",
   "metadata": {},
   "outputs": [],
   "source": [
    "def remove_pdf_encryption(input_path, output_path):\n",
    "    \"\"\"\n",
    "    Function to remove security settings from a PDF file.\n",
    "    \n",
    "    Args:\n",
    "        input_path (str): The path to the input PDF file.\n",
    "        output_path (str): The path to save the output PDF file without security settings.\n",
    "    \"\"\"\n",
    "    import PyPDF2\n",
    "    \n",
    "    with open(input_path, 'rb') as file:\n",
    "        pdf_reader = PyPDF2.PdfReader(file)\n",
    "        if pdf_reader.is_encrypted:\n",
    "            pdf_reader.decrypt('')\n",
    "        \n",
    "        pdf_writer = PyPDF2.PdfWriter()\n",
    "        for page in pdf_reader.pages:\n",
    "            pdf_writer.add_page(page)\n",
    "        \n",
    "        with open(output_path, 'wb') as output_file:\n",
    "            pdf_writer.write(output_file)"
   ]
  },
  {
   "cell_type": "code",
   "execution_count": 20,
   "id": "4f66b05f-2479-4911-b51e-5fb6cabedac4",
   "metadata": {},
   "outputs": [],
   "source": [
    "# Specify the input and output paths\n",
    "# input_pdf_path = \"AR/morrisons/morri-ar2017.pdf\"\n",
    "# output_pdf_path = \"AR/morrisons/morri-ar2017_removed.pdf\"\n",
    "\n",
    "# Call the function to remove security settings\n",
    "# remove_pdf_encryption(input_pdf_path, output_pdf_path)"
   ]
  },
  {
   "cell_type": "markdown",
   "id": "6c42e0fb-3f6b-43b9-abef-920c7c1e7a6c",
   "metadata": {
    "tags": []
   },
   "source": [
    "# Part B. Annual Reports Extraction (pdf)"
   ]
  },
  {
   "cell_type": "markdown",
   "id": "c87e6d41-8b1b-4c81-9cb7-236b54596cd3",
   "metadata": {
    "tags": []
   },
   "source": [
    "## B1. Sainsbury"
   ]
  },
  {
   "cell_type": "markdown",
   "id": "59158f93-2196-47b5-98fb-448eb2133647",
   "metadata": {},
   "source": [
    "Using global function to extract the texts from the annual report."
   ]
  },
  {
   "cell_type": "code",
   "execution_count": 21,
   "id": "4922fa34-f854-4766-b58c-9beed6567488",
   "metadata": {},
   "outputs": [],
   "source": [
    "# Setting the path of 11 years Sainsbury annual reports\n",
    "sainsbury_2022_path = \"AR/sainsbury/sainsbury-ar2022.pdf\"\n",
    "sainsbury_2021_path = \"AR/sainsbury/sainsbury-ar2021.pdf\"\n",
    "sainsbury_2020_path = \"AR/sainsbury/sainsbury-ar2020.pdf\"\n",
    "sainsbury_2019_path = \"AR/sainsbury/sainsbury-ar2019.pdf\"\n",
    "sainsbury_2018_path = \"AR/sainsbury/sainsbury-ar2018.pdf\"\n",
    "sainsbury_2017_path = \"AR/sainsbury/sainsbury-ar2017.pdf\"\n",
    "sainsbury_2016_path = \"AR/sainsbury/sainsbury-ar2016.pdf\"\n",
    "sainsbury_2015_path = \"AR/sainsbury/sainsbury-ar2015.pdf\"\n",
    "sainsbury_2014_path = \"AR/sainsbury/sainsbury-ar2014.pdf\"\n",
    "sainsbury_2013_path = \"AR/sainsbury/sainsbury-ar2013.pdf\"\n",
    "sainsbury_2012_path = \"AR/sainsbury/sainsbury-ar2012.pdf\""
   ]
  },
  {
   "cell_type": "code",
   "execution_count": 22,
   "id": "468a9473-1867-405f-8aa6-e446614e1f65",
   "metadata": {},
   "outputs": [],
   "source": [
    "# Extract text from sainsbury annual report\n",
    "sain_sen_2022 = extract_pdf_text(sainsbury_2022_path)\n",
    "sain_sen_2021 = extract_pdf_text(sainsbury_2021_path)\n",
    "sain_sen_2020 = extract_pdf_text(sainsbury_2020_path)\n",
    "sain_sen_2019 = extract_pdf_text(sainsbury_2019_path)\n",
    "sain_sen_2018 = extract_pdf_text(sainsbury_2018_path)\n",
    "sain_sen_2017 = extract_pdf_text(sainsbury_2017_path)\n",
    "sain_sen_2016 = extract_pdf_text(sainsbury_2016_path)\n",
    "sain_sen_2015 = extract_pdf_text(sainsbury_2015_path)\n",
    "sain_sen_2014 = extract_pdf_text(sainsbury_2014_path)\n",
    "sain_sen_2013 = extract_pdf_text(sainsbury_2013_path)\n",
    "sain_sen_2012 = extract_pdf_text(sainsbury_2012_path)\n"
   ]
  },
  {
   "cell_type": "markdown",
   "id": "01fe7d44-973b-4c1a-a113-ae913d7e2a7a",
   "metadata": {},
   "source": [
    "Print the sentences from the annual report from 2021 and 2014."
   ]
  },
  {
   "cell_type": "code",
   "execution_count": 23,
   "id": "4ab2e623-a42a-4c73-81ba-9e1b3f5ee9a8",
   "metadata": {},
   "outputs": [
    {
     "name": "stdout",
     "output_type": "stream",
     "text": [
      "Total number of sentences: 5308\n",
      "\n",
      "Print the first 5 sentences: ['Annual Report and Financial Statements 2021 Driven by our passion for food, together we serve and help every customer', 'Offering delicious, great quality food at competitive prices has been at the heart of what we do since John James and Mary Ann Sainsbury opened our first store in 1869', 'Today, inspiring and delighting our customers with tasty food remains our priority', 'Our purpose is that driven by our passion for food, together we serve and help every customer', 'Our focus on great value food and convenient shopping, whether in-store or online is supported by our brands – Argos, Habitat, Tu, Nectar and Sainsbury’s Bank']\n",
      "\n",
      "Data type: <class 'list'>\n"
     ]
    }
   ],
   "source": [
    "# print the total number of sentences of 2021 sainsbury sentences\n",
    "print(f\"Total number of sentences: {len(sain_sen_2021)}\")\n",
    "print(\"\")\n",
    "# print the first 5 sentences\n",
    "print(f'Print the first 5 sentences: {sain_sen_2021[:5]}')\n",
    "print(f\"\\nData type: {type(sain_sen_2021)}\")"
   ]
  },
  {
   "cell_type": "code",
   "execution_count": 24,
   "id": "4ef18a7e-c3ee-4b2e-8221-1eb517977ff1",
   "metadata": {},
   "outputs": [
    {
     "name": "stdout",
     "output_type": "stream",
     "text": [
      "Total number of sentences: 4098\n",
      "\n",
      "Print the first 5 sentences: ['Annual Report and Financial Statements 2014', 'Our business strategy: Our five areas of focus are underpinned by our values and operational excellence Note: this page forms part of our Strategic ReportOur values set us apart from other retailers', 'They underpin our strategy and the way we operate our business, and they govern the way we relate to customers, colleagues and stakeholders', 'See pages 8 to 23Read more about our strategy on pages 8 to 23 We have achieved around £120 million of operational cost savings over the year, totalling over £570 million over five years Great food Comp lementary channels and servicesDeveloping new busin essGrowing space and creating property value Compelling general merc handise and clothingOperational excellence Our values make us different', 'Supermarkets Convenience Online Logistics Central Bank22 depots cover 9']\n",
      "\n",
      "Data type: <class 'list'>\n"
     ]
    }
   ],
   "source": [
    "# print the total number of sentences of 2014 sainsbury sentences\n",
    "print(f\"Total number of sentences: {len(sain_sen_2014)}\")\n",
    "print(\"\")\n",
    "# print the first 5 sentences\n",
    "print(f'Print the first 5 sentences: {sain_sen_2014[:5]}')\n",
    "print(f\"\\nData type: {type(sain_sen_2014)}\")"
   ]
  },
  {
   "cell_type": "markdown",
   "id": "b8e5e1b8-862c-4e74-8606-07244de44f53",
   "metadata": {},
   "source": [
    "Second, it will standardise the sentences for each annual reports."
   ]
  },
  {
   "cell_type": "code",
   "execution_count": 25,
   "id": "6b653404-5ce7-417e-a811-121aeaf8526f",
   "metadata": {},
   "outputs": [],
   "source": [
    "# Standardise all sentences from all Sainsbury annual reports\n",
    "sain_standsent_2022 = standardize_sentences(sain_sen_2022)\n",
    "sain_standsent_2021 = standardize_sentences(sain_sen_2021)\n",
    "sain_standsent_2020 = standardize_sentences(sain_sen_2020)\n",
    "sain_standsent_2019 = standardize_sentences(sain_sen_2019)\n",
    "sain_standsent_2018 = standardize_sentences(sain_sen_2018)\n",
    "sain_standsent_2017 = standardize_sentences(sain_sen_2017)\n",
    "sain_standsent_2016 = standardize_sentences(sain_sen_2016)\n",
    "sain_standsent_2015 = standardize_sentences(sain_sen_2015)\n",
    "sain_standsent_2014 = standardize_sentences(sain_sen_2014)\n",
    "sain_standsent_2013 = standardize_sentences(sain_sen_2013)\n",
    "sain_standsent_2012 = standardize_sentences(sain_sen_2012)"
   ]
  },
  {
   "cell_type": "markdown",
   "id": "63be1432-af26-45fb-892a-daace75a2369",
   "metadata": {},
   "source": [
    "Print the short summary of standardised sentences from 2021 and 2014."
   ]
  },
  {
   "cell_type": "code",
   "execution_count": 26,
   "id": "432ed7be-174f-45e5-8008-a4db43504087",
   "metadata": {},
   "outputs": [
    {
     "name": "stdout",
     "output_type": "stream",
     "text": [
      "Total number of standardized sentences of 2021: 5308\n",
      "\n",
      "Print the first 5 standardized sentences: \n",
      "['annual report financial statements driven passion food together serve help every customer', 'offering delicious great quality food competitive prices heart since john james mary ann sainsbury opened first store', 'today inspiring delighting customers tasty food remains priority', 'purpose driven passion food together serve help every customer', 'focus great value food convenient shopping whether store online supported brands argos habitat tu nectar sainsbury bank']\n",
      "\n",
      "Data type: <class 'list'>\n"
     ]
    }
   ],
   "source": [
    "# print the standardized sentences summary of 2021 sainsbury annual report\n",
    "print(f\"Total number of standardized sentences of 2021: {len(sain_standsent_2021)}\")\n",
    "print(\"\\nPrint the first 5 standardized sentences: \")\n",
    "print(sain_standsent_2021[:5])\n",
    "print(f\"\\nData type: {type(sain_standsent_2021)}\")"
   ]
  },
  {
   "cell_type": "code",
   "execution_count": 27,
   "id": "3fddb573-6655-46c6-90fb-0918a3968831",
   "metadata": {},
   "outputs": [
    {
     "name": "stdout",
     "output_type": "stream",
     "text": [
      "Total number of standardized sentences of 2014: 4098\n",
      "\n",
      "Print the first 5 standardized sentences: \n",
      "['annual report financial statements', 'business strategy five areas focus underpinned values operational excellence note page forms part strategic reportour values set us apart retailers', 'underpin strategy way operate business govern way relate customers colleagues stakeholders', 'see pages read strategy pages achieved around million operational cost savings year totalling million five years great food comp lementary channels servicesdeveloping new busin essgrowing space creating property value compelling general merc handise clothingoperational excellence values make us different', 'supermarkets convenience online logistics central bank depots cover']\n",
      "\n",
      "Data type: <class 'list'>\n"
     ]
    }
   ],
   "source": [
    "# print the standardized sentences summary of 2014 sainsbury annual report\n",
    "print(f\"Total number of standardized sentences of 2014: {len(sain_standsent_2014)}\")\n",
    "print(\"\\nPrint the first 5 standardized sentences: \")\n",
    "print(sain_standsent_2014[:5])\n",
    "print(f\"\\nData type: {type(sain_standsent_2014)}\")"
   ]
  },
  {
   "cell_type": "markdown",
   "id": "155a8ab0-a658-451c-8b64-f40a20fa91f2",
   "metadata": {},
   "source": [
    "Next, it will combine all standardised sentences together as a list."
   ]
  },
  {
   "cell_type": "code",
   "execution_count": 28,
   "id": "2a123a5a-b3b7-42d7-8277-648a778cb1bc",
   "metadata": {},
   "outputs": [
    {
     "name": "stdout",
     "output_type": "stream",
     "text": [
      "Total number of all standardised sentences: 48742\n",
      "The first five sentences of sainsbury standardised sentences:\n",
      "['annual report financial statements helping everyone eat better', 'offering delicious great quality food competitive prices heart since john james mary ann sainsbury opened first store', 'today inspiring delighting customers tasty food remains priority', 'purpose driven passion food together serve help every customer', 'focus great value food convenient shopping whether store online supported brands argos habitat tu nectar sainsbury bank']\n",
      "\n",
      "Data type: <class 'list'>\n"
     ]
    }
   ],
   "source": [
    "# Combine all standardised sentence into a list\n",
    "sain_standsent_all = (\n",
    "    sain_standsent_2022 +\n",
    "    sain_standsent_2021 +\n",
    "    sain_standsent_2020 +\n",
    "    sain_standsent_2019 +\n",
    "    sain_standsent_2018 +\n",
    "    sain_standsent_2017 +\n",
    "    sain_standsent_2016 +\n",
    "    sain_standsent_2015 +\n",
    "    sain_standsent_2014 +\n",
    "    sain_standsent_2013 +\n",
    "    sain_standsent_2012\n",
    ")\n",
    "\n",
    "print(f'Total number of all standardised sentences: {len(sain_standsent_all)}')\n",
    "print('The first five sentences of sainsbury standardised sentences:')\n",
    "print(sain_standsent_all[:5])\n",
    "print(f\"\\nData type: {type(sain_standsent_all)}\")"
   ]
  },
  {
   "cell_type": "markdown",
   "id": "551fcf08-90c4-444d-9606-c913c45918f5",
   "metadata": {
    "tags": []
   },
   "source": [
    "## B2. Marks and Spencer"
   ]
  },
  {
   "cell_type": "code",
   "execution_count": 29,
   "id": "fd4314ae-4310-481e-bd4b-bd212f96b8ca",
   "metadata": {},
   "outputs": [],
   "source": [
    "# Setting the path of 11 years M&S annual reports\n",
    "ms_2022_path = \"AR/marks_and_spencer/ms-ar2022.pdf\"\n",
    "ms_2021_path = \"AR/marks_and_spencer/ms-ar2021.pdf\"\n",
    "ms_2020_path = \"AR/marks_and_spencer/ms-ar2020.pdf\"\n",
    "ms_2019_path = \"AR/marks_and_spencer/ms-ar2019.pdf\"\n",
    "ms_2018_path = \"AR/marks_and_spencer/ms-ar2018.pdf\"\n",
    "ms_2017_path = \"AR/marks_and_spencer/ms-ar2017.pdf\"\n",
    "ms_2016_path = \"AR/marks_and_spencer/ms-ar2016.pdf\"\n",
    "ms_2015_path = \"AR/marks_and_spencer/ms-ar2015.pdf\"\n",
    "ms_2014_path = \"AR/marks_and_spencer/ms-ar2014.pdf\"\n",
    "ms_2013_path = \"AR/marks_and_spencer/ms-ar2013.pdf\"\n",
    "ms_2012_path = \"AR/marks_and_spencer/ms-ar2012.pdf\""
   ]
  },
  {
   "cell_type": "code",
   "execution_count": 30,
   "id": "f2e7ae6b-777f-47ea-8936-3f47fab98e03",
   "metadata": {},
   "outputs": [],
   "source": [
    "# Extract text from M&S annual reports\n",
    "ms_sen_2022 = extract_pdf_text(ms_2022_path)\n",
    "ms_sen_2021 = extract_pdf_text(ms_2021_path)\n",
    "ms_sen_2020 = extract_pdf_text(ms_2020_path)\n",
    "ms_sen_2019 = extract_pdf_text(ms_2019_path)\n",
    "ms_sen_2018 = extract_pdf_text(ms_2018_path)\n",
    "ms_sen_2017 = extract_pdf_text(ms_2017_path)\n",
    "ms_sen_2016 = extract_pdf_text(ms_2016_path)\n",
    "ms_sen_2015 = extract_pdf_text(ms_2015_path)\n",
    "ms_sen_2014 = extract_pdf_text(ms_2014_path)\n",
    "ms_sen_2013 = extract_pdf_text(ms_2013_path)\n",
    "ms_sen_2012 = extract_pdf_text(ms_2012_path)\n"
   ]
  },
  {
   "cell_type": "markdown",
   "id": "eb2229cd-d19a-41c0-9c0a-ca181b90f838",
   "metadata": {},
   "source": [
    "Print the sentences from the annual report from 2021."
   ]
  },
  {
   "cell_type": "code",
   "execution_count": 31,
   "id": "6613c3d7-3843-43b8-9b4a-9801a21c9800",
   "metadata": {},
   "outputs": [
    {
     "name": "stdout",
     "output_type": "stream",
     "text": [
      "Total number of standardized sentences of 2021: 9052\n",
      "\n",
      "Print the first 10 sentences from MS annual reports: \n",
      "['Marks and Spencer Group plc Annual Report & Financial Statements 2021 Never the Same Again Forging a reshaped M&S Marks and Spencer Group plc Annual Report & Financial Statements & Notice of Annual General Meeting 2021', 'GROUP OVERVIEW £9', '0bn Group revenue (9', '8)p Basic loss per share No dividend paid for 20/21-11', '8% ( 19/20: 1', '3p)50', '5% Percentage of UK Clothing & Home sales online 67% Food: Value for money perception 81 Stores: Net promoter score1 51 M&S', 'com: Net promoter score1(19/20: 22', '5%) (19/20: 63%) (19/20: 68) (19/20: 57)£(201', '2)m Group loss before tax £41']\n",
      "\n",
      "Data type: <class 'list'>\n"
     ]
    }
   ],
   "source": [
    "# print the sentences summary of 2021 M&S annual report\n",
    "print(f\"Total number of standardized sentences of 2021: {len(ms_sen_2021)}\")\n",
    "print(\"\\nPrint the first 10 sentences from MS annual reports: \")\n",
    "print(ms_sen_2021[:10])\n",
    "print(f\"\\nData type: {type(ms_sen_2021)}\")"
   ]
  },
  {
   "cell_type": "markdown",
   "id": "5fe2d1ba-e08e-451a-94f4-64595f1e97d3",
   "metadata": {},
   "source": [
    "Second, it will standardise the sentences for each Marks and Spencer annual reports."
   ]
  },
  {
   "cell_type": "code",
   "execution_count": 32,
   "id": "746920b4-0a13-48fa-8bb3-efee6ec6d0e3",
   "metadata": {},
   "outputs": [],
   "source": [
    "# Standardise all sentences from all M&S annual reports\n",
    "ms_standsent_2022 = standardize_sentences(ms_sen_2022)\n",
    "ms_standsent_2021 = standardize_sentences(ms_sen_2021)\n",
    "ms_standsent_2020 = standardize_sentences(ms_sen_2020)\n",
    "ms_standsent_2019 = standardize_sentences(ms_sen_2019)\n",
    "ms_standsent_2018 = standardize_sentences(ms_sen_2018)\n",
    "ms_standsent_2017 = standardize_sentences(ms_sen_2017)\n",
    "ms_standsent_2016 = standardize_sentences(ms_sen_2016)\n",
    "ms_standsent_2015 = standardize_sentences(ms_sen_2015)\n",
    "ms_standsent_2014 = standardize_sentences(ms_sen_2014)\n",
    "ms_standsent_2013 = standardize_sentences(ms_sen_2013)\n",
    "ms_standsent_2012 = standardize_sentences(ms_sen_2012)"
   ]
  },
  {
   "cell_type": "markdown",
   "id": "fc722038-41e7-4fce-a826-bee272a6b58f",
   "metadata": {},
   "source": [
    "Print the short summary of standardised sentences of 2021 annual reports."
   ]
  },
  {
   "cell_type": "code",
   "execution_count": 33,
   "id": "1bc9d9e1-b9aa-463e-bd5f-0f3b2f7e5cbf",
   "metadata": {},
   "outputs": [
    {
     "name": "stdout",
     "output_type": "stream",
     "text": [
      "Total number of standardized sentences of 2021: 9052\n",
      "\n",
      "Print the first 10 standardized sentences from MS annual reprots: \n",
      "['marks spencer group plc annual report financial statements never forging reshaped marks spencer group plc annual report financial statements notice annual general meeting', 'group overview', 'bn group revenue', 'p basic loss per share dividend paid', '', 'p', 'percentage uk clothing home sales online food value money perception stores net promoter score', 'com net promoter score', '', 'group loss tax']\n",
      "\n",
      "Data type: <class 'list'>\n"
     ]
    }
   ],
   "source": [
    "# print the standardized sentences summary of 2021 M&S annual report\n",
    "print(f\"Total number of standardized sentences of 2021: {len(ms_standsent_2021)}\")\n",
    "print(\"\\nPrint the first 10 standardized sentences from MS annual reprots: \")\n",
    "print(ms_standsent_2021[:10])\n",
    "print(f\"\\nData type: {type(ms_standsent_2021)}\")"
   ]
  },
  {
   "cell_type": "markdown",
   "id": "13a63868-964b-4033-a041-5ee02a03df97",
   "metadata": {},
   "source": [
    "Next, it will combine all standardised sentences together as a list."
   ]
  },
  {
   "cell_type": "code",
   "execution_count": 34,
   "id": "b4a08f99-58e9-4cdf-bcf9-5742c6209da2",
   "metadata": {},
   "outputs": [
    {
     "name": "stdout",
     "output_type": "stream",
     "text": [
      "Total number of all standardised sentences: 76174\n",
      "\n",
      "The first 10 sentences of M&S standardised sentences:\n",
      "['friend studio ltd file name cover v modification date may pm marks spencer group plc annual report financial statements next phase transformation stronger team stronger business stronger balance sheetshaping future marks spencer group plc annual report financial statements', 'friend studio ltd file name cover v modification date may pm friend studio ltd file name cover v modification date may pm food p marks spencer group plcm leading british retailer unique heritage strong brand values', 'operate family businesses selling high quality great value brand products services alongside carefully selected range third party brands', 'network stores websites globally together across stores support centres warehouses supply chain colleagues serve million customers year', 'clothing home p people culture p glance international p cover inside stevenage strong example modernising store estate fit future', 'friend studio ltd file name strategic xifcx xbusinessxmodel v modification date may pm annual report financial statements strategic report group overview strategic report chairman letter chief executive statement next phase transformation business model people culture sustainability non financial information statement engagement decision making key performance indicators financial review risk management principal risks uncertaintiesgovernance chairman governance overview leadership oversight board composition meeting attendance board board activities board review nomination committee report esg committee report audit committee report remuneration overview remuneration context summary remuneration policy remuneration report disclosures independent auditor reportfinancial statements consolidated financial statements notes financial statements company financial statements notes company financial statements group financial record glossary notice annual general meeting shareholder information index', 'shareholder information forms part directors report', 'alternative performance measures report provides alternative performance measures apms defined specified requirements uk adopted international accounting standards', 'believe apms provide readers important additional information business', 'included glossary pages provides comprehensive list apms use including explanation calculated use reconciled statutory measure relevant']\n",
      "\n",
      "Data type: <class 'list'>\n"
     ]
    }
   ],
   "source": [
    "# Combine all standardised sentence into a list\n",
    "ms_standsent_all = (\n",
    "    ms_standsent_2022 +\n",
    "    ms_standsent_2021 +\n",
    "    ms_standsent_2020 +\n",
    "    ms_standsent_2019 +\n",
    "    ms_standsent_2018 +\n",
    "    ms_standsent_2017 +\n",
    "    ms_standsent_2016 +\n",
    "    ms_standsent_2015 +\n",
    "    ms_standsent_2014 +\n",
    "    ms_standsent_2013 +\n",
    "    ms_standsent_2012\n",
    ")\n",
    "\n",
    "print(f'Total number of all standardised sentences: {len(ms_standsent_all)}')\n",
    "print('\\nThe first 10 sentences of M&S standardised sentences:')\n",
    "print(ms_standsent_all[:10])\n",
    "print(f\"\\nData type: {type(ms_standsent_all)}\")"
   ]
  },
  {
   "cell_type": "markdown",
   "id": "37b7d52e-8a7e-4c0a-803f-9e85ea7f9474",
   "metadata": {
    "tags": []
   },
   "source": [
    "## B3. Tesco"
   ]
  },
  {
   "cell_type": "code",
   "execution_count": 35,
   "id": "344090a1-e4a2-4473-975f-9d0af7fd6c3b",
   "metadata": {},
   "outputs": [],
   "source": [
    "# Setting the path of 11 years Tesco annual reports\n",
    "tesco_2022_path = \"AR/tesco/tesco-ar2022.pdf\"\n",
    "tesco_2021_path = \"AR/tesco/tesco-ar2021.pdf\"\n",
    "tesco_2020_path = \"AR/tesco/tesco-ar2020.pdf\"\n",
    "tesco_2019_path = \"AR/tesco/tesco-ar2019.pdf\"\n",
    "tesco_2018_path = \"AR/tesco/tesco-ar2018.pdf\"\n",
    "tesco_2017_path = \"AR/tesco/tesco-ar2017.pdf\"\n",
    "tesco_2016_path = \"AR/tesco/tesco-ar2016.pdf\"\n",
    "tesco_2015_path = \"AR/tesco/tesco-ar2015.pdf\"\n",
    "tesco_2014_path = \"AR/tesco/tesco-ar2014.pdf\"\n",
    "tesco_2013_path = \"AR/tesco/tesco-ar2013.pdf\"\n",
    "tesco_2012_path = \"AR/tesco/tesco-ar2012.pdf\""
   ]
  },
  {
   "cell_type": "code",
   "execution_count": 36,
   "id": "891588a7-55b6-4024-a58c-b460f2ef7012",
   "metadata": {},
   "outputs": [],
   "source": [
    "# Extract text from Tesco annual report\n",
    "tesco_sen_2022 = extract_pdf_text(tesco_2022_path)\n",
    "tesco_sen_2021 = extract_pdf_text(tesco_2021_path)\n",
    "tesco_sen_2020 = extract_pdf_text(tesco_2020_path)\n",
    "tesco_sen_2019 = extract_pdf_text(tesco_2019_path)\n",
    "tesco_sen_2018 = extract_pdf_text(tesco_2018_path)\n",
    "tesco_sen_2017 = extract_pdf_text(tesco_2017_path)\n",
    "tesco_sen_2016 = extract_pdf_text(tesco_2016_path)\n",
    "tesco_sen_2015 = extract_pdf_text(tesco_2015_path)\n",
    "tesco_sen_2014 = extract_pdf_text(tesco_2014_path)\n",
    "tesco_sen_2013 = extract_pdf_text(tesco_2013_path)\n",
    "tesco_sen_2012 = extract_pdf_text(tesco_2012_path)\n"
   ]
  },
  {
   "cell_type": "markdown",
   "id": "a74e6e21-b529-4492-ada8-a7a7a79a40de",
   "metadata": {},
   "source": [
    "Print the sentences from the annual report from 2021."
   ]
  },
  {
   "cell_type": "code",
   "execution_count": 37,
   "id": "c8354a4a-fa87-4ce6-a595-ec63ef1e7094",
   "metadata": {},
   "outputs": [
    {
     "name": "stdout",
     "output_type": "stream",
     "text": [
      "Total number of sentences of 2021: 6916\n",
      "\n",
      "Print the first 10 sentences from Tesco annual reports: \n",
      "['Serving shoppers a little better every day', 'Annual Report and Financial Statements 2021 Tesco PLC Annual Report and Financial Statements 2021', 'Strategic report 3 2021 highlights 4 Tesco at a glance 5 Chairman’s statement 6 Group Chief Executive’s review 8 Engaging with our stakeholders 10 Our business model 11 Key performance indicators 12 Little Helps Plan (LHP) 17 Diversity and inclusion 19 Financial review 26 Task Force on Climate-related Financial Disclosures 29 Non-financial reporting statement 30 Section 172 statement 31 Principal risks and uncertainties 38 Longer-term viability statement Corporate governance 40 Chairman’s letter 42 Board of Directors 47 Executive Committee 48 Compliance with the UK Corporate Governance Code 51 Board leadership and company purpose 58 Division of responsibilities 60 Composition, succession and evaluation 62 Nominations and Governance Committee 64 Corporate Responsibility Committee 66 Audit Committee 72 Directors’ remuneration report 97 Directors’ report Financial statements 102 Independent auditor’s report 112 Group income statement 113 Group statement of comprehensive income/(loss) 114 Group balance sheet 115 Group statement of changes in equity 117 Group cash flow statement 118 Notes to the Group financial statements 189 Tesco PLC – Parent Company balance sheet 190 Tesco PLC – Parent Company statement of changes in equity 191 Notes to the Parent Company financial statements 197 Related undertakings of the Tesco Group Other information 202 Supplementary information (unaudited) 205 Glossary – Alternative performance measures 213 Five-year record 214 Shareholder informationContents Visit www', 'tescoplc', 'com/ar2021 for more information', 'Serving shoppers a little better every day', '1 Tesco PLC Annual Report and Financial Statements 2021', 'Tesco was built to be a champion for customers', 'As a team of more than 360,000 colleagues, we aim to serve our customers every day with affordable, healthy and sustainable food — to help them enjoy a better quality of life and an easier way of living', 'Customers are at the heart of everything we do and guide every decision we make']\n",
      "\n",
      "Data type: <class 'list'>\n"
     ]
    }
   ],
   "source": [
    "# print the sentences summary of 2021 Tesco annual report\n",
    "print(f\"Total number of sentences of 2021: {len(tesco_sen_2021)}\")\n",
    "print(\"\\nPrint the first 10 sentences from Tesco annual reports: \")\n",
    "print(tesco_sen_2021[:10])\n",
    "print(f\"\\nData type: {type(tesco_sen_2021)}\")"
   ]
  },
  {
   "cell_type": "markdown",
   "id": "1df257be-3b56-4d05-942a-95bc575a94b7",
   "metadata": {},
   "source": [
    "Second, it will standardise the sentences for each annual reports."
   ]
  },
  {
   "cell_type": "code",
   "execution_count": 38,
   "id": "8811fdaf-4cfa-44cd-92c9-a58ad6f2504d",
   "metadata": {},
   "outputs": [],
   "source": [
    "# Standardise all sentences from all Tesco annual reports\n",
    "tesco_standsent_2022 = standardize_sentences(tesco_sen_2022)\n",
    "tesco_standsent_2021 = standardize_sentences(tesco_sen_2021)\n",
    "tesco_standsent_2020 = standardize_sentences(tesco_sen_2020)\n",
    "tesco_standsent_2019 = standardize_sentences(tesco_sen_2019)\n",
    "tesco_standsent_2018 = standardize_sentences(tesco_sen_2018)\n",
    "tesco_standsent_2017 = standardize_sentences(tesco_sen_2017)\n",
    "tesco_standsent_2016 = standardize_sentences(tesco_sen_2016)\n",
    "tesco_standsent_2015 = standardize_sentences(tesco_sen_2015)\n",
    "tesco_standsent_2014 = standardize_sentences(tesco_sen_2014)\n",
    "tesco_standsent_2013 = standardize_sentences(tesco_sen_2013)\n",
    "tesco_standsent_2012 = standardize_sentences(tesco_sen_2012)"
   ]
  },
  {
   "cell_type": "markdown",
   "id": "6c32e373-02f0-4989-8499-b04c7929f1a7",
   "metadata": {},
   "source": [
    "Print the short summary of standardised sentences of 2021 annual reports."
   ]
  },
  {
   "cell_type": "code",
   "execution_count": 39,
   "id": "0a6ca573-2c42-4c13-9e9e-ac8cafb2221c",
   "metadata": {},
   "outputs": [
    {
     "name": "stdout",
     "output_type": "stream",
     "text": [
      "Total number of standardized sentences of 2021: 6916\n",
      "\n",
      "Print the first 10 standardized sentences from Tesco annual reprots: \n",
      "['serving shoppers little better every day', 'annual report financial statements tesco plc annual report financial statements', 'strategic report highlights tesco glance chairman statement group chief executive review engaging stakeholders business model key performance indicators little helps plan lhp diversity inclusion financial review task force climate related financial disclosures non financial reporting statement section statement principal risks uncertainties longer term viability statement corporate governance chairman letter board directors executive committee compliance uk corporate governance code board leadership company purpose division responsibilities composition succession evaluation nominations governance committee corporate responsibility committee audit committee directors remuneration report directors report financial statements independent auditor report group income statement group statement comprehensive income loss group balance sheet group statement changes equity group cash flow statement notes group financial statements tesco plc parent company balance sheet tesco plc parent company statement changes equity notes parent company financial statements related undertakings tesco group information supplementary information unaudited glossary alternative performance measures five year record shareholder informationcontents visit www', 'tescoplc', 'com ar information', 'serving shoppers little better every day', 'tesco plc annual report financial statements', 'tesco built champion customers', 'team colleagues aim serve customers every day affordable healthy sustainable food help enjoy better quality life easier way living', 'customers heart everything guide every decision make']\n",
      "\n",
      "Data type: <class 'list'>\n"
     ]
    }
   ],
   "source": [
    "# print the standardized sentences summary of 2021 Tesco annual report\n",
    "print(f\"Total number of standardized sentences of 2021: {len(tesco_standsent_2021)}\")\n",
    "print(\"\\nPrint the first 10 standardized sentences from Tesco annual reprots: \")\n",
    "print(tesco_standsent_2021[:10])\n",
    "print(f\"\\nData type: {type(tesco_standsent_2021)}\")"
   ]
  },
  {
   "cell_type": "markdown",
   "id": "ee383739-801a-4c9b-8220-8f410971c4ae",
   "metadata": {},
   "source": [
    "Next, it will combine all standardised sentences together as a list."
   ]
  },
  {
   "cell_type": "code",
   "execution_count": 40,
   "id": "cfeabc67-e653-4cd5-b9b2-65f3d3fa8a92",
   "metadata": {},
   "outputs": [
    {
     "name": "stdout",
     "output_type": "stream",
     "text": [
      "Total number of all standardised sentences: 58917\n",
      "\n",
      "The first 10 Tesco standardised sentences:\n",
      "['serving customers communities planet little better every day', 'annual report financial statements', 'serving customers communities planet little better every day', 'contents strategic report introduction', 'highlights', 'tesco glance', 'purpose', 'purpose action', 'chairman statement', 'group chief executive review']\n",
      "\n",
      "Data type: <class 'list'>\n"
     ]
    }
   ],
   "source": [
    "# Combine all standardised sentence into a list\n",
    "tesco_standsent_all = (\n",
    "    tesco_standsent_2022 +\n",
    "    tesco_standsent_2021 +\n",
    "    tesco_standsent_2020 +\n",
    "    tesco_standsent_2019 +\n",
    "    tesco_standsent_2018 +\n",
    "    tesco_standsent_2017 +\n",
    "    tesco_standsent_2016 +\n",
    "    tesco_standsent_2015 +\n",
    "    tesco_standsent_2014 +\n",
    "    tesco_standsent_2013 +\n",
    "    tesco_standsent_2012\n",
    ")\n",
    "\n",
    "print(f'Total number of all standardised sentences: {len(tesco_standsent_all)}')\n",
    "print('\\nThe first 10 Tesco standardised sentences:')\n",
    "print(tesco_standsent_all[:10])\n",
    "print(f\"\\nData type: {type(tesco_standsent_all)}\")"
   ]
  },
  {
   "cell_type": "markdown",
   "id": "e89eff48-9204-4ba3-842f-38c08e7b9b45",
   "metadata": {
    "tags": []
   },
   "source": [
    "## B4. John Lewis & Partners"
   ]
  },
  {
   "cell_type": "code",
   "execution_count": 41,
   "id": "86cc0631-99b5-43d2-89d4-deac18a0452f",
   "metadata": {},
   "outputs": [],
   "source": [
    "# Setting the path of 11 years John Lewis annual reports\n",
    "jl_2022_path = \"AR/john_lewis/jl-ar2022.pdf\"\n",
    "jl_2021_path = \"AR/john_lewis/jl-ar2021.pdf\"\n",
    "jl_2020_path = \"AR/john_lewis/jl-ar2020.pdf\"\n",
    "jl_2019_path = \"AR/john_lewis/jl-ar2019.pdf\"\n",
    "jl_2018_path = \"AR/john_lewis/jl-ar2018.pdf\"\n",
    "jl_2017_path = \"AR/john_lewis/jl-ar2017.pdf\"\n",
    "jl_2016_path = \"AR/john_lewis/jl-ar2016.pdf\"\n",
    "jl_2015_path = \"AR/john_lewis/jl-ar2015.pdf\"\n",
    "jl_2014_path = \"AR/john_lewis/jl-ar2014.pdf\"\n",
    "jl_2013_path = \"AR/john_lewis/jl-ar2013.pdf\"\n",
    "jl_2012_path = \"AR/john_lewis/jl-ar2012.pdf\""
   ]
  },
  {
   "cell_type": "code",
   "execution_count": 42,
   "id": "0cc43b77-c9a7-4ebe-ad16-c6e95c08d066",
   "metadata": {},
   "outputs": [],
   "source": [
    "# Extract text from John Lewis annual report\n",
    "jl_sen_2022 = extract_pdf_text(jl_2022_path)\n",
    "jl_sen_2021 = extract_pdf_text(jl_2021_path)\n",
    "jl_sen_2020 = extract_pdf_text(jl_2020_path)\n",
    "jl_sen_2019 = extract_pdf_text(jl_2019_path)\n",
    "jl_sen_2018 = extract_pdf_text(jl_2018_path)\n",
    "jl_sen_2017 = extract_pdf_text(jl_2017_path)\n",
    "jl_sen_2016 = extract_pdf_text(jl_2016_path)\n",
    "jl_sen_2015 = extract_pdf_text(jl_2015_path)\n",
    "jl_sen_2014 = extract_pdf_text(jl_2014_path)\n",
    "jl_sen_2013 = extract_pdf_text(jl_2013_path)\n",
    "jl_sen_2012 = extract_pdf_text(jl_2012_path)\n"
   ]
  },
  {
   "cell_type": "markdown",
   "id": "ee7c4db2-df15-4017-b188-0580bbe8ae10",
   "metadata": {},
   "source": [
    "Print the sentences from the annual report from 2021."
   ]
  },
  {
   "cell_type": "code",
   "execution_count": 43,
   "id": "7e9ae495-f161-4fd0-a722-4f86669ffb78",
   "metadata": {},
   "outputs": [
    {
     "name": "stdout",
     "output_type": "stream",
     "text": [
      "Total number of sentences of 2021: 5902\n",
      "\n",
      "Print the first 10 sentences from John Lewis annual reports: \n",
      "['John Lewis Partnership plc Annual Report and Accounts 2021', 'CONTENTS STRATEGIC REPO RT Message from the Chairman - Emerging stronger 4 Who we are - Our purpose 8 At a glance - Our year 9 At a glance - Our financial performance 11 How we are different - Our Partnership business model 13 How we are different - Our culture 15 Partnership for good - Supporting our Partners and communities 17 Be Yourself', 'Always - Our diversity and inclusion plan 19 Working together - Our Partnership Plan 21 Market review - Market context and key trends shaping retail 24 Our Partnership Plan - Retail customers love 28 Our Partnership Plan - Inspirational new services 31 Our Partnership Plan - Partnerships for growth 32 Our Partnership Plan - Lean, simple, fast 34 Our Partnership Plan - Our Ethics and Sustainability Strategy 36 Tackling climate change - Task Force on Climate-related Financial Disclosures 38 Section 172(1) statement - Promoting the success of the Partnership 41 Our risks and uncertainties - Managing our risks 48 GOVERNANCE REPO RT Our governance - How governance is shared in the Partnership 61 Our governance - Partnership purpose and values 63 Our governance - The Chairman 65 Our governance - The Executive Team 66 Our governance - Partnership Board 67 Our governance - Audit and Risk Committee Report 75 Our governance - Nominations Committee Report 88 Our governance - Remuneration Committee Report 93 Our governance - Partnership Council President’s Report 103 Our governance - Directors’ Report 111 FINANCIAL STATEMENTS Consolidated income statement 119 Consolidated statement of comprehensive income 120 Consolidated balance sheet 121 Consolidated statement of changes in equity 123 Consolidated statement of cash flows 124 Notes to the consolidated financial statements 125 Company primary statements and notes 199 Statement of Directors’ responsibilities in respect of the Annual Report and Accounts 205 Independent auditor’s report to the members of John Lewis Partnership plc 206 John Lewis Partnership plc Annual Report and Accounts 2021 2', 'Five-year financial record 218 Glossary 220 General information 229 FIND OUT MORE For more information on the progress we are making against our Ethics and Sustainability Strategy and to read our latest Modern Slavery Statement, visit www', 'johnlewispartnership', 'co', 'uk/csr More detailed, non-financial performance information can also be found at www', 'johnlewispartnership', 'co', 'uk John Lewis Partnership plc Annual Report and Accounts 2021 3']\n",
      "\n",
      "Data type: <class 'list'>\n"
     ]
    }
   ],
   "source": [
    "# print the sentences summary of 2021 John Lewis annual report\n",
    "print(f\"Total number of sentences of 2021: {len(jl_sen_2021)}\")\n",
    "print(\"\\nPrint the first 10 sentences from John Lewis annual reports: \")\n",
    "print(jl_sen_2021[:10])\n",
    "print(f\"\\nData type: {type(jl_sen_2021)}\")"
   ]
  },
  {
   "cell_type": "markdown",
   "id": "838362aa-8042-49dd-96a1-13fd466e894d",
   "metadata": {},
   "source": [
    "Second, it will standardise the sentences for each annual reports."
   ]
  },
  {
   "cell_type": "code",
   "execution_count": 44,
   "id": "a91ba079-03b9-4a7a-bf34-33bc0818fbd4",
   "metadata": {},
   "outputs": [],
   "source": [
    "# Standardise all sentences from all John Lewis annual reports\n",
    "jl_standsent_2022 = standardize_sentences(jl_sen_2022)\n",
    "jl_standsent_2021 = standardize_sentences(jl_sen_2021)\n",
    "jl_standsent_2020 = standardize_sentences(jl_sen_2020)\n",
    "jl_standsent_2019 = standardize_sentences(jl_sen_2019)\n",
    "jl_standsent_2018 = standardize_sentences(jl_sen_2018)\n",
    "jl_standsent_2017 = standardize_sentences(jl_sen_2017)\n",
    "jl_standsent_2016 = standardize_sentences(jl_sen_2016)\n",
    "jl_standsent_2015 = standardize_sentences(jl_sen_2015)\n",
    "jl_standsent_2014 = standardize_sentences(jl_sen_2014)\n",
    "jl_standsent_2013 = standardize_sentences(jl_sen_2013)\n",
    "jl_standsent_2012 = standardize_sentences(jl_sen_2012)"
   ]
  },
  {
   "cell_type": "markdown",
   "id": "61a92f34-4df0-42dc-baa3-fc2a0c34fb03",
   "metadata": {},
   "source": [
    "Print the short summary of standardised sentences of 2021 annual reports."
   ]
  },
  {
   "cell_type": "code",
   "execution_count": 45,
   "id": "b219376b-5289-471e-874e-9915823a7981",
   "metadata": {},
   "outputs": [
    {
     "name": "stdout",
     "output_type": "stream",
     "text": [
      "Total number of standardized sentences of 2021: 5902\n",
      "\n",
      "Print the first 10 standardized sentences from John Lewis annual reprots: \n",
      "['john lewis partnership plc annual report accounts', 'contents strategic repo rt message chairman emerging stronger purpose glance year glance financial performance different partnership business model different culture partnership good supporting partners communities', 'always diversity inclusion plan working together partnership plan market review market context key trends shaping retail partnership plan retail customers love partnership plan inspirational new services partnership plan partnerships growth partnership plan lean simple fast partnership plan ethics sustainability strategy tackling climate change task force climate related financial disclosures section statement promoting success partnership risks uncertainties managing risks governance repo rt governance governance shared partnership governance partnership purpose values governance chairman governance executive team governance partnership board governance audit risk committee report governance nominations committee report governance remuneration committee report governance partnership council president report governance directors report financial statements consolidated income statement consolidated statement comprehensive income consolidated balance sheet consolidated statement changes equity consolidated statement cash flows notes consolidated financial statements company primary statements notes statement directors responsibilities respect annual report accounts independent auditor report members john lewis partnership plc john lewis partnership plc annual report accounts', 'five year financial record glossary general information find information progress making ethics sustainability strategy read latest modern slavery statement visit www', 'johnlewispartnership', 'co', 'uk csr detailed non financial performance information also found www', 'johnlewispartnership', 'co', 'uk john lewis partnership plc annual report accounts']\n",
      "\n",
      "Data type: <class 'list'>\n"
     ]
    }
   ],
   "source": [
    "# print the standardized sentences summary of 2021 John Lewis annual report\n",
    "print(f\"Total number of standardized sentences of 2021: {len(jl_standsent_2021)}\")\n",
    "print(\"\\nPrint the first 10 standardized sentences from John Lewis annual reprots: \")\n",
    "print(jl_standsent_2021[:10])\n",
    "print(f\"\\nData type: {type(jl_standsent_2021)}\")"
   ]
  },
  {
   "cell_type": "markdown",
   "id": "28f99115-6d7e-463a-b4df-bfd1e99e6e76",
   "metadata": {},
   "source": [
    "Next, it will combine all standardised sentences together as a list."
   ]
  },
  {
   "cell_type": "code",
   "execution_count": 46,
   "id": "fcd330c6-a88c-4441-abd7-c760e427e7af",
   "metadata": {},
   "outputs": [],
   "source": [
    "# Combine all standardised sentence into a list\n",
    "jl_standsent_all = (\n",
    "    jl_standsent_2022 +\n",
    "    jl_standsent_2021 +\n",
    "    jl_standsent_2020 +\n",
    "    jl_standsent_2019 +\n",
    "    jl_standsent_2018 +\n",
    "    jl_standsent_2017 +\n",
    "    jl_standsent_2016 +\n",
    "    jl_standsent_2015 +\n",
    "    jl_standsent_2014 +\n",
    "    jl_standsent_2013 +\n",
    "    jl_standsent_2012\n",
    ")\n"
   ]
  },
  {
   "cell_type": "markdown",
   "id": "11cd433d-6277-4d34-964d-0969a9eb8211",
   "metadata": {
    "tags": []
   },
   "source": [
    "## B5. Morrisons"
   ]
  },
  {
   "cell_type": "markdown",
   "id": "15b1f3c8-ccfe-40ad-bdfe-8ad180d8c9eb",
   "metadata": {},
   "source": [
    "For Morrisions annual reports, 2012 and 2013 reports were not avaiable online."
   ]
  },
  {
   "cell_type": "code",
   "execution_count": 47,
   "id": "12272011-4ab2-4ae7-b2cd-6d3ee9ce0049",
   "metadata": {},
   "outputs": [],
   "source": [
    "# Setting the path of Morrisons annual reports from 2014 to 2022\n",
    "morri_2022_path = \"AR/morrisons/morri-ar2022.pdf\"\n",
    "morri_2021_path = \"AR/morrisons/morri-ar2021.pdf\"\n",
    "morri_2020_path = \"AR/morrisons/morri-ar2020.pdf\"\n",
    "morri_2019_path = \"AR/morrisons/morri-ar2019.pdf\"\n",
    "morri_2018_path = \"AR/morrisons/morri-ar2018.pdf\"\n",
    "morri_2017_path = \"AR/morrisons/morri-ar2017_removed.pdf\" # removed encryption\n",
    "morri_2016_path = \"AR/morrisons/morri-ar2016.pdf\"\n",
    "morri_2015_path = \"AR/morrisons/morri-ar2015.pdf\"\n",
    "morri_2014_path = \"AR/morrisons/morri-ar2014.pdf\"\n"
   ]
  },
  {
   "cell_type": "code",
   "execution_count": 48,
   "id": "c5b2f0b2-8779-47e8-8ab1-75e36e08108c",
   "metadata": {},
   "outputs": [],
   "source": [
    "# Extract text from Morrisons annual report\n",
    "morri_sen_2022 = extract_pdf_text(morri_2022_path)\n",
    "morri_sen_2021 = extract_pdf_text(morri_2021_path)\n",
    "morri_sen_2020 = extract_pdf_text(morri_2020_path)\n",
    "morri_sen_2019 = extract_pdf_text(morri_2019_path)\n",
    "morri_sen_2018 = extract_pdf_text(morri_2018_path)\n",
    "morri_sen_2017 = extract_pdf_text(morri_2017_path)\n",
    "morri_sen_2016 = extract_pdf_text(morri_2016_path)\n",
    "morri_sen_2015 = extract_pdf_text(morri_2015_path)\n",
    "morri_sen_2014 = extract_pdf_text(morri_2014_path)\n"
   ]
  },
  {
   "cell_type": "markdown",
   "id": "8c9ccad2-44c7-40cb-9d61-19125b57382e",
   "metadata": {},
   "source": [
    "Print the sentences from the annual report from 2021."
   ]
  },
  {
   "cell_type": "code",
   "execution_count": 49,
   "id": "3bd496ea-b595-4eaa-8b1e-8fbea2a50e22",
   "metadata": {},
   "outputs": [
    {
     "name": "stdout",
     "output_type": "stream",
     "text": [
      "Total number of sentences of 2021: 4785\n",
      "\n",
      "Print the first 10 sentences from Morrisons annual reports: \n",
      "['Wm Morrison Supermarkets PLC Annual Report and Financial Statements 2020/21We are responding NHS hourdoorstep deliveries to the vulnerable650,000+ WE ARE DONATING LUNCHBOXES DAILY OVER T H E S C H O O L HOLIDAYS Wm Morrison Supermarkets PLC An nual Report and Financial Statements 2020/21Wm Morrison Supermarkets PLCHilmore House, Gain Lane Bradford BD3 7DL Telephone: 0345 611 5000 Visit our website: www', 'morrisons', 'com 24629_Morrisons AR_Covers_2021_29-04-21', 'indd 1-324629_Morrisons AR_Covers_2021_29-04-21', 'indd 1-3 29/04/2021 18:0929/04/2021 18:09', '* Alternative Performance Measures as defined in the Glossary on pages 157 to 159', 'We are responding to the global crisis by playing our full part in feeding the nation', 'Our core purpose remains: to make and provide food we’re all proud of, where everyone’s effort is worthwhile, so more and more people can afford to enjoy eating well', 'Feeding the nation Throughout the Directors’ report and Strategic report: Unless otherwise stated, 2020/21 refers to the 52 week period ended 31 January 2021 and 2019/20 refers to the 52 week period ended 2 February 2020', '2021 and 2020 refer to calendar years']\n",
      "\n",
      "Data type: <class 'list'>\n"
     ]
    }
   ],
   "source": [
    "# print the sentences summary of 2021 Morrisons annual report\n",
    "print(f\"Total number of sentences of 2021: {len(morri_sen_2021)}\")\n",
    "print(\"\\nPrint the first 10 sentences from Morrisons annual reports: \")\n",
    "print(morri_sen_2021[:10])\n",
    "print(f\"\\nData type: {type(morri_sen_2021)}\")"
   ]
  },
  {
   "cell_type": "markdown",
   "id": "87d45da9-e995-4103-8d42-815fe6a499e2",
   "metadata": {},
   "source": [
    "Second, it will standardise the sentences for each Morrisons annual reports."
   ]
  },
  {
   "cell_type": "code",
   "execution_count": 50,
   "id": "2d72be53-e8fe-4c5c-aecb-9c2af41bbddb",
   "metadata": {},
   "outputs": [],
   "source": [
    "# Standardise all sentences from all Morrisons annual reports\n",
    "morri_standsent_2022 = standardize_sentences(morri_sen_2022)\n",
    "morri_standsent_2021 = standardize_sentences(morri_sen_2021)\n",
    "morri_standsent_2020 = standardize_sentences(morri_sen_2020)\n",
    "morri_standsent_2019 = standardize_sentences(morri_sen_2019)\n",
    "morri_standsent_2018 = standardize_sentences(morri_sen_2018)\n",
    "morri_standsent_2017 = standardize_sentences(morri_sen_2017)\n",
    "morri_standsent_2016 = standardize_sentences(morri_sen_2016)\n",
    "morri_standsent_2015 = standardize_sentences(morri_sen_2015)\n",
    "morri_standsent_2014 = standardize_sentences(morri_sen_2014)\n"
   ]
  },
  {
   "cell_type": "markdown",
   "id": "90aa2544-8ec5-456e-99b9-16d4a93feace",
   "metadata": {},
   "source": [
    "Print the short summary of standardised sentences of 2021 annual reports."
   ]
  },
  {
   "cell_type": "code",
   "execution_count": 51,
   "id": "74c9bfb3-db39-463a-b325-51ec151c7dff",
   "metadata": {},
   "outputs": [
    {
     "name": "stdout",
     "output_type": "stream",
     "text": [
      "Total number of standardized sentences of 2021: 4785\n",
      "\n",
      "Print the first 10 standardized sentences from Morrisons annual reprots: \n",
      "['wm morrison supermarkets plc annual report financial statements responding nhs hourdoorstep deliveries vulnerable donating lunchboxes daily h e c h l holidays wm morrison supermarkets plc nual report financial statements wm morrison supermarkets plchilmore house gain lane bradford bd dl telephone visit website www', 'morrisons', 'com morrisons ar covers', 'indd morrisons ar covers', 'indd', 'alternative performance measures defined glossary pages', 'responding global crisis playing full part feeding nation', 'core purpose remains make provide food proud everyone effort worthwhile people afford enjoy eating well', 'feeding nation throughout directors report strategic report unless otherwise stated refers week period ended january refers week period ended february', 'refer calendar years']\n",
      "\n",
      "Data type: <class 'list'>\n"
     ]
    }
   ],
   "source": [
    "# print the standardized sentences summary of 2021 Morrisons annual report\n",
    "print(f\"Total number of standardized sentences of 2021: {len(morri_standsent_2021)}\")\n",
    "print(\"\\nPrint the first 10 standardized sentences from Morrisons annual reprots: \")\n",
    "print(morri_standsent_2021[:10])\n",
    "print(f\"\\nData type: {type(morri_standsent_2021)}\")"
   ]
  },
  {
   "cell_type": "markdown",
   "id": "f06de102-e8aa-440e-902a-4132e16f01da",
   "metadata": {},
   "source": [
    "Next, it will combine all standardised sentences together as a list."
   ]
  },
  {
   "cell_type": "code",
   "execution_count": 52,
   "id": "708a4aa4-7936-4386-a883-0f110bb150e4",
   "metadata": {},
   "outputs": [
    {
     "name": "stdout",
     "output_type": "stream",
     "text": [
      "Total number of all standardised sentences: 31730\n",
      "\n",
      "The first 10 John Morrisons standardised sentences:\n",
      "['company registration number wm morrison supermarkets limited annual report financial statements weeks ended october', 'contents company information strategic report principal activities business model financial results customers colleagues suppliers protecting environment supporting communities managing risks section governance report directors report statement directors responsibilities financial statements independent auditors report members wm morrison supermarkets limited consolidated income statement consolidated statement comprehensive income consolidated statement financial position consolidated statement cash flows consolidated statement changes equity general information notes group financial statements company statement financial position company statement changes equity company accounting policies notes company financial statements related undertakings supplementary information glossary company advisors', 'company information company registration number directors david potts joanna goff company secretary jonathan burke registered office wm morrison supermarkets limited hilmore house gain lane bradford bd dl independent auditors pricewaterhousecoopers llp chartered accountants statutory auditors central square wellington street leeds ls dl', 'strategic report principal activities business model principal activities principal activities wm morrison supermarkets limited subsidiaries together referred morrisons group retailing food clothing general merchandise products fuel throughout united kingdom', 'morrisons retailer distributor wholesaler food manufacturer', 'focus ensuring offer right price customers friendly colleagues store invest market street service counters provide great choice fresh sustainably sourced high quality produce strong links local british growers farmers', 'previous financial period group acquired market bidco limited entity formed clayton dubilier rice llp capacity adviser clayton dubilier rice llc cd r fund xi cd r group de listed became privately owned', 'november financial period following registration private company company name changed wm morrison supermarkets plc wm morrison supermarkets limited', 'wider group includes market bidco limited subsidiaries ultimate parent entity market topco limited', 'business model key principles business model core purpose remained consistent time']\n",
      "\n",
      "Data type: <class 'list'>\n"
     ]
    }
   ],
   "source": [
    "# Combine all standardised sentence into a list\n",
    "morri_standsent_all = (\n",
    "    morri_standsent_2022 +\n",
    "    morri_standsent_2021 +\n",
    "    morri_standsent_2020 +\n",
    "    morri_standsent_2019 +\n",
    "    morri_standsent_2018 +\n",
    "    morri_standsent_2017 +\n",
    "    morri_standsent_2016 +\n",
    "    morri_standsent_2015 +\n",
    "    morri_standsent_2014\n",
    ")\n",
    "\n",
    "print(f'Total number of all standardised sentences: {len(morri_standsent_all)}')\n",
    "print('\\nThe first 10 John Morrisons standardised sentences:')\n",
    "print(morri_standsent_all[:10])\n",
    "print(f\"\\nData type: {type(morri_standsent_all)}\")"
   ]
  },
  {
   "cell_type": "markdown",
   "id": "6b35dc18-939a-4da0-8130-ed246c0699be",
   "metadata": {
    "tags": []
   },
   "source": [
    "## B6. Co-op Group"
   ]
  },
  {
   "cell_type": "code",
   "execution_count": 53,
   "id": "a3093a21-d92f-4547-a1f8-9a9b7f870bed",
   "metadata": {},
   "outputs": [],
   "source": [
    "# Setting the path of Co-op annual reports from 2012 to 2022\n",
    "coop_2022_path = \"AR/co_op/coop-ar2022.pdf\"\n",
    "coop_2021_path = \"AR/co_op/coop-ar2021.pdf\"\n",
    "coop_2020_path = \"AR/co_op/coop-ar2020.pdf\"\n",
    "coop_2019_path = \"AR/co_op/coop-ar2019.pdf\"\n",
    "coop_2018_path = \"AR/co_op/coop-ar2018.pdf\"\n",
    "coop_2017_path = \"AR/co_op/coop-ar2017.pdf\"\n",
    "coop_2016_path = \"AR/co_op/coop-ar2016.pdf\"\n",
    "coop_2015_path = \"AR/co_op/coop-ar2015.pdf\"\n",
    "coop_2014_path = \"AR/co_op/coop-ar2014.pdf\"\n",
    "coop_2013_path = \"AR/co_op/coop-ar2013.pdf\"\n",
    "coop_2012_path = \"AR/co_op/coop-ar2012.pdf\""
   ]
  },
  {
   "cell_type": "code",
   "execution_count": 54,
   "id": "7d7ff256-da41-4d13-9416-cdce3e998c75",
   "metadata": {},
   "outputs": [],
   "source": [
    "# Extract text from Co-op annual report\n",
    "coop_sen_2022 = extract_pdf_text(coop_2022_path)\n",
    "coop_sen_2021 = extract_pdf_text(coop_2021_path)\n",
    "coop_sen_2020 = extract_pdf_text(coop_2020_path)\n",
    "coop_sen_2019 = extract_pdf_text(coop_2019_path)\n",
    "coop_sen_2018 = extract_pdf_text(coop_2018_path)\n",
    "coop_sen_2017 = extract_pdf_text(coop_2017_path)\n",
    "coop_sen_2016 = extract_pdf_text(coop_2016_path)\n",
    "coop_sen_2015 = extract_pdf_text(coop_2015_path)\n",
    "coop_sen_2014 = extract_pdf_text(coop_2014_path)\n",
    "coop_sen_2013 = extract_pdf_text(coop_2013_path)\n",
    "coop_sen_2012 = extract_pdf_text(coop_2012_path)\n"
   ]
  },
  {
   "cell_type": "markdown",
   "id": "9569b931-ef4f-46e7-ac0b-b2dd0e8544d9",
   "metadata": {},
   "source": [
    "Print the sentences from the annual report from 2021."
   ]
  },
  {
   "cell_type": "code",
   "execution_count": 55,
   "id": "142477a7-b92c-49b7-9113-83bf4bd94e04",
   "metadata": {},
   "outputs": [
    {
     "name": "stdout",
     "output_type": "stream",
     "text": [
      "Total number of sentences of 2021: 4329\n",
      "\n",
      "Print the first 10 sentences from Co-op annual reports: \n",
      "['Co-op Annual Report & Accounts for 2021Co-operating for a Fairer World', 'Contents Strategic report 3 2021 in brief 4 Co-operating for a Fairer World 5 Chair’s introduction – Allan Leighton 7 Report from the President of the National Members’ Council – Denise Scott-McDonald 9 Chief Executive’s overview - Steve Murrells 12 Business unit updates 19 Fairer for our members and communities 25 Fairer for our colleagues 28 Fairer for our planet 30 Creating an even stronger and more agile Co-op 33 Our financial performance 41 Key performance indicators 43 Risk management Governance reports 54 Board biographies 57 Executive biographies 59 Governance review 72 The report of the Risk and Audit Committee83 The report of the Remuneration Committee 101 The report of the Nominations Committee 105 Directors’ report 113 Statement of Co-op Board 115 Co-op’s National Members’ Council: annual statement for 2021 120 The report of the Scrutiny Committee 122 Promoting the success of our Co-op Financial statements 130 Consolidated income statement 131 Consolidated statement of comprehensive income 132 Consolidated balance sheet 133 Consolidated statement of changes in equity 134 Consolidated statement of cash flows 135 Notes to the financial statements 192 General accounting policies 197 Independent auditor’s report to the members of Co-operative Group Limited 211 Jargon buster 220 Five-year summary Quick reads Here are the top places to look in our Annual Report if you only have 15 minutes: 3 2021 in brief 4 Co-operating for a Fairer World 9 Chief Executive’s overview 41 Key performance indicators (KPIs) 54 Board biographies 59 Governance review 211 Jargon buster You can also jump back to this page by clicking this icon in the top of every page', 'Co-op Annual Report & Accounts for 20212', 'Continuing to be fairer for our members and communities, fairer for our colleagues and fairer for the planet 2021 in brief Since 2016, together we’ve raised £100m for local communities, causes and charity partners£4', '5m raised in 2021 by our members, colleagues and customers for our national charity partners Mind, SAMH (Scottish Association for Mental Health) and Inspire, taking the total to £7m raised since 2019517,000 new members recruited in 2021: more than 2019 (470k) and 2020 (445k)', '38', '8% of new members aged 35 and under, well above our target for younger members 100% own brand packaging recyclability achieved, in line with the roll out of our new soft plastics recycling programme and our 10-Point Climate Plan£20', '7m shared with members through member rewards', '£10m in total saved by redeeming digital offers33,000 frontline colleagues moved to the Real Living Wage, where pay wasn’t already at that level266,738 unique members joined in with Co-op 578,583 times; 50% up on 2020 More than 1m mem bers selected a Local Community Fund cause to support in the latest round of funding working in par tnership with: working in par tnership with: working in par tnership with:£ 11', '2 bn Group revenue Up 3% on 2019 (2019: £10']\n",
      "\n",
      "Data type: <class 'list'>\n"
     ]
    }
   ],
   "source": [
    "# print the sentences summary of 2021 Co-op annual report\n",
    "print(f\"Total number of sentences of 2021: {len(coop_sen_2021)}\")\n",
    "print(\"\\nPrint the first 10 sentences from Co-op annual reports: \")\n",
    "print(coop_sen_2021[:10])\n",
    "print(f\"\\nData type: {type(coop_sen_2021)}\")"
   ]
  },
  {
   "cell_type": "markdown",
   "id": "b0bd5406-7df2-43dd-8e13-09e90d2b26d2",
   "metadata": {},
   "source": [
    "Second, it will standardise the sentences for each annual reports."
   ]
  },
  {
   "cell_type": "code",
   "execution_count": 56,
   "id": "099c1ce3-e5c7-4cd1-a919-28ce2a6b654b",
   "metadata": {},
   "outputs": [],
   "source": [
    "# Standardise all sentences from all Co-op annual reports\n",
    "coop_standsent_2022 = standardize_sentences(coop_sen_2022)\n",
    "coop_standsent_2021 = standardize_sentences(coop_sen_2021)\n",
    "coop_standsent_2020 = standardize_sentences(coop_sen_2020)\n",
    "coop_standsent_2019 = standardize_sentences(coop_sen_2019)\n",
    "coop_standsent_2018 = standardize_sentences(coop_sen_2018)\n",
    "coop_standsent_2017 = standardize_sentences(coop_sen_2017)\n",
    "coop_standsent_2016 = standardize_sentences(coop_sen_2016)\n",
    "coop_standsent_2015 = standardize_sentences(coop_sen_2015)\n",
    "coop_standsent_2014 = standardize_sentences(coop_sen_2014)\n",
    "coop_standsent_2013 = standardize_sentences(coop_sen_2013)\n",
    "coop_standsent_2012 = standardize_sentences(coop_sen_2012)\n"
   ]
  },
  {
   "cell_type": "markdown",
   "id": "2d8b6e51-373b-4c56-8d3d-fd11b7429d73",
   "metadata": {},
   "source": [
    "Print the short summary of standardised sentences of 2021 annual reports."
   ]
  },
  {
   "cell_type": "code",
   "execution_count": 57,
   "id": "5a3ce9a4-1ce5-400f-aa6c-8f83abc067a3",
   "metadata": {},
   "outputs": [
    {
     "name": "stdout",
     "output_type": "stream",
     "text": [
      "Total number of standardized sentences of 2021: 4329\n",
      "\n",
      "Print the first 10 standardized sentences from Co-op annual reprots: \n",
      "['co op annual report accounts co operating fairer world', 'contents strategic report brief co operating fairer world chair introduction allan leighton report president national members council denise scott mcdonald chief executive overview steve murrells business unit updates fairer members communities fairer colleagues fairer planet creating even stronger agile co op financial performance key performance indicators risk management governance reports board biographies executive biographies governance review report risk audit committee report remuneration committee report nominations committee directors report statement co op board co op national members council annual statement report scrutiny committee promoting success co op financial statements consolidated income statement consolidated statement comprehensive income consolidated balance sheet consolidated statement changes equity consolidated statement cash flows notes financial statements general accounting policies independent auditor report members co operative group limited jargon buster five year summary quick reads top places look annual report minutes brief co operating fairer world chief executive overview key performance indicators kpis board biographies governance review jargon buster also jump back page clicking icon top every page', 'co op annual report accounts', 'continuing fairer members communities fairer colleagues fairer planet brief since together raised local communities causes charity partners', 'raised members colleagues customers national charity partners mind samh scottish association mental health inspire taking total raised since new members recruited k k', '', 'new members aged well target younger members brand packaging recyclability achieved line roll new soft plastics recycling programme point climate plan', 'shared members member rewards', 'total saved redeeming digital offers frontline colleagues moved real living wage pay already level unique members joined co op times mem bers selected local community fund cause support latest round funding working par tnership working par tnership working par tnership', 'bn group revenue']\n",
      "\n",
      "Data type: <class 'list'>\n"
     ]
    }
   ],
   "source": [
    "# print the standardized sentences summary of 2021 Co-op annual report\n",
    "print(f\"Total number of standardized sentences of 2021: {len(coop_standsent_2021)}\")\n",
    "print(\"\\nPrint the first 10 standardized sentences from Co-op annual reprots: \")\n",
    "print(coop_standsent_2021[:10])\n",
    "print(f\"\\nData type: {type(coop_standsent_2021)}\")"
   ]
  },
  {
   "cell_type": "markdown",
   "id": "421acde3-232a-477e-bdf7-48f630137b80",
   "metadata": {},
   "source": [
    "Next, it will combine all standardised sentences together as a list."
   ]
  },
  {
   "cell_type": "code",
   "execution_count": 58,
   "id": "7e2ae9f0-ef5a-4fc1-88f2-b92da1c70735",
   "metadata": {},
   "outputs": [
    {
     "name": "stdout",
     "output_type": "stream",
     "text": [
      "Total number of all standardised sentences: 44736\n",
      "\n",
      "The first 10 John Co-op standardised sentences:\n",
      "['co op annual report accounts co operating fairer world', 'contents strategic report brief co operating fairer world chair introduction allan leighton report president national members council denise scott mcdonald chief executive overview shirine khoury haq financial overview membership update business unit updates vision update financial performance key performance indicators risk management governance reports board biographies executive biographies governance review report risk audit committee report remuneration committee report nominations committee directors report statement co op board co op national members council annual statement report scrutiny committee promoting success co op financial statements consolidated income statement consolidated statement comprehensive income consolidated balance sheet consolidated statement changes equity consolidated statement cash flows notes financial statements general accounting policies independent auditor report members co operative group limited jargon buster five year summary quick reads top places look annual report minutes brief co operating fairer world chief executive overview key performance indicators kpis board biographies governance review jargon buster also jump back page clicking icon top every page', 'co op annual report accounts', 'successful year co op continued deliver members customers communities maintained profitability significantly reduced debt levels despite challenging external environment operating', 'brief', 'bn group revenue revenue fy', 'bn despite revenue generated group petrol forecourts lower result sale year underlying operating profit underlying operating profit maintained fy despite energy salary inflation profits generated group petrol forecourts lower result sale year group profit tax group profit tax fy munderlying ebitda underlying ebitda fy net cash operating activities net cash operating activities improves group net debt represents improvement driven disposal petrol forecourts business strong cashflow generation renewed focus cost discipline pbt includes profit sale petrol forecourts october', '', 'people signposted information activity support mental wellbeing since partnerships mind samh inspire', 'new partnership launched local pantry set see network triple within three years pantries across uk']\n",
      "\n",
      "Data type: <class 'list'>\n"
     ]
    }
   ],
   "source": [
    "# Combine all standardised sentence into a list\n",
    "coop_standsent_all = (\n",
    "    coop_standsent_2022 +\n",
    "    coop_standsent_2021 +\n",
    "    coop_standsent_2020 +\n",
    "    coop_standsent_2019 +\n",
    "    coop_standsent_2018 +\n",
    "    coop_standsent_2017 +\n",
    "    coop_standsent_2016 +\n",
    "    coop_standsent_2015 +\n",
    "    coop_standsent_2014 +\n",
    "    coop_standsent_2013 +\n",
    "    coop_standsent_2012\n",
    ")\n",
    "\n",
    "print(f'Total number of all standardised sentences: {len(coop_standsent_all)}')\n",
    "print('\\nThe first 10 John Co-op standardised sentences:')\n",
    "print(coop_standsent_all[:10])\n",
    "print(f\"\\nData type: {type(coop_standsent_all)}\")"
   ]
  },
  {
   "cell_type": "markdown",
   "id": "6be40b34-e490-4e51-acfc-a1072aa0b62d",
   "metadata": {
    "tags": []
   },
   "source": [
    "## B7. Assocaited British Food"
   ]
  },
  {
   "cell_type": "code",
   "execution_count": 59,
   "id": "f97826b3-8ee6-4546-8b0c-83c751527b43",
   "metadata": {},
   "outputs": [],
   "source": [
    "# Setting the path of ABF annual reports from 2012 to 2022\n",
    "abf_2022_path = \"AR/abf/abf-ar2022.pdf\"\n",
    "abf_2021_path = \"AR/abf/abf-ar2021.pdf\"\n",
    "abf_2020_path = \"AR/abf/abf-ar2020.pdf\"\n",
    "abf_2019_path = \"AR/abf/abf-ar2019.pdf\"\n",
    "abf_2018_path = \"AR/abf/abf-ar2018.pdf\"\n",
    "abf_2017_path = \"AR/abf/abf-ar2017.pdf\"\n",
    "abf_2016_path = \"AR/abf/abf-ar2016.pdf\"\n",
    "abf_2015_path = \"AR/abf/abf-ar2015.pdf\"\n",
    "abf_2014_path = \"AR/abf/abf-ar2014.pdf\"\n",
    "abf_2013_path = \"AR/abf/abf-ar2013.pdf\"\n",
    "abf_2012_path = \"AR/abf/abf-ar2012.pdf\""
   ]
  },
  {
   "cell_type": "code",
   "execution_count": 60,
   "id": "3001f2e6-5761-47b4-be48-af9d2e55ca43",
   "metadata": {},
   "outputs": [],
   "source": [
    "# Extract text from ABF annual report\n",
    "abf_sen_2022 = extract_pdf_text(abf_2022_path)\n",
    "abf_sen_2021 = extract_pdf_text(abf_2021_path)\n",
    "abf_sen_2020 = extract_pdf_text(abf_2020_path)\n",
    "abf_sen_2019 = extract_pdf_text(abf_2019_path)\n",
    "abf_sen_2018 = extract_pdf_text(abf_2018_path)\n",
    "abf_sen_2017 = extract_pdf_text(abf_2017_path)\n",
    "abf_sen_2016 = extract_pdf_text(abf_2016_path)\n",
    "abf_sen_2015 = extract_pdf_text(abf_2015_path)\n",
    "abf_sen_2014 = extract_pdf_text(abf_2014_path)\n",
    "abf_sen_2013 = extract_pdf_text(abf_2013_path)\n",
    "abf_sen_2012 = extract_pdf_text(abf_2012_path)\n"
   ]
  },
  {
   "cell_type": "markdown",
   "id": "550a327e-b636-4021-907b-e540a492cb17",
   "metadata": {},
   "source": [
    "Print the sentences from the annual report from 2021."
   ]
  },
  {
   "cell_type": "code",
   "execution_count": 61,
   "id": "e33aea31-f15f-42a0-9d6b-e9b80dc6f230",
   "metadata": {},
   "outputs": [
    {
     "name": "stdout",
     "output_type": "stream",
     "text": [
      "Total number of sentences of 2021: 4863\n",
      "\n",
      "Print the first 10 sentences from ABF annual reports: \n",
      "['Associated British Foods plc Annual Report and Accounts 2021 Annual Report 2021 Creating value', 'Group revenue £13', '9bn (2020: £13', '9bn)Adjusted profit before tax £908m (2020: £914m) Dividends per share 26', '7p (2020: Nil)Special dividend per share 13', '8p Net cash before lease liabilities £1,901m (2020: £1,558m) Profit before tax £725m (2020: £686m)Adjusted operating profit £1,011m (2020: £1,024m) Adjusted earnings per share 80', '1p (2020: 81', '1p) Gross investment £721m (2020: £641m) Operating profit £808m (2020: £810m)Basic earnings per share 60', '5p (2020: 57', \"6p)2021 GROUP FINANCIAL HIGHLIGHTS Strategic report IFC 2021 Group financial highlights IFC At a glance 1 Introduction 12 Chairman's statement 16 Chief Executive's statement 18 Our business model and strategy 20 Key performance indicators 22 Operating review 22 Grocery 32 Sugar 40 Agriculture 46 Ingredients 52 Retail 62 Financial review 65 Section 172 and our stakeholders 72 Responsibility 86 Climate-related Financial Disclosures (TCFD) 88 Principal risks and uncertainties 95 Viability statement and going concernCONTENTS Governance 96 Chairman’s introduction 98 Board of Directors 100 Corporate governance 117 Directors’ Remuneration Report 136 Directors’ Report 139 Statement of directors’ responsibilities 140 Independent Auditor’s Report Financial statements 150 Consolidated income statement 151 Consolidated statement of comprehensive income 152 Consolidated balance sheet 153 Consolidated cash flow statement 154 Consolidated statement of changes in equity 155 Significant accounting policies 161 Accounting estimates and judgements 162 Notes forming part of the financial statements 214 Company financial statements 222 Progress report 223 Glossary 224 Company directoryNet debt including lease liabilities £1,380m (2020: £2,081m)INTRODUCTION Associated British Foods is a highly diversified group, with a wide range of food and ingredient businesses as well as our flagship retail brand, Primark\"]\n",
      "\n",
      "Data type: <class 'list'>\n"
     ]
    }
   ],
   "source": [
    "# print the sentences summary of 2021 ABF annual report\n",
    "print(f\"Total number of sentences of 2021: {len(abf_sen_2021)}\")\n",
    "print(\"\\nPrint the first 10 sentences from ABF annual reports: \")\n",
    "print(abf_sen_2021[:10])\n",
    "print(f\"\\nData type: {type(abf_sen_2021)}\")"
   ]
  },
  {
   "cell_type": "markdown",
   "id": "f831b8d8-6820-4607-b566-4bb9a2ffd601",
   "metadata": {},
   "source": [
    "Second, it will standardise the sentences for each annual reports."
   ]
  },
  {
   "cell_type": "code",
   "execution_count": 62,
   "id": "e0a4f19e-8c06-42a3-9727-22ae47d7bfe2",
   "metadata": {},
   "outputs": [],
   "source": [
    "# Standardise all sentences from all ABF annual reports\n",
    "abf_standsent_2022 = standardize_sentences(abf_sen_2022)\n",
    "abf_standsent_2021 = standardize_sentences(abf_sen_2021)\n",
    "abf_standsent_2020 = standardize_sentences(abf_sen_2020)\n",
    "abf_standsent_2019 = standardize_sentences(abf_sen_2019)\n",
    "abf_standsent_2018 = standardize_sentences(abf_sen_2018)\n",
    "abf_standsent_2017 = standardize_sentences(abf_sen_2017)\n",
    "abf_standsent_2016 = standardize_sentences(abf_sen_2016)\n",
    "abf_standsent_2015 = standardize_sentences(abf_sen_2015)\n",
    "abf_standsent_2014 = standardize_sentences(abf_sen_2014)\n",
    "abf_standsent_2013 = standardize_sentences(abf_sen_2013)\n",
    "abf_standsent_2012 = standardize_sentences(abf_sen_2012)\n"
   ]
  },
  {
   "cell_type": "markdown",
   "id": "c4175e5c-a8c1-4cbb-b440-ea73e065d46d",
   "metadata": {},
   "source": [
    "Print the short summary of standardised sentences of 2021 annual reports."
   ]
  },
  {
   "cell_type": "code",
   "execution_count": 63,
   "id": "2a02ca7a-b33f-439b-91ad-2a62eb47f0c4",
   "metadata": {},
   "outputs": [
    {
     "name": "stdout",
     "output_type": "stream",
     "text": [
      "Total number of standardized sentences of 2021: 4863\n",
      "\n",
      "Print the first 10 standardized sentences from ABF annual reprots: \n",
      "['associated british foods plc annual report accounts annual report creating value', 'group revenue', 'bn', 'bn adjusted profit tax dividends per share', 'p nil special dividend per share', 'p net cash lease liabilities profit tax adjusted operating profit adjusted earnings per share', 'p', 'p gross investment operating profit basic earnings per share', 'p', 'p group financial highlights strategic report ifc group financial highlights ifc glance introduction chairman statement chief executive statement business model strategy key performance indicators operating review grocery sugar agriculture ingredients retail financial review section stakeholders responsibility climate related financial disclosures tcfd principal risks uncertainties viability statement going concerncontents governance chairman introduction board directors corporate governance directors remuneration report directors report statement directors responsibilities independent auditor report financial statements consolidated income statement consolidated statement comprehensive income consolidated balance sheet consolidated cash flow statement consolidated statement changes equity significant accounting policies accounting estimates judgements notes forming part financial statements company financial statements progress report glossary company directorynet debt including lease liabilities introduction associated british foods highly diversified group wide range food ingredient businesses well flagship retail brand primark']\n",
      "\n",
      "Data type: <class 'list'>\n"
     ]
    }
   ],
   "source": [
    "# print the standardized sentences summary of 2021 ABF annual report\n",
    "print(f\"Total number of standardized sentences of 2021: {len(abf_standsent_2021)}\")\n",
    "print(\"\\nPrint the first 10 standardized sentences from ABF annual reprots: \")\n",
    "print(abf_standsent_2021[:10])\n",
    "print(f\"\\nData type: {type(abf_standsent_2021)}\")"
   ]
  },
  {
   "cell_type": "markdown",
   "id": "481deed4-d76e-45b1-bd4e-f7fea3a91462",
   "metadata": {},
   "source": [
    "Next, it will combine all standardised sentences together as a list."
   ]
  },
  {
   "cell_type": "code",
   "execution_count": 64,
   "id": "27c89756-7d74-42a5-8096-5c93b44713fc",
   "metadata": {},
   "outputs": [
    {
     "name": "stdout",
     "output_type": "stream",
     "text": [
      "Total number of all standardised sentences: 45229\n",
      "\n",
      "The first 10 ABF standardised sentences:\n",
      "['invested future annual report associated british foods plc annual report accounts', 'grocery ingredients retailsugar agricultureat glance operating businesses brandsrevenue adjusted operating profit one largest sugar producers world uk largest animal feed business uk households use grocery brands one leading suppliers specialty yeast ingredients globally one largest fashion retailers europeour grocery division employs people comprises brands occupy leading positions markets across globe', 'uk nine households use brands', 'twinings ovaltine brands enjoyed countries worldwide', 'ab sugar leading producer sugar sugar derived co products africa uk spain north east china', 'ab agri leading international agri food business operating across supply chain producing marketing animal feed nutrition technology based products services', 'ingredients businesses leaders yeast bakery ingredients well specialty ingredients food human animal nutrition pharmaceutical various industries', 'primark one largest clothing retailers europe largest volume uk growing presence us', 'total stores countries across europe us', 'values us operating businesses see pages values operate']\n",
      "\n",
      "Data type: <class 'list'>\n"
     ]
    }
   ],
   "source": [
    "# Combine all standardised sentence into a list\n",
    "abf_standsent_all = (\n",
    "    abf_standsent_2022 +\n",
    "    abf_standsent_2021 +\n",
    "    abf_standsent_2020 +\n",
    "    abf_standsent_2019 +\n",
    "    abf_standsent_2018 +\n",
    "    abf_standsent_2017 +\n",
    "    abf_standsent_2016 +\n",
    "    abf_standsent_2015 +\n",
    "    abf_standsent_2014 +\n",
    "    abf_standsent_2013 +\n",
    "    abf_standsent_2012\n",
    ")\n",
    "\n",
    "print(f'Total number of all standardised sentences: {len(abf_standsent_all)}')\n",
    "print('\\nThe first 10 ABF standardised sentences:')\n",
    "print(abf_standsent_all[:10])\n",
    "print(f\"\\nData type: {type(abf_standsent_all)}\")"
   ]
  },
  {
   "cell_type": "markdown",
   "id": "78f74f78-6219-419c-8b5d-37c3f268e860",
   "metadata": {
    "tags": []
   },
   "source": [
    "## B8. Next"
   ]
  },
  {
   "cell_type": "code",
   "execution_count": 65,
   "id": "49af1562-d9f6-4842-a86b-e1d4bc69d45c",
   "metadata": {},
   "outputs": [],
   "source": [
    "# Setting the path of Next annual reports from 2012 to 2022\n",
    "nxt_2022_path = \"AR/next/nxt-ar2022.pdf\"\n",
    "nxt_2021_path = \"AR/next/nxt-ar2021.pdf\"\n",
    "nxt_2020_path = \"AR/next/nxt-ar2020.pdf\"\n",
    "nxt_2019_path = \"AR/next/nxt-ar2019.pdf\"\n",
    "nxt_2018_path = \"AR/next/nxt-ar2018.pdf\"\n",
    "nxt_2017_path = \"AR/next/nxt-ar2017.pdf\"\n",
    "nxt_2016_path = \"AR/next/nxt-ar2016.pdf\"\n",
    "nxt_2015_path = \"AR/next/nxt-ar2015.pdf\"\n",
    "nxt_2014_path = \"AR/next/nxt-ar2014.pdf\"\n",
    "nxt_2013_path = \"AR/next/nxt-ar2013.pdf\"\n",
    "nxt_2012_path = \"AR/next/nxt-ar2012.pdf\""
   ]
  },
  {
   "cell_type": "code",
   "execution_count": 66,
   "id": "3817adea-ba68-4122-b0b7-afddb5e0cca8",
   "metadata": {},
   "outputs": [],
   "source": [
    "# Extract text from Next annual report\n",
    "nxt_sen_2022 = extract_pdf_text(nxt_2022_path)\n",
    "nxt_sen_2021 = extract_pdf_text(nxt_2021_path)\n",
    "nxt_sen_2020 = extract_pdf_text(nxt_2020_path)\n",
    "nxt_sen_2019 = extract_pdf_text(nxt_2019_path)\n",
    "nxt_sen_2018 = extract_pdf_text(nxt_2018_path)\n",
    "nxt_sen_2017 = extract_pdf_text(nxt_2017_path)\n",
    "nxt_sen_2016 = extract_pdf_text(nxt_2016_path)\n",
    "nxt_sen_2015 = extract_pdf_text(nxt_2015_path)\n",
    "nxt_sen_2014 = extract_pdf_text(nxt_2014_path)\n",
    "nxt_sen_2013 = extract_pdf_text(nxt_2013_path)\n",
    "nxt_sen_2012 = extract_pdf_text(nxt_2012_path)\n"
   ]
  },
  {
   "cell_type": "markdown",
   "id": "e10a64b1-d8d7-404d-a9f7-2e817a3e2510",
   "metadata": {},
   "source": [
    "Print the sentences from the annual report from 2021."
   ]
  },
  {
   "cell_type": "code",
   "execution_count": 67,
   "id": "9c3dcee4-0ec4-467d-b6d5-93f1a9a78854",
   "metadata": {},
   "outputs": [
    {
     "name": "stdout",
     "output_type": "stream",
     "text": [
      "Total number of sentences of 2021: 8619\n",
      "\n",
      "Print the first 10 sentences from Next annual reports: \n",
      "['ANNUAL REPORT & ACCOUNTS JANUARY 2022', 'CONTENTS Strategic Report 2 Chairman’s Statement 3 Chief Executive’s Review 74 Business Model 76 Key Performance Indicators 78 Risks and Uncertainties 87 Viability Assessment 89 Corporate Responsibility 110 Section 172 Statement 114 Non-Financial Information Statement Governance 116 Directors’ Biographies 118 Directors’ Responsibilities 119 Corporate Governance Report 126 Nomination Committee Report 127 Audit Committee Report 135 Remuneration Report 160 Directors’ Report 162 Independent Auditor’s Report Financial Statements Group Financial Statements 173 Consolidated Income Statement 174 Consolidated Statement of Comprehensive Income 175 Consolidated Balance Sheet 176 Consolidated Statement of Changes in Equity 177 Consolidated Cash Flow Statement 178 Group Accounting Policies 192 Notes to the Consolidated Financial Statements Parent Company Financial Statements 235 Parent Company Balance Sheet 236 Parent Company Statement of Changes in Equity 237 Notes to the Parent Company Financial Statements Shareholder Information 240 Half Year and Segment Analysis 241 Five Year History 242 Glossary 245 Notice of Meeting 252 Other Shareholder Information FINANCIAL HIGHLIGHTS Jan 22 Jan 21Jan 20Jan 19 Jan 18 £4', '1bn £4', '2bn £4', '4bn £3', '6bn £4', '9bnTOTAL SALES ¹ APM Underlying continuing business £4', '9bn £726mJan 22 Jan 21Jan 20 Jan 19 Jan 182 £734m £749m £342m £823mPROFIT BEFORE TAX £823m 416', '7pJan 22 Jan 21Jan 19Jan 20 Jan 182 441', '7P 472']\n",
      "\n",
      "Data type: <class 'list'>\n"
     ]
    }
   ],
   "source": [
    "# print the sentences summary of 2021 Next annual report\n",
    "print(f\"Total number of sentences of 2021: {len(nxt_sen_2021)}\")\n",
    "print(\"\\nPrint the first 10 sentences from Next annual reports: \")\n",
    "print(nxt_sen_2021[:10])\n",
    "print(f\"\\nData type: {type(nxt_sen_2021)}\")"
   ]
  },
  {
   "cell_type": "markdown",
   "id": "40cad006-91e0-408c-b904-bc3462b1f92a",
   "metadata": {},
   "source": [
    "Second, it will standardise the sentences for each annual reports."
   ]
  },
  {
   "cell_type": "code",
   "execution_count": 68,
   "id": "99d1d255-6efd-4a03-ad44-b36d586f6207",
   "metadata": {},
   "outputs": [],
   "source": [
    "# Standardise all sentences from all Next annual reports\n",
    "nxt_standsent_2022 = standardize_sentences(nxt_sen_2022)\n",
    "nxt_standsent_2021 = standardize_sentences(nxt_sen_2021)\n",
    "nxt_standsent_2020 = standardize_sentences(nxt_sen_2020)\n",
    "nxt_standsent_2019 = standardize_sentences(nxt_sen_2019)\n",
    "nxt_standsent_2018 = standardize_sentences(nxt_sen_2018)\n",
    "nxt_standsent_2017 = standardize_sentences(nxt_sen_2017)\n",
    "nxt_standsent_2016 = standardize_sentences(nxt_sen_2016)\n",
    "nxt_standsent_2015 = standardize_sentences(nxt_sen_2015)\n",
    "nxt_standsent_2014 = standardize_sentences(nxt_sen_2014)\n",
    "nxt_standsent_2013 = standardize_sentences(nxt_sen_2013)\n",
    "nxt_standsent_2012 = standardize_sentences(nxt_sen_2012)\n"
   ]
  },
  {
   "cell_type": "markdown",
   "id": "5702cb66-2083-499a-96c0-9f593703ef84",
   "metadata": {},
   "source": [
    "Print the short summary of standardised sentences of 2021 annual reports."
   ]
  },
  {
   "cell_type": "code",
   "execution_count": 69,
   "id": "38cf2246-34a0-4cc6-a9b3-725f8d4cbff1",
   "metadata": {},
   "outputs": [
    {
     "name": "stdout",
     "output_type": "stream",
     "text": [
      "Total number of standardized sentences of 2021: 8619\n",
      "\n",
      "Print the first 10 standardized sentences from Next annual reprots: \n",
      "['annual report accounts january', 'contents strategic report chairman statement chief executive review business model key performance indicators risks uncertainties viability assessment corporate responsibility section statement non financial information statement governance directors biographies directors responsibilities corporate governance report nomination committee report audit committee report remuneration report directors report independent auditor report financial statements group financial statements consolidated income statement consolidated statement comprehensive income consolidated balance sheet consolidated statement changes equity consolidated cash flow statement group accounting policies notes consolidated financial statements parent company financial statements parent company balance sheet parent company statement changes equity notes parent company financial statements shareholder information half year segment analysis five year history glossary notice meeting shareholder information financial highlights jan jan jan jan jan', 'bn', 'bn', 'bn', 'bn', 'bntotal sales apm underlying continuing business', 'bn mjan jan jan jan jan mprofit tax', 'pjan jan jan jan jan', 'p']\n",
      "\n",
      "Data type: <class 'list'>\n"
     ]
    }
   ],
   "source": [
    "# print the standardized sentences summary of 2021 Next annual report\n",
    "print(f\"Total number of standardized sentences of 2021: {len(nxt_standsent_2021)}\")\n",
    "print(\"\\nPrint the first 10 standardized sentences from Next annual reprots: \")\n",
    "print(nxt_standsent_2021[:10])\n",
    "print(f\"\\nData type: {type(nxt_standsent_2021)}\")"
   ]
  },
  {
   "cell_type": "markdown",
   "id": "f8b45440-8c17-47a7-8ebb-f5c52d0266d6",
   "metadata": {},
   "source": [
    "Next, it will combine all standardised sentences together as a list."
   ]
  },
  {
   "cell_type": "code",
   "execution_count": 70,
   "id": "dd072506-fa2d-4486-9caa-f2257b388fe4",
   "metadata": {},
   "outputs": [
    {
     "name": "stdout",
     "output_type": "stream",
     "text": [
      "Total number of all standardised sentences: 67838\n",
      "\n",
      "The first 10 Next standardised sentences:\n",
      "['annual report accounts january', 'contents strategic report chairman statement chief executive review business model key performance indicators risks uncertainties viability assessment corporate responsibility section statement non financial information statement governance directors biographies irectors responsibilities statement corporate governance report nomination committee report audit committee report remuneration report directors report independent auditors reportfinancial statements group financial statements consolidated income statement c onsolidated statement comprehensive income consolidated balance sheet c onsolidated statement changes equity consolidated cash flow statement group accounting policies n otes consolidated financial statements parent company financial statements parent company balance sheet p arent company statement changes equity n otes parent company financial statements shareholder information half year segment analysis five year history glossary notice meeting shareholder information', 'financial highlights jan jan jan jan', 'bn', 'bn', 'bn', 'bn', 'bnjan total group sales apm underlying continuing business', 'bn jan jan jan jan mjan', 'mnext profit tax apm']\n",
      "\n",
      "Data type: <class 'list'>\n"
     ]
    }
   ],
   "source": [
    "# Combine all standardised sentence into a list\n",
    "nxt_standsent_all = (\n",
    "    nxt_standsent_2022 +\n",
    "    nxt_standsent_2021 +\n",
    "    nxt_standsent_2020 +\n",
    "    nxt_standsent_2019 +\n",
    "    nxt_standsent_2018 +\n",
    "    nxt_standsent_2017 +\n",
    "    nxt_standsent_2016 +\n",
    "    nxt_standsent_2015 +\n",
    "    nxt_standsent_2014 +\n",
    "    nxt_standsent_2013 +\n",
    "    nxt_standsent_2012\n",
    ")\n",
    "\n",
    "print(f'Total number of all standardised sentences: {len(nxt_standsent_all)}')\n",
    "print('\\nThe first 10 Next standardised sentences:')\n",
    "print(nxt_standsent_all[:10])\n",
    "print(f\"\\nData type: {type(nxt_standsent_all)}\")"
   ]
  },
  {
   "cell_type": "markdown",
   "id": "b1deecf4-30f3-4def-a208-1cecb9153637",
   "metadata": {
    "tags": []
   },
   "source": [
    "## B9. Ted Baker"
   ]
  },
  {
   "cell_type": "code",
   "execution_count": 71,
   "id": "367823cb-94ef-4830-aa4d-cd8cc9cc3f84",
   "metadata": {},
   "outputs": [],
   "source": [
    "# Setting the path of Ted Baker annual reports from 2012 to 2022\n",
    "tbk_2022_path = \"AR/ted_baker/tbk-ar2022.pdf\"\n",
    "tbk_2021_path = \"AR/ted_baker/tbk-ar2021.pdf\"\n",
    "tbk_2020_path = \"AR/ted_baker/tbk-ar2020.pdf\"\n",
    "tbk_2019_path = \"AR/ted_baker/tbk-ar2019.pdf\"\n",
    "tbk_2018_path = \"AR/ted_baker/tbk-ar2018.pdf\"\n",
    "tbk_2017_path = \"AR/ted_baker/tbk-ar2017.pdf\"\n",
    "tbk_2016_path = \"AR/ted_baker/tbk-ar2016.pdf\"\n",
    "tbk_2015_path = \"AR/ted_baker/tbk-ar2015.pdf\"\n",
    "tbk_2014_path = \"AR/ted_baker/tbk-ar2014.pdf\"\n",
    "tbk_2013_path = \"AR/ted_baker/tbk-ar2013.pdf\"\n",
    "tbk_2012_path = \"AR/ted_baker/tbk-ar2012.pdf\"\n"
   ]
  },
  {
   "cell_type": "code",
   "execution_count": 72,
   "id": "88053c97-4b32-46da-b2e0-c067e5c78d38",
   "metadata": {},
   "outputs": [],
   "source": [
    "# Extract text from annual report\n",
    "tbk_sen_2022 = extract_pdf_text(tbk_2022_path)\n",
    "tbk_sen_2021 = extract_pdf_text(tbk_2021_path)\n",
    "tbk_sen_2020 = extract_pdf_text(tbk_2020_path)\n",
    "tbk_sen_2019 = extract_pdf_text(tbk_2019_path)\n",
    "tbk_sen_2018 = extract_pdf_text(tbk_2018_path)\n",
    "tbk_sen_2017 = extract_pdf_text(tbk_2017_path)\n",
    "tbk_sen_2016 = extract_pdf_text(tbk_2016_path)\n",
    "tbk_sen_2015 = extract_pdf_text(tbk_2015_path)\n",
    "tbk_sen_2014 = extract_pdf_text(tbk_2014_path)\n",
    "tbk_sen_2013 = extract_pdf_text(tbk_2013_path)\n",
    "tbk_sen_2012 = extract_pdf_text(tbk_2012_path)\n"
   ]
  },
  {
   "cell_type": "markdown",
   "id": "53f8257d-10fc-4ad0-b317-5e24a5ca4377",
   "metadata": {},
   "source": [
    "Print the sentences from the annual report from 2021."
   ]
  },
  {
   "cell_type": "code",
   "execution_count": 73,
   "id": "51213c1a-7428-440e-ae21-4c14ec74bbc4",
   "metadata": {},
   "outputs": [
    {
     "name": "stdout",
     "output_type": "stream",
     "text": [
      "Total number of sentences of 2021: 3577\n",
      "\n",
      "Print the first 10 sentences from Ted Baker annual reports: \n",
      "['ANNUAL REPORT— — ’2 1 REWRITING THE SCRIPT', 'TBAR–’2 1 STRATEGIC REPORT TED BAKER TODAY 2 Chief Executive’s review and introduction to Ted Baker 10 Our Chair, John Barton TAKING TED BAKER INTO THE FUTURE 12 Our business model 14 — Our customers 16 — Design, source and make 18 — Sell 20 Our strategy REVIEW OF THE YEAR 22 Chief Financial Officer’s introduction 24 Key performance indicators 26 Financial/operational review 34 Our sustainability stor y 35 — People 38 — Ethical sourcing programme 41 — Communities 42 — Planet 46 — Fashioning a better future 48 Risk report 54 Viability statement and going concernGOVERNANCE REPORT 58 Board of Directors 60 Executive Team 62 Chair’s introduction to governance 63 Corporate governance 72 Audit & Risk Committee Report 76 Nominations Committee Report 80 Remuneration Report 94 Directors’ Report 97 Statement of Directors’ responsibilities FINANCIAL STATEMENTS 100 Independent auditor’s report 106 Income statement 107 Statement of comprehensive income 108 Statement of changes in equity 110 Balance sheet 111 Cash flow statement 112 Notes to the financial statements 147 Five-year summary 150 Company informationContents', '1 Ted Baker plc Annual Report and Accounts 2021TED BAKER TODAY For more than 30 years Ted Baker has taken everything the world has thrown at it in its stride: the fickleness of changing fashions, the fortunes of boom and recession, the revolving door of bull and bear markets', 'But it is no secret the Company got itself into trouble in the last few years', 'We tackled these issues head on at the end of 2019 and put together a transformation strategy to turn the Company around', 'As we began to put the plan in place, the challenges the Company faced were intensified by the onset of the pandemic', 'Since the end of March last year, it has felt like a ride on a rollercoaster that is still being built, as we hurtle towards the next gravity-defying loop', 'It has made what would have been a difficult year for Ted Baker far more challenging', 'Yet we have kept a collective level head and found a way through, ending this terribly challenging year with a grip on the business and a clear transformation strategy in motion', 'And, despite the difficult trading conditions, with much to celebrate and look forward to with a refinanced business, we have an exciting new vision for our product which takes the best of Ted Baker into the future, and an enduring love of the brand by our customers']\n",
      "\n",
      "Data type: <class 'list'>\n"
     ]
    }
   ],
   "source": [
    "# print the sentences summary of 2021 annual report\n",
    "print(f\"Total number of sentences of 2021: {len(tbk_sen_2021)}\")\n",
    "print(\"\\nPrint the first 10 sentences from Ted Baker annual reports: \")\n",
    "print(tbk_sen_2021[:10])\n",
    "print(f\"\\nData type: {type(tbk_sen_2021)}\")"
   ]
  },
  {
   "cell_type": "markdown",
   "id": "af22f80a-c2da-4a90-bbc1-5dade922b75d",
   "metadata": {},
   "source": [
    "Second, it will standardise the sentences for each annual reports."
   ]
  },
  {
   "cell_type": "code",
   "execution_count": 74,
   "id": "8bcc9d4a-1b79-4179-8dfc-597b2564aae5",
   "metadata": {},
   "outputs": [],
   "source": [
    "# Standardise all sentences from all annual reports\n",
    "tbk_standsent_2022 = standardize_sentences(tbk_sen_2022)\n",
    "tbk_standsent_2021 = standardize_sentences(tbk_sen_2021)\n",
    "tbk_standsent_2020 = standardize_sentences(tbk_sen_2020)\n",
    "tbk_standsent_2019 = standardize_sentences(tbk_sen_2019)\n",
    "tbk_standsent_2018 = standardize_sentences(tbk_sen_2018)\n",
    "tbk_standsent_2017 = standardize_sentences(tbk_sen_2017)\n",
    "tbk_standsent_2016 = standardize_sentences(tbk_sen_2016)\n",
    "tbk_standsent_2015 = standardize_sentences(tbk_sen_2015)\n",
    "tbk_standsent_2014 = standardize_sentences(tbk_sen_2014)\n",
    "tbk_standsent_2013 = standardize_sentences(tbk_sen_2013)\n",
    "tbk_standsent_2012 = standardize_sentences(tbk_sen_2012)\n"
   ]
  },
  {
   "cell_type": "markdown",
   "id": "e65dcc04-709b-43f2-9b06-06d872be838e",
   "metadata": {},
   "source": [
    "Print the short summary of standardised sentences of 2021 annual reports."
   ]
  },
  {
   "cell_type": "code",
   "execution_count": 75,
   "id": "1cf3b996-41b6-4aa2-820d-381e309d6fc4",
   "metadata": {},
   "outputs": [
    {
     "name": "stdout",
     "output_type": "stream",
     "text": [
      "Total number of standardized sentences of 2021: 3577\n",
      "\n",
      "Print the first 10 standardized sentences from Ted Baker annual reprots: \n",
      "['annual report rewriting script', 'tbar strategic report ted baker today chief executive review introduction ted baker chair john barton taking ted baker future business model customers design source make sell strategy review year chief financial officer introduction key performance indicators financial operational review sustainability stor people ethical sourcing programme communities planet fashioning better future risk report viability statement going concerngovernance report board directors executive team chair introduction governance corporate governance audit risk committee report nominations committee report remuneration report directors report statement directors responsibilities financial statements independent auditor report income statement statement comprehensive income statement changes equity balance sheet cash flow statement notes financial statements five year summary company informationcontents', 'ted baker plc annual report accounts ted baker today years ted baker taken everything world thrown stride fickleness changing fashions fortunes boom recession revolving door bull bear markets', 'secret company got trouble last years', 'tackled issues head end put together transformation strategy turn company around', 'began put plan place challenges company faced intensified onset pandemic', 'since end march last year felt like ride rollercoaster still built hurtle towards next gravity defying loop', 'made would difficult year ted baker far challenging', 'yet kept collective level head found way ending terribly challenging year grip business clear transformation strategy motion', 'despite difficult trading conditions much celebrate look forward refinanced business exciting new vision product takes best ted baker future enduring love brand customers']\n",
      "\n",
      "Data type: <class 'list'>\n"
     ]
    }
   ],
   "source": [
    "# print the standardized sentences summary of 2021 annual report\n",
    "print(f\"Total number of standardized sentences of 2021: {len(tbk_standsent_2021)}\")\n",
    "print(\"\\nPrint the first 10 standardized sentences from Ted Baker annual reprots: \")\n",
    "print(tbk_standsent_2021[:10])\n",
    "print(f\"\\nData type: {type(tbk_standsent_2021)}\")"
   ]
  },
  {
   "cell_type": "markdown",
   "id": "b09ba5fd-a607-4710-958c-664143f3d365",
   "metadata": {},
   "source": [
    "Next, it will combine all standardised sentences together as a list."
   ]
  },
  {
   "cell_type": "code",
   "execution_count": 76,
   "id": "9a67a42e-aa6e-4594-ae81-0398f5dcdea6",
   "metadata": {},
   "outputs": [
    {
     "name": "stdout",
     "output_type": "stream",
     "text": [
      "Total number of all standardised sentences: 25602\n",
      "\n",
      "The first 10 Next standardised sentences:\n",
      "['attention detailannual report fy', 'one expected year ordinary previous year pandemic kept surprises sleeve', 'despite challenges however came year good progress transformation plan', 'foundations fixed black white began fill details bringing colour life ted baker journey', 'complete picture read', 'year year end th january', 'ttbb aar r tb ar contents strategic report ted baker today chief executive review introduction ted baker interim chair helena feltham taking ted baker future business model strategy brand customers product digital capital light growth priority markets review year chief financial officer introduction key performance indicators business financial review fashioning better future people communities charity partnerships ethical sourcing programme planet risk report going concern viability disclosure governance report board directors executive team interim chair introduction governance board year stakeholder engagement compliance audit risk committee report nominations committee report compliance code remuneration committee report directors remuneration policy summary annual report remuneration directors report statement directors responsibilities financial statements independent auditor report income statement statement comprehensive income statement changes equity balance sheet cash flow statement notes financial statements five year summary approach task force climate related financial disclosures company information', 'tb ar chief executive review looking back situation found start pandemic come long way', 'two years pandemic uncertainty made good progress thanks actions taken focus brand customers financial discipline', 'team continued pull together another incredibly hard year disruption achieved great things']\n",
      "\n",
      "Data type: <class 'list'>\n"
     ]
    }
   ],
   "source": [
    "# Combine all standardised sentence into a list\n",
    "tbk_standsent_all = (\n",
    "    tbk_standsent_2022 +\n",
    "    tbk_standsent_2021 +\n",
    "    tbk_standsent_2020 +\n",
    "    tbk_standsent_2019 +\n",
    "    tbk_standsent_2018 +\n",
    "    tbk_standsent_2017 +\n",
    "    tbk_standsent_2016 +\n",
    "    tbk_standsent_2015 +\n",
    "    tbk_standsent_2014 +\n",
    "    tbk_standsent_2013 +\n",
    "    tbk_standsent_2012\n",
    ")\n",
    "\n",
    "print(f'Total number of all standardised sentences: {len(tbk_standsent_all)}')\n",
    "print('\\nThe first 10 Next standardised sentences:')\n",
    "print(tbk_standsent_all[:10])\n",
    "print(f\"\\nData type: {type(tbk_standsent_all)}\")"
   ]
  },
  {
   "cell_type": "markdown",
   "id": "b22ec6c4-15be-4e55-8841-b8e0f95a45d3",
   "metadata": {
    "tags": []
   },
   "source": [
    "## B10. AO World PLC"
   ]
  },
  {
   "cell_type": "code",
   "execution_count": 77,
   "id": "fc566efa-8f9e-42cc-9262-227babcf0080",
   "metadata": {},
   "outputs": [],
   "source": [
    "# Setting the path of AO World PLC annual reports from 2012 to 2022\n",
    "ao_2022_path = \"AR/ao_world/ao-ar2022.pdf\"\n",
    "ao_2021_path = \"AR/ao_world/ao-ar2021.pdf\"\n",
    "ao_2020_path = \"AR/ao_world/ao-ar2020.pdf\"\n",
    "ao_2019_path = \"AR/ao_world/ao-ar2019.pdf\"\n",
    "ao_2018_path = \"AR/ao_world/ao-ar2018.pdf\"\n",
    "ao_2017_path = \"AR/ao_world/ao-ar2017.pdf\"\n",
    "ao_2016_path = \"AR/ao_world/ao-ar2016.pdf\"\n",
    "ao_2015_path = \"AR/ao_world/ao-ar2015.pdf\"\n",
    "ao_2014_path = \"AR/ao_world/ao-ar2014.pdf\"\n"
   ]
  },
  {
   "cell_type": "code",
   "execution_count": 78,
   "id": "01a6d3fa-a584-41c8-b91d-0d26ca13210e",
   "metadata": {},
   "outputs": [],
   "source": [
    "# Extract text from AO World PLC annual report\n",
    "ao_sen_2022 = extract_pdf_text(ao_2022_path)\n",
    "ao_sen_2021 = extract_pdf_text(ao_2021_path)\n",
    "ao_sen_2020 = extract_pdf_text(ao_2020_path)\n",
    "ao_sen_2019 = extract_pdf_text(ao_2019_path)\n",
    "ao_sen_2018 = extract_pdf_text(ao_2018_path)\n",
    "ao_sen_2017 = extract_pdf_text(ao_2017_path)\n",
    "ao_sen_2016 = extract_pdf_text(ao_2016_path)\n",
    "ao_sen_2015 = extract_pdf_text(ao_2015_path)\n",
    "ao_sen_2014 = extract_pdf_text(ao_2014_path)\n"
   ]
  },
  {
   "cell_type": "markdown",
   "id": "2114b46e-c6f8-4214-8d27-588de0b0f651",
   "metadata": {},
   "source": [
    "Print the sentences from the annual report from 2021."
   ]
  },
  {
   "cell_type": "code",
   "execution_count": 79,
   "id": "7eac20c4-e37c-4502-9a30-06bfbd08d7f8",
   "metadata": {},
   "outputs": [
    {
     "name": "stdout",
     "output_type": "stream",
     "text": [
      "Total number of sentences of 2021: 6204\n",
      "\n",
      "Print the first 10 sentences from AO World PLC annual reports: \n",
      "['30287 2 July 2021 4:59 pm V9 AO World Plc Annual Report and Accounts 2021The destination for electricals AO World Plc Annual Report and Accounts 2021 30287-AO-World-AR2021', 'indd 330287-AO-World-AR2021', 'indd 3 02/07/2021 16:59:2402/07/2021 16:59:24', '30287 2 July 2021 4:59 pm V9 We make customers’ lives easier by helping them brilliantly Overview 02 Financial and operational highlights 04 Investment case Strategic Report 08 Chair’s statement 10 Chief Executive Officer’s strategic review 14 How we create value 16 Our culture 18 Our values 20 Our customers 22 Our suppliers 24 Our technology 26 UK Retail 30 Logistics 32 Recycling 36 Germany 38 Our markets 42 Our strategy 44 Key performance indicators 46 Chief Financial Officer’s review 54 Our risks 66 Engaging with our stakeholders 68 SustainabilityContentsWe are an online leading retailer , specialising in electronics', 'In 2000, we started by selling white goods, big items like fridge freezers, cookers and washing machines', 'We now sell all kinds of electricals: major domestic appliances, small domestic appliances, audiovisual equipment, computing, mobile, gaming and smart home technology', 'We now sell over 8,500 different products on ao', 'com to millions of happy customers, and we are able to deliver these at speed with our tried-and-tested logistics network', 'It doesn’t stop there: we install these products and recycle our customers’ old ones and, finance and insurance are offered on them too', \"Governance 88 Chair’s letter and introduction 92 Board of Directors 94 Corporate governance report 104 Nomination Committee report 108 Audit Committee report 114 Directors’ remuneration report 140 Directors’ report Our Results 148 Independent Auditor's Report 157 Consolidated income statement 158 C onsolidated statement of comprehensive income 159 C onsolidated statement of financial position 160 C onsolidated statement of changes in equity 161 C onsolidated statement of cash flows 162 Not es to the consolidated financial statements 196 C ompany statement of financial position 197 C ompany statement of changes in equity 198 Not es to the Company financial statements Shareholder Information 204 Important information 205 Glossary 30287-AO-World-AR2021\"]\n",
      "\n",
      "Data type: <class 'list'>\n"
     ]
    }
   ],
   "source": [
    "# print the sentences summary of 2021 AO World PLC annual report\n",
    "print(f\"Total number of sentences of 2021: {len(ao_sen_2021)}\")\n",
    "print(\"\\nPrint the first 10 sentences from AO World PLC annual reports: \")\n",
    "print(ao_sen_2021[:10])\n",
    "print(f\"\\nData type: {type(ao_sen_2021)}\")"
   ]
  },
  {
   "cell_type": "markdown",
   "id": "7dacd64f-1eed-4a50-b8a6-6b5c97358ad1",
   "metadata": {},
   "source": [
    "Second, it will standardise the sentences for each annual reports."
   ]
  },
  {
   "cell_type": "code",
   "execution_count": 80,
   "id": "a5aba366-7a64-4ef3-acdf-f993219c5948",
   "metadata": {},
   "outputs": [],
   "source": [
    "# Standardise all sentences from all AO annual reports\n",
    "ao_standsent_2022 = standardize_sentences(ao_sen_2022)\n",
    "ao_standsent_2021 = standardize_sentences(ao_sen_2021)\n",
    "ao_standsent_2020 = standardize_sentences(ao_sen_2020)\n",
    "ao_standsent_2019 = standardize_sentences(ao_sen_2019)\n",
    "ao_standsent_2018 = standardize_sentences(ao_sen_2018)\n",
    "ao_standsent_2017 = standardize_sentences(ao_sen_2017)\n",
    "ao_standsent_2016 = standardize_sentences(ao_sen_2016)\n",
    "ao_standsent_2015 = standardize_sentences(ao_sen_2015)\n",
    "ao_standsent_2014 = standardize_sentences(ao_sen_2014)\n"
   ]
  },
  {
   "cell_type": "markdown",
   "id": "83e1c87b-d89d-442c-8ae5-aba9413680be",
   "metadata": {},
   "source": [
    "Print the short summary of standardised sentences of 2021 annual reports."
   ]
  },
  {
   "cell_type": "code",
   "execution_count": 81,
   "id": "036607a0-4fc9-4a74-aeb2-a86460f3325d",
   "metadata": {},
   "outputs": [
    {
     "name": "stdout",
     "output_type": "stream",
     "text": [
      "Total number of standardized sentences of 2021: 6204\n",
      "\n",
      "Print the first 10 standardized sentences from AO annual reprots: \n",
      "['july pm v ao world plc annual report accounts destination electricals ao world plc annual report accounts ao world ar', 'indd ao world ar', 'indd', 'july pm v make customers lives easier helping brilliantly overview financial operational highlights investment case strategic report chair statement chief executive officer strategic review create value culture values customers suppliers technology uk retail logistics recycling germany markets strategy key performance indicators chief financial officer review risks engaging stakeholders sustainabilitycontentswe online leading retailer specialising electronics', 'started selling white goods big items like fridge freezers cookers washing machines', 'sell kinds electricals major domestic appliances small domestic appliances audiovisual equipment computing mobile gaming smart home technology', 'sell different products ao', 'com millions happy customers able deliver speed tried tested logistics network', 'stop install products recycle customers old ones finance insurance offered', 'governance chair letter introduction board directors corporate governance report nomination committee report audit committee report directors remuneration report directors report results independent auditor report consolidated income statement c onsolidated statement comprehensive income c onsolidated statement financial position c onsolidated statement changes equity c onsolidated statement cash flows es consolidated financial statements c ompany statement financial position c ompany statement changes equity es company financial statements shareholder information important information glossary ao world ar']\n",
      "\n",
      "Data type: <class 'list'>\n"
     ]
    }
   ],
   "source": [
    "# print the standardized sentences summary of 2021 AO annual report\n",
    "print(f\"Total number of standardized sentences of 2021: {len(ao_standsent_2021)}\")\n",
    "print(\"\\nPrint the first 10 standardized sentences from AO annual reprots: \")\n",
    "print(ao_standsent_2021[:10])\n",
    "print(f\"\\nData type: {type(ao_standsent_2021)}\")"
   ]
  },
  {
   "cell_type": "markdown",
   "id": "30316fa9-3f38-46e4-a84c-5fca559eccc6",
   "metadata": {},
   "source": [
    "Next, it will combine all standardised sentences together as a list."
   ]
  },
  {
   "cell_type": "code",
   "execution_count": 82,
   "id": "6fad2697-24c3-4a10-b92c-e742dfafc81e",
   "metadata": {},
   "outputs": [
    {
     "name": "stdout",
     "output_type": "stream",
     "text": [
      "Total number of all standardised sentences: 41035\n",
      "\n",
      "The first 10 AO standardised sentences:\n",
      "['ao world plc annual report accounts destination electricals ao world plc annual report accounts', 'contents overview year review performance investment case strategic report chair statement create value markets brand culture values customers technology uk retail germany suppliers logistics recycling strategy chief executive officer strategic review chief financial officer review risks engaging stakeholders sustainability material sustainability issues esg strategy pillars sustainable living fair equal responsible fit future governance chair letter introduction board directors corporate governance report nominations committee report audit committee report directors remuneration report directors report results independent auditor report consolidated income statement consolidated statement comprehensive income consolidated statement financial position consolidated statement changes equity consolidated statement cash flows notes consolidated financial statements company statement financial position company statement changes equity notes company financial statements shareholder information important information glossarywe leading online electricals retailer started selling white goods big items like fridge freezers cookers washing machines', 'sell kinds electricals major domestic appliances small domestic appliances audiovisual equipment computing mobile gaming smart home technology', 'sell different products ao', 'com millions happy customers able deliver speed tried tested logistics network', 'stop install products recycle customers old ones finance insurance offered', 'make customers lives easier helping brilliantly', 'overviewao world plc annual report accounts mission become destination electricals', 'strategy focused five crucial pillars read strategy page', 'lead purpose making customers lives easier helping brilliantly read customers pages']\n",
      "\n",
      "Data type: <class 'list'>\n"
     ]
    }
   ],
   "source": [
    "# Combine all standardised sentence into a list\n",
    "ao_standsent_all = (\n",
    "    ao_standsent_2022 +\n",
    "    ao_standsent_2021 +\n",
    "    ao_standsent_2020 +\n",
    "    ao_standsent_2019 +\n",
    "    ao_standsent_2018 +\n",
    "    ao_standsent_2017 +\n",
    "    ao_standsent_2016 +\n",
    "    ao_standsent_2015 +\n",
    "    ao_standsent_2014\n",
    ")\n",
    "\n",
    "print(f'Total number of all standardised sentences: {len(ao_standsent_all)}')\n",
    "print('\\nThe first 10 AO standardised sentences:')\n",
    "print(ao_standsent_all[:10])\n",
    "print(f\"\\nData type: {type(ao_standsent_all)}\")"
   ]
  },
  {
   "cell_type": "markdown",
   "id": "9488ed61-a215-49e4-8dfd-9ce75038e7f4",
   "metadata": {
    "tags": []
   },
   "source": [
    "## B11. ASOS plc"
   ]
  },
  {
   "cell_type": "code",
   "execution_count": 83,
   "id": "72c98367-0125-428a-881b-52763cb18c78",
   "metadata": {},
   "outputs": [],
   "source": [
    "# Setting the path of Asos annual reports from 2012 to 2022\n",
    "asos_2022_path = \"AR/asos/asos-ar2022.pdf\"\n",
    "asos_2021_path = \"AR/asos/asos-ar2021.pdf\"\n",
    "asos_2020_path = \"AR/asos/asos-ar2020.pdf\"\n",
    "asos_2019_path = \"AR/asos/asos-ar2019.pdf\"\n",
    "asos_2018_path = \"AR/asos/asos-ar2018.pdf\"\n",
    "asos_2017_path = \"AR/asos/asos-ar2017.pdf\"\n",
    "asos_2016_path = \"AR/asos/asos-ar2016.pdf\"\n",
    "asos_2015_path = \"AR/asos/asos-ar2015.pdf\"\n",
    "asos_2014_path = \"AR/asos/asos-ar2014.pdf\"\n",
    "asos_2013_path = \"AR/asos/asos-ar2013.pdf\"\n",
    "asos_2012_path = \"AR/asos/asos-ar2012.pdf\""
   ]
  },
  {
   "cell_type": "code",
   "execution_count": 84,
   "id": "021a01ce-8d0a-46a4-9375-998f1cba6252",
   "metadata": {},
   "outputs": [],
   "source": [
    "# Extract text from Asos annual report\n",
    "asos_sen_2022 = extract_pdf_text(asos_2022_path)\n",
    "asos_sen_2021 = extract_pdf_text(asos_2021_path)\n",
    "asos_sen_2020 = extract_pdf_text(asos_2020_path)\n",
    "asos_sen_2019 = extract_pdf_text(asos_2019_path)\n",
    "asos_sen_2018 = extract_pdf_text(asos_2018_path)\n",
    "asos_sen_2017 = extract_pdf_text(asos_2017_path)\n",
    "asos_sen_2016 = extract_pdf_text(asos_2016_path)\n",
    "asos_sen_2015 = extract_pdf_text(asos_2015_path)\n",
    "asos_sen_2014 = extract_pdf_text(asos_2014_path)\n",
    "asos_sen_2013 = extract_pdf_text(asos_2013_path)\n",
    "asos_sen_2012 = extract_pdf_text(asos_2012_path)\n"
   ]
  },
  {
   "cell_type": "markdown",
   "id": "212f9990-9edb-4ffa-b45a-df8a6e404b47",
   "metadata": {},
   "source": [
    "Print the sentences from the annual report from 2021."
   ]
  },
  {
   "cell_type": "code",
   "execution_count": 85,
   "id": "842f6de9-473a-43bb-b3e6-ea8fd24c4cf7",
   "metadata": {},
   "outputs": [
    {
     "name": "stdout",
     "output_type": "stream",
     "text": [
      "Total number of sentences of 2021: 4161\n",
      "\n",
      "Print the first 10 sentences from Asos annual reports: \n",
      "['ASOS Plc Annual Report and Accounts 2021 ASOS REIMAGINED', 'This has been a strong year for ASOS', 'Despite challenging circumstances, the talent, passion, resilience and commitment of our Executive team and our ASOSers has shone through and helped us deliver the strong results we have published', 'Revenues rose to £3,910', '5m, delivering an adjusted pre-tax profit of £193', '6m, a rise of 22%¹ and 36% respectively', 'Over the last three years we have made significant progress, delivering 60% growth in revenues, improved profitability and a strengthened balance sheet', 'We have also bolstered the management team and improved ASOS’ operational capabilities and resilience', 'As a result, we enter the coming year well placed against the backdrop of difficult conditions that we and all businesses are facing', 'At the same time, however, we recognise that there is more to do to accelerate the pace and intensity of our commercial execution']\n",
      "\n",
      "Data type: <class 'list'>\n"
     ]
    }
   ],
   "source": [
    "# print the sentences summary of 2021 Asos annual report\n",
    "print(f\"Total number of sentences of 2021: {len(asos_sen_2021)}\")\n",
    "print(\"\\nPrint the first 10 sentences from Asos annual reports: \")\n",
    "print(asos_sen_2021[:10])\n",
    "print(f\"\\nData type: {type(asos_sen_2021)}\")"
   ]
  },
  {
   "cell_type": "markdown",
   "id": "795566d2-383e-4d9f-bbb8-1ed5066077fc",
   "metadata": {},
   "source": [
    "Second, it will standardise the sentences for each annual reports."
   ]
  },
  {
   "cell_type": "code",
   "execution_count": 86,
   "id": "23908dc8-4c35-4e82-91a8-7f1d7da8c415",
   "metadata": {},
   "outputs": [],
   "source": [
    "# Standardise all sentences from all Asos annual reports\n",
    "asos_standsent_2022 = standardize_sentences(asos_sen_2022)\n",
    "asos_standsent_2021 = standardize_sentences(asos_sen_2021)\n",
    "asos_standsent_2020 = standardize_sentences(asos_sen_2020)\n",
    "asos_standsent_2019 = standardize_sentences(asos_sen_2019)\n",
    "asos_standsent_2018 = standardize_sentences(asos_sen_2018)\n",
    "asos_standsent_2017 = standardize_sentences(asos_sen_2017)\n",
    "asos_standsent_2016 = standardize_sentences(asos_sen_2016)\n",
    "asos_standsent_2015 = standardize_sentences(asos_sen_2015)\n",
    "asos_standsent_2014 = standardize_sentences(asos_sen_2014)\n",
    "asos_standsent_2013 = standardize_sentences(asos_sen_2013)\n",
    "asos_standsent_2012 = standardize_sentences(asos_sen_2012)\n"
   ]
  },
  {
   "cell_type": "markdown",
   "id": "cf666634-99b0-41b4-b283-8b35462271a1",
   "metadata": {},
   "source": [
    "Print the short summary of standardised sentences of 2021 annual reports."
   ]
  },
  {
   "cell_type": "code",
   "execution_count": 87,
   "id": "a4a17ad0-d26b-48b1-a16f-be8ab4b493b3",
   "metadata": {},
   "outputs": [
    {
     "name": "stdout",
     "output_type": "stream",
     "text": [
      "Total number of standardized sentences of 2021: 4161\n",
      "\n",
      "Print the first 10 standardized sentences from Asos annual reprots: \n",
      "['asos plc annual report accounts asos reimagined', 'strong year asos', 'despite challenging circumstances talent passion resilience commitment executive team asosers shone helped us deliver strong results published', 'revenues rose', 'delivering adjusted pre tax profit', 'rise respectively', 'last three years made significant progress delivering growth revenues improved profitability strengthened balance sheet', 'also bolstered management team improved asos operational capabilities resilience', 'result enter coming year well placed backdrop difficult conditions businesses facing', 'time however recognise accelerate pace intensity commercial execution']\n",
      "\n",
      "Data type: <class 'list'>\n"
     ]
    }
   ],
   "source": [
    "# print the standardized sentences summary of 2021 Asos annual report\n",
    "print(f\"Total number of standardized sentences of 2021: {len(asos_standsent_2021)}\")\n",
    "print(\"\\nPrint the first 10 standardized sentences from Asos annual reprots: \")\n",
    "print(asos_standsent_2021[:10])\n",
    "print(f\"\\nData type: {type(asos_standsent_2021)}\")"
   ]
  },
  {
   "cell_type": "markdown",
   "id": "28a1831f-6516-4569-9e12-677c4f8ebfb5",
   "metadata": {},
   "source": [
    "Next, it will combine all standardised sentences together as a list."
   ]
  },
  {
   "cell_type": "code",
   "execution_count": 88,
   "id": "812641ec-98e5-4718-adfc-73a229950eed",
   "metadata": {},
   "outputs": [
    {
     "name": "stdout",
     "output_type": "stream",
     "text": [
      "Total number of all standardised sentences: 34706\n",
      "\n",
      "The first 10 Asos standardised sentences:\n",
      "['changedriving asos plc annual report accounts', 'asos destination fashion loving somethings around world purpose give customers confidence whoever want', 'strategic report chair statement chief executive officer statement values brands people key performance indicators year review business model stakeholder engagement chief executive officer operational review performance market financial review fashion integrity task force climate related financial disclosures non financial information statement managing risk asos principal risks opportunities long term viability statementgovernance report board directors corporate governance report audit committee report nomination committee report esg committee report directors remuneration report annual report remuneration remuneration policy directors report statement directors responsibilities financial statements independent auditors report members asos plc consolidated statement total comprehensive income consolidated statement changes equity consolidated statement financial position consolidated statement cash flows notes financial statements company statement changes equity company statement financial position company statement cash flows notes company financial statements alternative performance measures apms five year financial summary unaudited company information asos plc annual report accounts', 'highlights yoy sales growthtopshop brandsrevenue', '', 'adjusted profit tax', '', 'moperating loss', '', 'reported loss tax']\n",
      "\n",
      "Data type: <class 'list'>\n"
     ]
    }
   ],
   "source": [
    "# Combine all standardised sentence into a list\n",
    "asos_standsent_all = (\n",
    "    asos_standsent_2022 +\n",
    "    asos_standsent_2021 +\n",
    "    asos_standsent_2020 +\n",
    "    asos_standsent_2019 +\n",
    "    asos_standsent_2018 +\n",
    "    asos_standsent_2017 +\n",
    "    asos_standsent_2016 +\n",
    "    asos_standsent_2015 +\n",
    "    asos_standsent_2014 +\n",
    "    asos_standsent_2013 +\n",
    "    asos_standsent_2012\n",
    ")\n",
    "\n",
    "print(f'Total number of all standardised sentences: {len(asos_standsent_all)}')\n",
    "print('\\nThe first 10 Asos standardised sentences:')\n",
    "print(asos_standsent_all[:10])\n",
    "print(f\"\\nData type: {type(asos_standsent_all)}\")"
   ]
  },
  {
   "cell_type": "markdown",
   "id": "a77e5720-f776-473a-b90c-8f2ab2c71720",
   "metadata": {
    "tags": []
   },
   "source": [
    "## B12. B&M European Value Retail"
   ]
  },
  {
   "cell_type": "markdown",
   "id": "eb5ce0a9-b642-482d-86b7-38e67ed9bbd6",
   "metadata": {},
   "source": [
    "Annual reports are available from 2015 to 2022."
   ]
  },
  {
   "cell_type": "code",
   "execution_count": 89,
   "id": "eb0918cb-e0a4-4cbc-958d-42510ca8f7a8",
   "metadata": {},
   "outputs": [],
   "source": [
    "# Setting the path of annual reports from 2015 to 2022\n",
    "bme_2015to2022_path = \"AR/bm_eu_retail/bme_ar-2015-2022.pdf\"\n"
   ]
  },
  {
   "cell_type": "code",
   "execution_count": 90,
   "id": "7bab7158-de4c-452a-b821-e105f432978f",
   "metadata": {},
   "outputs": [],
   "source": [
    "# Extract text from annual report\n",
    "bme_sen_2012to2022 = extract_pdf_text(bme_2015to2022_path)"
   ]
  },
  {
   "cell_type": "markdown",
   "id": "aafe3f45-ea7a-4a43-ae16-4111e870238c",
   "metadata": {},
   "source": [
    "Print the sentences from the annual report from 2021."
   ]
  },
  {
   "cell_type": "code",
   "execution_count": 91,
   "id": "212058cf-926a-40d2-b6f2-dd2c5f8ca7a7",
   "metadata": {},
   "outputs": [
    {
     "name": "stdout",
     "output_type": "stream",
     "text": [
      "Total number of sentences of 2021: 28181\n",
      "\n",
      "Print the first 10 sentences from BME annual reports: \n",
      "['B&M European Value Retail S', 'A', 'Annual Report and Accounts 2015Big Brands Big Savings B&M European Value Retail S', 'A', '\\uf138 Annual Report and Accounts 2015', 'B&M is a fast-growing discount retailer, operating from over 425 high street and out of town stores across the UK, as well as 50 stores under the Jawoll brand in Germany', 'We offer customers a broad range of grocery and general merchandise products at sensational prices', 'Our aim is to provide customers with a fun and exciting shopping experience, offering them great products and fantastic value so that they return again and again to a B&M store', 'Our success is down to our customers and built on “word of mouth”', 'Last year we enjoyed an average 2']\n",
      "\n",
      "Data type: <class 'list'>\n"
     ]
    }
   ],
   "source": [
    "# print the sentences summary of annual report\n",
    "print(f\"Total number of sentences of 2021: {len(bme_sen_2012to2022)}\")\n",
    "print(\"\\nPrint the first 10 sentences from BME annual reports: \")\n",
    "print(bme_sen_2012to2022[:10])\n",
    "print(f\"\\nData type: {type(bme_sen_2012to2022)}\")"
   ]
  },
  {
   "cell_type": "markdown",
   "id": "64bb60d8-a704-45d6-ae1b-45dcc271607d",
   "metadata": {},
   "source": [
    "Second, it will standardise the sentences for each annual reports."
   ]
  },
  {
   "cell_type": "code",
   "execution_count": 92,
   "id": "f9ecfda9-5ba6-4b06-8ee3-354491dba6cb",
   "metadata": {},
   "outputs": [],
   "source": [
    "# Standardise all sentences from all annual reports\n",
    "bme_standsent_all = standardize_sentences(bme_sen_2012to2022)\n"
   ]
  },
  {
   "cell_type": "markdown",
   "id": "b431d451-9036-4529-9c25-47012a4e3c93",
   "metadata": {},
   "source": [
    "Print the short summary of standardised sentences of 2021 annual reports."
   ]
  },
  {
   "cell_type": "code",
   "execution_count": 93,
   "id": "1156ca25-a83c-4b8d-85f3-02b183003960",
   "metadata": {},
   "outputs": [
    {
     "name": "stdout",
     "output_type": "stream",
     "text": [
      "Total number of standardized sentences of 2021: 28181\n",
      "\n",
      "Print the first 10 standardized sentences from BME annual reprots: \n",
      "['b european value retail', '', 'annual report accounts big brands big savings b european value retail', '', 'annual report accounts', 'b fast growing discount retailer operating high street town stores across uk well stores jawoll brand germany', 'offer customers broad range grocery general merchandise products sensational prices', 'aim provide customers fun exciting shopping experience offering great products fantastic value return b store', 'success customers built word mouth', 'last year enjoyed average']\n",
      "\n",
      "Data type: <class 'list'>\n"
     ]
    }
   ],
   "source": [
    "# print the standardized sentences summary of annual report\n",
    "print(f\"Total number of standardized sentences of 2021: {len(bme_standsent_all)}\")\n",
    "print(\"\\nPrint the first 10 standardized sentences from BME annual reprots: \")\n",
    "print(bme_standsent_all[:10])\n",
    "print(f\"\\nData type: {type(bme_standsent_all)}\")"
   ]
  },
  {
   "cell_type": "markdown",
   "id": "786a8a68-c8cc-465b-85d8-04a5a873ac9a",
   "metadata": {
    "tags": []
   },
   "source": [
    "## B13. Currys"
   ]
  },
  {
   "cell_type": "markdown",
   "id": "2fe24025-0dfe-47df-bd3d-d3b73977838f",
   "metadata": {},
   "source": [
    "Currys annual reports are avilable from 2014 to 2022 online only."
   ]
  },
  {
   "cell_type": "code",
   "execution_count": 94,
   "id": "1ad41e7b-b9a0-4e90-8039-652f55d62212",
   "metadata": {},
   "outputs": [],
   "source": [
    "# Setting the path of Currys annual reports from 2014 to 2022\n",
    "cury_2022_path = \"AR/currys/curry-ar2022.pdf\"\n",
    "cury_2021_path = \"AR/currys/curry-ar2021.pdf\"\n",
    "cury_2020_path = \"AR/currys/curry-ar2020.pdf\"\n",
    "cury_2019_path = \"AR/currys/curry-ar2019.pdf\"\n",
    "cury_2018_path = \"AR/currys/curry-ar2018.pdf\"\n",
    "cury_2017_path = \"AR/currys/curry-ar2017.pdf\"\n",
    "cury_2016_path = \"AR/currys/curry-ar2016.pdf\"\n",
    "cury_2015_path = \"AR/currys/curry-ar2015.pdf\"\n",
    "cury_2014_path = \"AR/currys/curry-ar2014.pdf\"\n"
   ]
  },
  {
   "cell_type": "code",
   "execution_count": 95,
   "id": "f85a759b-c88f-47dd-bb4e-8d5591c59412",
   "metadata": {},
   "outputs": [],
   "source": [
    "# Extract text from Currys annual report\n",
    "cury_sen_2022 = extract_pdf_text(cury_2022_path)\n",
    "cury_sen_2021 = extract_pdf_text(cury_2021_path)\n",
    "cury_sen_2020 = extract_pdf_text(cury_2020_path)\n",
    "cury_sen_2019 = extract_pdf_text(cury_2019_path)\n",
    "cury_sen_2018 = extract_pdf_text(cury_2018_path)\n",
    "cury_sen_2017 = extract_pdf_text(cury_2017_path)\n",
    "cury_sen_2016 = extract_pdf_text(cury_2016_path)\n",
    "cury_sen_2015 = extract_pdf_text(cury_2015_path)\n",
    "cury_sen_2014 = extract_pdf_text(cury_2014_path)\n"
   ]
  },
  {
   "cell_type": "markdown",
   "id": "23a3bb11-f460-4e04-8551-e551c4763fc0",
   "metadata": {},
   "source": [
    "Print the sentences from the annual report from 2021."
   ]
  },
  {
   "cell_type": "code",
   "execution_count": 96,
   "id": "6b5cab3d-be8a-4f35-a848-796c543ce990",
   "metadata": {},
   "outputs": [
    {
     "name": "stdout",
     "output_type": "stream",
     "text": [
      "Total number of sentences of 2021: 4374\n",
      "\n",
      "Print the first 10 sentences from Currys annual reports: \n",
      "['ANNUAL REPORT & ACCOUNTS 2020/21', 'DIXONS CARPHONE WHAT WE DO Dixons Carphone plc is a leading omnichannel retailer of technology products and services, operating through 829 stores and 16 websites in 7 countries', 'We Help Everyone Enjoy Amazing Technology, however they choose to shop with us', 'We are the market leader in the UK and Ireland, throughout the Nordics and in Greece, employing 35,000 capable and committed colleagues across the Group', 'By offering the best range of products, credit and services through digital-first omnichannel we are building customer relationships that are stickier and more valuable over time', 'This will benefit our customers, our colleagues, our shareholders and society', 'www', 'dixonscarphone', 'com/investors For the latest news visit our website', 'A LEADING OMNICHANNEL RETAILER OF TECHNOLOGY PRODUCTS AND SERVICESDixons Carphone plc Annual Report & Accounts 2020/21']\n",
      "\n",
      "Data type: <class 'list'>\n"
     ]
    }
   ],
   "source": [
    "# print the sentences summary of 2021 Currys annual report\n",
    "print(f\"Total number of sentences of 2021: {len(cury_sen_2021)}\")\n",
    "print(\"\\nPrint the first 10 sentences from Currys annual reports: \")\n",
    "print(cury_sen_2021[:10])\n",
    "print(f\"\\nData type: {type(cury_sen_2021)}\")"
   ]
  },
  {
   "cell_type": "markdown",
   "id": "5f719371-e60c-4210-aa38-aebc0fb08f95",
   "metadata": {},
   "source": [
    "Second, it will standardise the sentences for each annual reports."
   ]
  },
  {
   "cell_type": "code",
   "execution_count": 97,
   "id": "c847c74b-4dba-4965-b16f-bd08a7fa038d",
   "metadata": {},
   "outputs": [],
   "source": [
    "# Standardise all sentences from all Currys annual reports\n",
    "cury_standsent_2022 = standardize_sentences(cury_sen_2022)\n",
    "cury_standsent_2021 = standardize_sentences(cury_sen_2021)\n",
    "cury_standsent_2020 = standardize_sentences(cury_sen_2020)\n",
    "cury_standsent_2019 = standardize_sentences(cury_sen_2019)\n",
    "cury_standsent_2018 = standardize_sentences(cury_sen_2018)\n",
    "cury_standsent_2017 = standardize_sentences(cury_sen_2017)\n",
    "cury_standsent_2016 = standardize_sentences(cury_sen_2016)\n",
    "cury_standsent_2015 = standardize_sentences(cury_sen_2015)\n",
    "cury_standsent_2014 = standardize_sentences(cury_sen_2014)\n",
    "\n"
   ]
  },
  {
   "cell_type": "markdown",
   "id": "835e7e41-1268-4b46-a707-e6f4fe6d5766",
   "metadata": {},
   "source": [
    "Print the short summary of standardised sentences of 2021 annual reports."
   ]
  },
  {
   "cell_type": "code",
   "execution_count": 98,
   "id": "3a21ec9f-24b2-491f-8ac2-59b66a72e300",
   "metadata": {},
   "outputs": [
    {
     "name": "stdout",
     "output_type": "stream",
     "text": [
      "Total number of standardized sentences of 2021: 4374\n",
      "\n",
      "Print the first 10 standardized sentences from Currys annual reprots: \n",
      "['annual report accounts', 'dixons carphone dixons carphone plc leading omnichannel retailer technology products services operating stores websites countries', 'help everyone enjoy amazing technology however choose shop us', 'market leader uk ireland throughout nordics greece employing capable committed colleagues across group', 'offering best range products credit services digital first omnichannel building customer relationships stickier valuable time', 'benefit customers colleagues shareholders society', 'www', 'dixonscarphone', 'com investors latest news visit website', 'leading omnichannel retailer technology products servicesdixons carphone plc annual report accounts']\n",
      "\n",
      "Data type: <class 'list'>\n"
     ]
    }
   ],
   "source": [
    "# print the standardized sentences summary of 2021 Currys annual report\n",
    "print(f\"Total number of standardized sentences of 2021: {len(cury_standsent_2021)}\")\n",
    "print(\"\\nPrint the first 10 standardized sentences from Currys annual reprots: \")\n",
    "print(cury_standsent_2021[:10])\n",
    "print(f\"\\nData type: {type(cury_standsent_2021)}\")"
   ]
  },
  {
   "cell_type": "markdown",
   "id": "348dbfc9-4cb4-49aa-922e-52cad3a9868f",
   "metadata": {},
   "source": [
    "Next, it will combine all standardised sentences together as a list."
   ]
  },
  {
   "cell_type": "code",
   "execution_count": 99,
   "id": "12e0ae7a-0ca6-4801-987f-c26836ea91ed",
   "metadata": {},
   "outputs": [
    {
     "name": "stdout",
     "output_type": "stream",
     "text": [
      "Total number of all standardised sentences: 35968\n",
      "\n",
      "The first 10 Currys standardised sentences:\n",
      "['annual report accounts help everyone enjoy amazing technology currys plc annual report accounts', 'currys currys plc leading omnichannel retailer technology products services operating online stores countries', 'help everyone enjoy amazing technology however choose shop us', 'vision powerful social purpose heart', 'believe power technology improve lives help people stay connected productive healthy entertained', 'help everyone enjoy benefits scale expertise uniquely placed', 'leading omnichannel retailer technology quick links long live tech business model strategy action www', 'currysplc', 'com investors latest news visit website', 'governance financial statements investor informationstrategic report']\n",
      "\n",
      "Data type: <class 'list'>\n"
     ]
    }
   ],
   "source": [
    "# Combine all standardised sentence into a list\n",
    "cury_standsent_all = (\n",
    "    cury_standsent_2022 +\n",
    "    cury_standsent_2021 +\n",
    "    cury_standsent_2020 +\n",
    "    cury_standsent_2019 +\n",
    "    cury_standsent_2018 +\n",
    "    cury_standsent_2017 +\n",
    "    cury_standsent_2016 +\n",
    "    cury_standsent_2015 +\n",
    "    cury_standsent_2014 \n",
    ")\n",
    "\n",
    "print(f'Total number of all standardised sentences: {len(cury_standsent_all)}')\n",
    "print('\\nThe first 10 Currys standardised sentences:')\n",
    "print(cury_standsent_all[:10])\n",
    "print(f\"\\nData type: {type(cury_standsent_all)}\")"
   ]
  },
  {
   "cell_type": "markdown",
   "id": "e0eb5a30-a18c-4e7d-869f-3dafbc912b8e",
   "metadata": {
    "tags": []
   },
   "source": [
    "## B14. WH Smith"
   ]
  },
  {
   "cell_type": "code",
   "execution_count": 100,
   "id": "bbef87ea-1445-4b26-85ed-c1a080cc9db3",
   "metadata": {},
   "outputs": [],
   "source": [
    "# Setting the path of annual reports from 2012 to 2022\n",
    "smwh_2022_path = \"AR/wh_smith/smwh-ar2022.pdf\"\n",
    "smwh_2021_path = \"AR/wh_smith/smwh-ar2021.pdf\"\n",
    "smwh_2020_path = \"AR/wh_smith/smwh-ar2020.pdf\"\n",
    "smwh_2019_path = \"AR/wh_smith/smwh-ar2019.pdf\"\n",
    "smwh_2018_path = \"AR/wh_smith/smwh-ar2018.pdf\"\n",
    "smwh_2017_path = \"AR/wh_smith/smwh-ar2017.pdf\"\n",
    "smwh_2016_path = \"AR/wh_smith/smwh-ar2016.pdf\"\n",
    "smwh_2015_path = \"AR/wh_smith/smwh-ar2015.pdf\"\n",
    "smwh_2014_path = \"AR/wh_smith/smwh-ar2014.pdf\"\n",
    "smwh_2013_path = \"AR/wh_smith/smwh-ar2013.pdf\"\n",
    "smwh_2012_path = \"AR/wh_smith/smwh-ar2012.pdf\""
   ]
  },
  {
   "cell_type": "code",
   "execution_count": 101,
   "id": "82cc92be-7acc-4024-8f00-15beb1c80bc1",
   "metadata": {},
   "outputs": [],
   "source": [
    "# Extract text from annual report\n",
    "smwh_sen_2022 = extract_pdf_text(smwh_2022_path)\n",
    "smwh_sen_2021 = extract_pdf_text(smwh_2021_path)\n",
    "smwh_sen_2020 = extract_pdf_text(smwh_2020_path)\n",
    "smwh_sen_2019 = extract_pdf_text(smwh_2019_path)\n",
    "smwh_sen_2018 = extract_pdf_text(smwh_2018_path)\n",
    "smwh_sen_2017 = extract_pdf_text(smwh_2017_path)\n",
    "smwh_sen_2016 = extract_pdf_text(smwh_2016_path)\n",
    "smwh_sen_2015 = extract_pdf_text(smwh_2015_path)\n",
    "smwh_sen_2014 = extract_pdf_text(smwh_2014_path)\n",
    "smwh_sen_2013 = extract_pdf_text(smwh_2013_path)\n",
    "smwh_sen_2012 = extract_pdf_text(smwh_2012_path)\n"
   ]
  },
  {
   "cell_type": "markdown",
   "id": "3c94a4ac-e5ad-44b9-bbdb-be2042b269d8",
   "metadata": {},
   "source": [
    "Print the sentences from the annual report from 2021."
   ]
  },
  {
   "cell_type": "code",
   "execution_count": 102,
   "id": "55fe809a-33be-46a4-aa67-c9ae4f3404d5",
   "metadata": {},
   "outputs": [
    {
     "name": "stdout",
     "output_type": "stream",
     "text": [
      "Total number of sentences of 2021: 3938\n",
      "\n",
      "Print the first 10 sentences from WH smith annual reports: \n",
      "['Annual Report and Accounts 2021', 'WHSmith High Street is present on most of the significant high streets and shopping centres in the UK, mainly inAs WHSmith continues on its journey to be a better business, we have a strong commitment to the principles ofWH Smith PLC is a leading global Travel retailer for news, books, convenience and tech accessories with a smaller business on the UK High Street', 'At the heart of both our businesses are our people and our customers', 'We aim to deliver our goals through our strategic priorities and initiatives by: constantly innovating, expanding globally, improving our profitability and delivering sustainable returns', 'We are a leading global retailer Travel is in a wide range of locations including airports, hospitals, railway stations and motorway service areasAbout us 30 countries across the globe, mainly in airportsWHSmith Travel is a world-leading travel retailer with a presence in over @whsmithofficial @whsmith youtube', 'com/WHSmithDirect linkedin', 'com/company/whsmithFind out more about WHSmith at whsmithplc', 'co', 'uk Disclaimer This Annual report has been prepared for, and only for, the members of the Company, as a body, and no other persons', 'The Company, its directors, employees, agents or advisers do not accept or assume responsibility to any other person to whom this document is shown or into whose hands it may come and any such responsibility or liability is expressly disclaimed']\n",
      "\n",
      "Data type: <class 'list'>\n"
     ]
    }
   ],
   "source": [
    "# print the sentences summary of 2021 annual report\n",
    "print(f\"Total number of sentences of 2021: {len(smwh_sen_2021)}\")\n",
    "print(\"\\nPrint the first 10 sentences from WH smith annual reports: \")\n",
    "print(smwh_sen_2021[:10])\n",
    "print(f\"\\nData type: {type(smwh_sen_2021)}\")"
   ]
  },
  {
   "cell_type": "markdown",
   "id": "16abd4a8-6004-45ed-8db1-73710b83bba6",
   "metadata": {},
   "source": [
    "Second, it will standardise the sentences for each annual reports."
   ]
  },
  {
   "cell_type": "code",
   "execution_count": 103,
   "id": "16a68ca4-d704-49bf-8d9b-38e640e82224",
   "metadata": {},
   "outputs": [],
   "source": [
    "# Standardise all sentences from all annual reports\n",
    "smwh_standsent_2022 = standardize_sentences(smwh_sen_2022)\n",
    "smwh_standsent_2021 = standardize_sentences(smwh_sen_2021)\n",
    "smwh_standsent_2020 = standardize_sentences(smwh_sen_2020)\n",
    "smwh_standsent_2019 = standardize_sentences(smwh_sen_2019)\n",
    "smwh_standsent_2018 = standardize_sentences(smwh_sen_2018)\n",
    "smwh_standsent_2017 = standardize_sentences(smwh_sen_2017)\n",
    "smwh_standsent_2016 = standardize_sentences(smwh_sen_2016)\n",
    "smwh_standsent_2015 = standardize_sentences(smwh_sen_2015)\n",
    "smwh_standsent_2014 = standardize_sentences(smwh_sen_2014)\n",
    "smwh_standsent_2013 = standardize_sentences(smwh_sen_2013)\n",
    "smwh_standsent_2012 = standardize_sentences(smwh_sen_2012)\n"
   ]
  },
  {
   "cell_type": "markdown",
   "id": "28d46d10-41a5-46f9-834e-154ce7afa3d6",
   "metadata": {},
   "source": [
    "Print the short summary of standardised sentences of 2021 annual reports."
   ]
  },
  {
   "cell_type": "code",
   "execution_count": 104,
   "id": "3c00809c-c102-43d9-89ed-50196f8f1f20",
   "metadata": {},
   "outputs": [
    {
     "name": "stdout",
     "output_type": "stream",
     "text": [
      "Total number of standardized sentences of 2021: 3938\n",
      "\n",
      "Print the first 10 standardized sentences from WH Smith annual reprots: \n",
      "['annual report accounts', 'whsmith high street present significant high streets shopping centres uk mainly inas whsmith continues journey better business strong commitment principles ofwh smith plc leading global travel retailer news books convenience tech accessories smaller business uk high street', 'heart businesses people customers', 'aim deliver goals strategic priorities initiatives constantly innovating expanding globally improving profitability delivering sustainable returns', 'leading global retailer travel wide range locations including airports hospitals railway stations motorway service areasabout us countries across globe mainly airportswhsmith travel world leading travel retailer presence whsmithofficial whsmith youtube', 'com whsmithdirect linkedin', 'com company whsmithfind whsmith whsmithplc', 'co', 'uk disclaimer annual report prepared members company body persons', 'company directors employees agents advisers accept assume responsibility person document shown whose hands may come responsibility liability expressly disclaimed']\n",
      "\n",
      "Data type: <class 'list'>\n"
     ]
    }
   ],
   "source": [
    "# print the standardized sentences summary of 2021 annual report\n",
    "print(f\"Total number of standardized sentences of 2021: {len(smwh_standsent_2021)}\")\n",
    "print(\"\\nPrint the first 10 standardized sentences from WH Smith annual reprots: \")\n",
    "print(smwh_standsent_2021[:10])\n",
    "print(f\"\\nData type: {type(smwh_standsent_2021)}\")"
   ]
  },
  {
   "cell_type": "markdown",
   "id": "15b42620-77df-4a63-935a-5f4a3db719ba",
   "metadata": {},
   "source": [
    "Next, it will combine all standardised sentences together as a list."
   ]
  },
  {
   "cell_type": "code",
   "execution_count": 105,
   "id": "82ad3359-b79e-4f53-bb55-f90cfa5b9367",
   "metadata": {},
   "outputs": [
    {
     "name": "stdout",
     "output_type": "stream",
     "text": [
      "Total number of all standardised sentences: 31443\n",
      "\n",
      "The first 10 Greencore standardised sentences:\n",
      "['annual report accounts every journey', 'find whsmith whsmithplc', 'co', 'uk whsmithofficial whsmith youtube', 'com whsmith linkedin', 'com company whsmithhere whsmith purpose simple make every one life journeys better supporting customers journeys key since', 'celebrate years since company founded continue support many journeys colleagues customers shareholders make', 'supporting journey people top priority', 'diverse team colleagues across countries committed championing career journey us also promoting culture everyone best self', 'journey create better business']\n",
      "\n",
      "Data type: <class 'list'>\n"
     ]
    }
   ],
   "source": [
    "# Combine all standardised sentence into a list\n",
    "smwh_standsent_all = (\n",
    "    smwh_standsent_2022 +\n",
    "    smwh_standsent_2021 +\n",
    "    smwh_standsent_2020 +\n",
    "    smwh_standsent_2019 +\n",
    "    smwh_standsent_2018 +\n",
    "    smwh_standsent_2017 +\n",
    "    smwh_standsent_2016 +\n",
    "    smwh_standsent_2015 +\n",
    "    smwh_standsent_2014 +\n",
    "    smwh_standsent_2013 +\n",
    "    smwh_standsent_2012\n",
    ")\n",
    "\n",
    "print(f'Total number of all standardised sentences: {len(smwh_standsent_all)}')\n",
    "print('\\nThe first 10 Greencore standardised sentences:')\n",
    "print(smwh_standsent_all[:10])\n",
    "print(f\"\\nData type: {type(smwh_standsent_all)}\")"
   ]
  },
  {
   "cell_type": "markdown",
   "id": "2a0357e9-0406-4165-93aa-6ad3268bf73f",
   "metadata": {
    "tags": []
   },
   "source": [
    "## B15. The Stanley Gibbons Group plc"
   ]
  },
  {
   "cell_type": "markdown",
   "id": "9be50e75-51f9-4f92-bb47-e32e074806b6",
   "metadata": {},
   "source": [
    "2012 and 2015 annual reports are not available online."
   ]
  },
  {
   "cell_type": "code",
   "execution_count": 106,
   "id": "d7c8ab46-5956-4c81-a8ad-6e4938807679",
   "metadata": {},
   "outputs": [],
   "source": [
    "# Setting the path of annual reports\n",
    "sgi_2022_path = \"AR/stanley_gibbsons/sgi-ar2022.pdf\"\n",
    "sgi_2021_path = \"AR/stanley_gibbsons/sgi-ar2021.pdf\"\n",
    "sgi_2020_path = \"AR/stanley_gibbsons/sgi-ar2020.pdf\"\n",
    "sgi_2019_path = \"AR/stanley_gibbsons/sgi-ar2019.pdf\"\n",
    "sgi_2018_path = \"AR/stanley_gibbsons/sgi-ar2018.pdf\"\n",
    "sgi_2017_path = \"AR/stanley_gibbsons/sgi-ar2017.pdf\"\n",
    "sgi_2016_path = \"AR/stanley_gibbsons/sgi-ar2016.pdf\"\n",
    "sgi_2014_path = \"AR/stanley_gibbsons/sgi-ar2014.pdf\"\n",
    "sgi_2013_path = \"AR/stanley_gibbsons/sgi-ar2013.pdf\"\n"
   ]
  },
  {
   "cell_type": "code",
   "execution_count": 107,
   "id": "adb40ffc-1475-487c-ac87-c274c4879a18",
   "metadata": {},
   "outputs": [],
   "source": [
    "# Extract text from annual report\n",
    "sgi_sen_2022 = extract_pdf_text(sgi_2022_path)\n",
    "sgi_sen_2021 = extract_pdf_text(sgi_2021_path)\n",
    "sgi_sen_2020 = extract_pdf_text(sgi_2020_path)\n",
    "sgi_sen_2019 = extract_pdf_text(sgi_2019_path)\n",
    "sgi_sen_2018 = extract_pdf_text(sgi_2018_path)\n",
    "sgi_sen_2017 = extract_pdf_text(sgi_2017_path)\n",
    "sgi_sen_2016 = extract_pdf_text(sgi_2016_path)\n",
    "sgi_sen_2014 = extract_pdf_text(sgi_2014_path)\n",
    "sgi_sen_2013 = extract_pdf_text(sgi_2013_path)\n"
   ]
  },
  {
   "cell_type": "markdown",
   "id": "9bc06ad2-15e8-41f1-ac3b-55bfbffcd4cd",
   "metadata": {},
   "source": [
    "Print the sentences from the annual report from 2021."
   ]
  },
  {
   "cell_type": "code",
   "execution_count": 108,
   "id": "dd7f8ebc-3233-49d1-966f-bc75b39b768f",
   "metadata": {},
   "outputs": [
    {
     "name": "stdout",
     "output_type": "stream",
     "text": [
      "Total number of sentences of 2021: 464\n",
      "\n",
      "Print the first 10 sentences from Stanley Gibbsons annual reports: \n",
      "['The Stanley Gibbons Group plc Interim Report and Accounts for the six months ended 30 September 2021 262346 SG Interim cov-pp09', 'qxp 08/12/2021 18:47 Page 1', 'Page 2 Directors and Advisers 3 Chairman’s Statement 4 Chief Executive’s Report 10 Financial Statements and notes Contents The Stanley Gibbons Group plc 1262346 SG Interim cov-pp09', 'qxp 08/12/2021 18:47 Page 1', 'Directors H G Wilson Non-Executive Chairman G E Shircore Chief Executive Officer K Fitzpatrick Chief Finance Officer L E Castro Non-Executive Director* M West Non-Executive Director* * Independent Company Secretary K Fitzpatrick Registered Office 22 Grenville Street St', 'Helier Jersey JE4 8PX Tel: +44(0)20 7836 8444 Company Registration Registered in Jersey Number 13177 Legal Form Public Limited Company limited by shares Nominated Adviser and Broker Liberum Capital Limited 25 Ropemaker Street London EC2Y 9LY Auditors Jeffreys Henry LLP Finnsgate 5-7 Cranwood Street London EC1V 9EE Legal Advisers Mourant Ozannes 22 Grenville Street St Helier Jersey JE4 8PX Bird & Bird LLP 12 New Fetter Lane London EC4A 1JP Bankers Barclays Bank PLC 1 Churchill Place London E14 5HP Registrars Link Market Services (Jersey) Limited Shareholder Services The Registry 34 Beckenham Road Beckenham Kent BR3 4TU Tel: 0871 664 0300; from overseas +44(0)37 1664 0300 Website Further financial, corporate and shareholder information is available in the investor relations section of the Group’s website: www', 'stanleygibbonsplc', 'com', 'Directors and Advisers The Stanley Gibbons Group plc 2262346 SG Interim cov-pp09', 'qxp 08/12/2021 18:47 Page 2']\n",
      "\n",
      "Data type: <class 'list'>\n"
     ]
    }
   ],
   "source": [
    "# print the sentences summary of 2021 annual report\n",
    "print(f\"Total number of sentences of 2021: {len(sgi_sen_2021)}\")\n",
    "print(\"\\nPrint the first 10 sentences from Stanley Gibbsons annual reports: \")\n",
    "print(sgi_sen_2021[:10])\n",
    "print(f\"\\nData type: {type(sgi_sen_2021)}\")"
   ]
  },
  {
   "cell_type": "markdown",
   "id": "2bdb78c2-ce75-4a80-b7e4-a96e4f0c7fb1",
   "metadata": {},
   "source": [
    "Second, it will standardise the sentences for each annual reports."
   ]
  },
  {
   "cell_type": "code",
   "execution_count": 109,
   "id": "806d39c3-184d-4c51-b7d0-b31827bfc24b",
   "metadata": {},
   "outputs": [],
   "source": [
    "# Standardise all sentences from all annual reports\n",
    "sgi_standsent_2022 = standardize_sentences(sgi_sen_2022)\n",
    "sgi_standsent_2021 = standardize_sentences(sgi_sen_2021)\n",
    "sgi_standsent_2020 = standardize_sentences(sgi_sen_2020)\n",
    "sgi_standsent_2019 = standardize_sentences(sgi_sen_2019)\n",
    "sgi_standsent_2018 = standardize_sentences(sgi_sen_2018)\n",
    "sgi_standsent_2017 = standardize_sentences(sgi_sen_2017)\n",
    "sgi_standsent_2016 = standardize_sentences(sgi_sen_2016)\n",
    "sgi_standsent_2014 = standardize_sentences(sgi_sen_2014)\n",
    "sgi_standsent_2013 = standardize_sentences(sgi_sen_2013)"
   ]
  },
  {
   "cell_type": "markdown",
   "id": "06aeccb5-97b1-4a0b-837d-a41f6c86262a",
   "metadata": {},
   "source": [
    "Print the short summary of standardised sentences of 2021 annual reports."
   ]
  },
  {
   "cell_type": "code",
   "execution_count": 110,
   "id": "9566cc2f-faf7-43b0-a86a-c17a50801794",
   "metadata": {},
   "outputs": [
    {
     "name": "stdout",
     "output_type": "stream",
     "text": [
      "Total number of standardized sentences of 2021: 464\n",
      "\n",
      "Print the first 10 standardized sentences from Stanley Gibbsons annual reprots: \n",
      "['stanley gibbons group plc interim report accounts six months ended september sg interim cov pp', 'qxp page', 'page directors advisers chairman statement chief executive report financial statements notes contents stanley gibbons group plc sg interim cov pp', 'qxp page', 'directors h g wilson non executive chairman g e shircore chief executive officer k fitzpatrick chief finance officer l e castro non executive director west non executive director independent company secretary k fitzpatrick registered office grenville street st', 'helier jersey je px tel company registration registered jersey number legal form public limited company limited shares nominated adviser broker liberum capital limited ropemaker street london ec ly auditors jeffreys henry llp finnsgate cranwood street london ec v ee legal advisers mourant ozannes grenville street st helier jersey je px bird bird llp new fetter lane london ec jp bankers barclays bank plc churchill place london e hp registrars link market services jersey limited shareholder services registry beckenham road beckenham kent br tu tel overseas website financial corporate shareholder information available investor relations section group website www', 'stanleygibbonsplc', 'com', 'directors advisers stanley gibbons group plc sg interim cov pp', 'qxp page']\n",
      "\n",
      "Data type: <class 'list'>\n"
     ]
    }
   ],
   "source": [
    "# print the standardized sentences summary of 2021 annual report\n",
    "print(f\"Total number of standardized sentences of 2021: {len(sgi_standsent_2021)}\")\n",
    "print(\"\\nPrint the first 10 standardized sentences from Stanley Gibbsons annual reprots: \")\n",
    "print(sgi_standsent_2021[:10])\n",
    "print(f\"\\nData type: {type(sgi_standsent_2021)}\")"
   ]
  },
  {
   "cell_type": "markdown",
   "id": "7e8fa310-0740-41b9-a563-6f7e48aea8db",
   "metadata": {},
   "source": [
    "Next, it will combine all standardised sentences together as a list."
   ]
  },
  {
   "cell_type": "code",
   "execution_count": 111,
   "id": "a59fc7b6-1242-49ca-96c0-875d5b12b439",
   "metadata": {},
   "outputs": [
    {
     "name": "stdout",
     "output_type": "stream",
     "text": [
      "Total number of all standardised sentences: 11488\n",
      "\n",
      "The first 10 Hilton Foods standardised sentences:\n",
      "['stanley gibbons group plc annual report accounts year ended march', 'financial highlights year ended year ended march march restated group turnover continuing operations', '', 'trading loss continuing operations', '', 'loss taxation continuing operations', '', 'adjusted loss profit taxation continuing operations', '', 'basic earnings per share continuing operations p']\n",
      "\n",
      "Data type: <class 'list'>\n"
     ]
    }
   ],
   "source": [
    "# Combine all standardised sentence into a list\n",
    "sgi_standsent_all = (\n",
    "    sgi_standsent_2022 +\n",
    "    sgi_standsent_2021 +\n",
    "    sgi_standsent_2020 +\n",
    "    sgi_standsent_2019 +\n",
    "    sgi_standsent_2018 +\n",
    "    sgi_standsent_2017 +\n",
    "    sgi_standsent_2016 +\n",
    "    sgi_standsent_2014 +\n",
    "    sgi_standsent_2013 \n",
    ")\n",
    "\n",
    "print(f'Total number of all standardised sentences: {len(sgi_standsent_all)}')\n",
    "print('\\nThe first 10 Hilton Foods standardised sentences:')\n",
    "print(sgi_standsent_all[:10])\n",
    "print(f\"\\nData type: {type(sgi_standsent_all)}\")"
   ]
  },
  {
   "cell_type": "markdown",
   "id": "168d90e4-6d59-4ca9-a084-e2efeb14ea53",
   "metadata": {
    "tags": []
   },
   "source": [
    "## B16. Frasers Group"
   ]
  },
  {
   "cell_type": "code",
   "execution_count": 112,
   "id": "8ec0b4a9-5ec7-42cd-9660-bb666d01a723",
   "metadata": {},
   "outputs": [],
   "source": [
    "# Setting the path of annual reports from 2012 to 2022\n",
    "fras_2022_path = \"AR/frasers/fras-ar2022.pdf\"\n",
    "fras_2021_path = \"AR/frasers/fras-ar2021.pdf\"\n",
    "fras_2020_path = \"AR/frasers/fras-ar2020.pdf\"\n",
    "fras_2019_path = \"AR/frasers/fras-ar2019.pdf\"\n",
    "fras_2018_path = \"AR/frasers/fras-ar2018.pdf\"\n",
    "fras_2017_path = \"AR/frasers/fras-ar2017.pdf\"\n",
    "fras_2016_path = \"AR/frasers/fras-ar2016.pdf\"\n",
    "fras_2015_path = \"AR/frasers/fras-ar2015.pdf\"\n",
    "fras_2014_path = \"AR/frasers/fras-ar2014.pdf\"\n",
    "fras_2013_path = \"AR/frasers/fras-ar2013.pdf\"\n",
    "fras_2012_path = \"AR/frasers/fras-ar2012.pdf\""
   ]
  },
  {
   "cell_type": "code",
   "execution_count": 113,
   "id": "793fdea0-a761-4177-8482-1efba2980143",
   "metadata": {},
   "outputs": [],
   "source": [
    "# Extract text from annual report\n",
    "fras_sen_2022 = extract_pdf_text(fras_2022_path)\n",
    "fras_sen_2021 = extract_pdf_text(fras_2021_path)\n",
    "fras_sen_2020 = extract_pdf_text(fras_2020_path)\n",
    "fras_sen_2019 = extract_pdf_text(fras_2019_path)\n",
    "fras_sen_2018 = extract_pdf_text(fras_2018_path)\n",
    "fras_sen_2017 = extract_pdf_text(fras_2017_path)\n",
    "fras_sen_2016 = extract_pdf_text(fras_2016_path)\n",
    "fras_sen_2015 = extract_pdf_text(fras_2015_path)\n",
    "fras_sen_2014 = extract_pdf_text(fras_2014_path)\n",
    "fras_sen_2013 = extract_pdf_text(fras_2013_path)\n",
    "fras_sen_2012 = extract_pdf_text(fras_2012_path)\n"
   ]
  },
  {
   "cell_type": "markdown",
   "id": "1fbfc1ee-a795-42b2-aae7-6b17f0f2da5b",
   "metadata": {},
   "source": [
    "Print the sentences from the annual report from 2021."
   ]
  },
  {
   "cell_type": "code",
   "execution_count": 114,
   "id": "1bda7495-54ac-467f-8ffe-fda9a1d62e97",
   "metadata": {},
   "outputs": [
    {
     "name": "stdout",
     "output_type": "stream",
     "text": [
      "Total number of sentences of 2021: 5526\n",
      "\n",
      "Print the first 10 sentences from Frasers Group annual reports: \n",
      "['APTITUDE FORTITUDE ANNUAL REPORT 2021 A member of Frasers Property Group', 'Contents Overview 02 About Frasers Centrepoint Trust 03 Structure of FCT and Organisation Structure of The Manager 04 Business Objectives and Growth Strategies 05 FY2021 Highlights 06 Key Events 08 5-Year Performance at a Glance 10 Unit Price Performance 12 Letter to Unitholders 16 Board of Directors 20 Trust Management Team 22 Investor Relations Business Review 24 Operations Review 30 Financial Review 36 Capital Resources 38 Retail Property Market Overview Asset Portfolio 52 FCT Portfolio Overview 54 Causeway Point 56 Waterway Point 58 Tampines 1 60 Northpoint City North Wing and Yishun 10 Retail Podium 62 Tiong Bahru Plaza 64 Century Square 66 Changi City Point 68 Hougang Mall 70 White Sands 72 Central Plaza 74 Property Directory 75 Investment in Hektar REIT Risk Management, Sustainability Report & Corporate Governance Report 77 Risk Management 80 Sustainability Report 109 Corporate Governance Report Financial Information 145 Financial Statements Other Information 224 Statistics of Unitholdings 228 Additional Information Corporate Information', 'At Frasers Centrepoint Trust, Aptitude and Fortitude drive our actions as we look to pursue new opportunities, even as global markets are recovering and adapting to an endemic COVID-19 environment', 'With resolve, we are staying ahead of macro trends and shifting consumer and corporate behaviours, formulating strategies in anticipation of potential pathways and possible outcomes', 'Through courage, a strong foundation of good people and a focus on customer-centricity, we continue to evolve our businesses in an increasingly competitive and complex environment', 'Our shared purpose – Inspiring experiences, creating places for good', '– will enable us to achieve our business objectives while bringing positive impact to our business, people, society and the planet', 'We are now moving faster together', 'As we create a culture of innovation and continuous learning, we continue building core capabilities, especially sustainability, technology and digitalisation that are relevant for future readiness', 'We remain focused on developing quality products, services and places that create value for our stakeholders']\n",
      "\n",
      "Data type: <class 'list'>\n"
     ]
    }
   ],
   "source": [
    "# print the sentences summary of 2021 annual report\n",
    "print(f\"Total number of sentences of 2021: {len(fras_sen_2021)}\")\n",
    "print(\"\\nPrint the first 10 sentences from Frasers Group annual reports: \")\n",
    "print(fras_sen_2021[:10])\n",
    "print(f\"\\nData type: {type(fras_sen_2021)}\")"
   ]
  },
  {
   "cell_type": "markdown",
   "id": "411d8e00-a329-4345-a7d7-2058b568b031",
   "metadata": {},
   "source": [
    "Second, it will standardise the sentences for each annual reports."
   ]
  },
  {
   "cell_type": "code",
   "execution_count": 115,
   "id": "7302ae0c-0719-4e1b-84be-b3f3f24cc73b",
   "metadata": {},
   "outputs": [],
   "source": [
    "# Standardise all sentences from all annual reports\n",
    "fras_standsent_2022 = standardize_sentences(fras_sen_2022)\n",
    "fras_standsent_2021 = standardize_sentences(fras_sen_2021)\n",
    "fras_standsent_2020 = standardize_sentences(fras_sen_2020)\n",
    "fras_standsent_2019 = standardize_sentences(fras_sen_2019)\n",
    "fras_standsent_2018 = standardize_sentences(fras_sen_2018)\n",
    "fras_standsent_2017 = standardize_sentences(fras_sen_2017)\n",
    "fras_standsent_2016 = standardize_sentences(fras_sen_2016)\n",
    "fras_standsent_2015 = standardize_sentences(fras_sen_2015)\n",
    "fras_standsent_2014 = standardize_sentences(fras_sen_2014)\n",
    "fras_standsent_2013 = standardize_sentences(fras_sen_2013)\n",
    "fras_standsent_2012 = standardize_sentences(fras_sen_2012)\n"
   ]
  },
  {
   "cell_type": "markdown",
   "id": "ed9cb7d2-a5cd-4c83-97f3-9bd2d32577db",
   "metadata": {},
   "source": [
    "Print the short summary of standardised sentences of 2021 annual reports."
   ]
  },
  {
   "cell_type": "code",
   "execution_count": 116,
   "id": "3897b71b-b94d-4471-a761-0637333397a0",
   "metadata": {},
   "outputs": [
    {
     "name": "stdout",
     "output_type": "stream",
     "text": [
      "Total number of standardized sentences of 2021: 5526\n",
      "\n",
      "Print the first 10 standardized sentences from Frasers Group annual reprots: \n",
      "['aptitude fortitude annual report member frasers property group', 'contents overview frasers centrepoint trust structure fct organisation structure manager business objectives growth strategies fy highlights key events year performance glance unit price performance letter unitholders board directors trust management team investor relations business review operations review financial review capital resources retail property market overview asset portfolio fct portfolio overview causeway point waterway point tampines northpoint city north wing yishun retail podium tiong bahru plaza century square changi city point hougang mall white sands central plaza property directory investment hektar reit risk management sustainability report corporate governance report risk management sustainability report corporate governance report financial information financial statements information statistics unitholdings additional information corporate information', 'frasers centrepoint trust aptitude fortitude drive actions look pursue new opportunities even global markets recovering adapting endemic covid environment', 'resolve staying ahead macro trends shifting consumer corporate behaviours formulating strategies anticipation potential pathways possible outcomes', 'courage strong foundation good people focus customer centricity continue evolve businesses increasingly competitive complex environment', 'shared purpose inspiring experiences creating places good', 'enable us achieve business objectives bringing positive impact business people society planet', 'moving faster together', 'create culture innovation continuous learning continue building core capabilities especially sustainability technology digitalisation relevant future readiness', 'remain focused developing quality products services places create value stakeholders']\n",
      "\n",
      "Data type: <class 'list'>\n"
     ]
    }
   ],
   "source": [
    "# print the standardized sentences summary of 2021 annual report\n",
    "print(f\"Total number of standardized sentences of 2021: {len(fras_standsent_2021)}\")\n",
    "print(\"\\nPrint the first 10 standardized sentences from Frasers Group annual reprots: \")\n",
    "print(fras_standsent_2021[:10])\n",
    "print(f\"\\nData type: {type(fras_standsent_2021)}\")"
   ]
  },
  {
   "cell_type": "markdown",
   "id": "0aff47e1-a740-46a0-8d58-74d580a12881",
   "metadata": {},
   "source": [
    "Next, it will combine all standardised sentences together as a list."
   ]
  },
  {
   "cell_type": "code",
   "execution_count": 117,
   "id": "7a011ca4-9a9b-4116-9750-89a703ae600d",
   "metadata": {},
   "outputs": [
    {
     "name": "stdout",
     "output_type": "stream",
     "text": [
      "Total number of all standardised sentences: 44598\n",
      "\n",
      "The first 10 Frasers Group standardised sentences:\n",
      "['annual report accounts', 'frasers group plc', 'frasers group founded single store frasers group plc frasers group group business company today uk largest sporting goods retailer revenue', 'group operates diversified portfolio sports fitness premium lifestyle luxury fascias countries', 'colleagues across five business segments uk sports retail premium lifestyle european retail rest world retail wholesale licensing', 'strategy provide consumers access world best sports premium luxury brands providing world leading retail ecosystem', 'aligned vision defined group purpose elevate lives many giving access world best brands experiences', 'impact since became listed public company', 'years since floated group greatly contributed british economy', 'includes approx']\n",
      "\n",
      "Data type: <class 'list'>\n"
     ]
    }
   ],
   "source": [
    "# Combine all standardised sentence into a list\n",
    "fras_standsent_all = (\n",
    "    fras_standsent_2022 +\n",
    "    fras_standsent_2021 +\n",
    "    fras_standsent_2020 +\n",
    "    fras_standsent_2019 +\n",
    "    fras_standsent_2018 +\n",
    "    fras_standsent_2017 +\n",
    "    fras_standsent_2016 +\n",
    "    fras_standsent_2015 +\n",
    "    fras_standsent_2014 +\n",
    "    fras_standsent_2013 +\n",
    "    fras_standsent_2012\n",
    ")\n",
    "\n",
    "print(f'Total number of all standardised sentences: {len(fras_standsent_all)}')\n",
    "print('\\nThe first 10 Frasers Group standardised sentences:')\n",
    "print(fras_standsent_all[:10])\n",
    "print(f\"\\nData type: {type(fras_standsent_all)}\")"
   ]
  },
  {
   "cell_type": "markdown",
   "id": "3a357178-6195-4166-aaca-9d6eb7c39fe8",
   "metadata": {
    "tags": []
   },
   "source": [
    "## B17. Burberry"
   ]
  },
  {
   "cell_type": "code",
   "execution_count": 118,
   "id": "2ffee555-e4dc-4189-8aa2-0d176f126f8a",
   "metadata": {},
   "outputs": [],
   "source": [
    "# Setting the path of annual reports from 2012 to 2022\n",
    "brby_2022_path = \"AR/burberry/brby-ar2022.pdf\"\n",
    "brby_2021_path = \"AR/burberry/brby-ar2021.pdf\"\n",
    "brby_2020_path = \"AR/burberry/brby-ar2020.pdf\"\n",
    "brby_2019_path = \"AR/burberry/brby-ar2019.pdf\"\n",
    "brby_2018_path = \"AR/burberry/brby-ar2018.pdf\"\n",
    "brby_2017_path = \"AR/burberry/brby-ar2017.pdf\"\n",
    "brby_2016_path = \"AR/burberry/brby-ar2016.pdf\"\n",
    "brby_2015_path = \"AR/burberry/brby-ar2015.pdf\"\n",
    "brby_2014_path = \"AR/burberry/brby-ar2014.pdf\"\n",
    "brby_2013_path = \"AR/burberry/brby-ar2013.pdf\"\n",
    "brby_2012_path = \"AR/burberry/brby-ar2012.pdf\""
   ]
  },
  {
   "cell_type": "code",
   "execution_count": 119,
   "id": "747c28cf-fa17-4922-83a7-c3fdbaa873cd",
   "metadata": {},
   "outputs": [],
   "source": [
    "# Extract text from annual report\n",
    "brby_sen_2022 = extract_pdf_text(brby_2022_path)\n",
    "brby_sen_2021 = extract_pdf_text(brby_2021_path)\n",
    "brby_sen_2020 = extract_pdf_text(brby_2020_path)\n",
    "brby_sen_2019 = extract_pdf_text(brby_2019_path)\n",
    "brby_sen_2018 = extract_pdf_text(brby_2018_path)\n",
    "brby_sen_2017 = extract_pdf_text(brby_2017_path)\n",
    "brby_sen_2016 = extract_pdf_text(brby_2016_path)\n",
    "brby_sen_2015 = extract_pdf_text(brby_2015_path)\n",
    "brby_sen_2014 = extract_pdf_text(brby_2014_path)\n",
    "brby_sen_2013 = extract_pdf_text(brby_2013_path)\n",
    "brby_sen_2012 = extract_pdf_text(brby_2012_path)\n"
   ]
  },
  {
   "cell_type": "markdown",
   "id": "30787a3a-255f-46bc-a0f2-d8cec7d914f1",
   "metadata": {},
   "source": [
    "Print the sentences from the annual report from 2021."
   ]
  },
  {
   "cell_type": "code",
   "execution_count": 120,
   "id": "c10e4b64-3a51-4f4f-8434-584c160d358e",
   "metadata": {},
   "outputs": [
    {
     "name": "stdout",
     "output_type": "stream",
     "text": [
      "Total number of sentences of 2021: 7153\n",
      "\n",
      "Print the first 10 sentences from Burberry annual reports: \n",
      "['ANNUAL REPORT 2020/21 ANNUAL REPORT 2020/21', 'INHERENT IN EVERY BURBERRY GARMENT IS FREEDOM Thomas Burberry', 'CONTENTS Strategic Report 2 Highlights 6 Chairman’s Letter 10 Chief Executive Officer’s Letter 14 Purpose 16 Business Model 18 Investment Case 20 Luxury Market Environment 24 Strategy 45 Key Performance Indicators 48 Group Financial Highlights 55 Capital Allocation Framework 56 Supporting Our Stakeholders During COVID-19 60 Environmental, Social and Governance 67 Our People 74 Our Communities 83 The Environment 92 Sustainability Bond 94 Non-Financial Information Statement 96 Stakeholder Engagement 104 Board Engagement 106 Risk and Viability Report 133 Task force on Climate- Related Financial Disclosures (TCFD) 138 Risk Management Activities in FY 2020/21 140 Our Viability StatementCorporate Governance Statement 146 Board Leadership and Company Purpose 146 Chairman’s Introduction 148 Board of Directors 152 Executive Committee 153 Corporate Governance Report 155 Principal areas of focus for the Board during FY 2020/21 162 Division of Responsibilities 162 Governance Structure and Division of Responsibilities 166 Composition, Succession and Evaluation 166 Board Evaluation 168 Report of the Nomination Committee 173 Audit, Risk and Internal Control 173 Report of the Audit Committee 180 Remuneration 180 Directors’ Remuneration Report 204 Directors’ ReportFinancial Statements 210 Statement of Directors’ Responsibilities 211 Independent Auditor’s Report to the Members of Burberry Group plc 224 Group Income Statement 225 Group Statement of Comprehensive Income 226 Group Balance Sheet 227 Group Statement of Changes in Equity 228 Group Statement of Cash Flows 229 Notes to the Financial Statements 287 Five-Year Summary 290 Company Balance Sheet 291 Company Statement of Changes in Equity 292 Notes to the Company Financial Statements 300 Shareholder Information 1', 'FINANCIAL AND OPERATIONAL HIGHLIGHTS Revenue by region1,2,3 Americas £475m, -15% at CER Number of stores: 86Europe, Middle East, India and Africa (EMEIA) £628m, -35% at CER Number of stores: 120Asia Pacific £1,203m, +16% at CER Number of stores: 209 Period ending £m27 March 202128 March 2020 Retail 1,910 2,110 Wholesale 396 476 Licensing 38 47Period ending £m27 March 202128 March 2020 Accessories 841 948 Women’s 653 796 Men’s 668 715 Children’s, Beauty and other 144 127Total revenue by channel Retail/wholesale revenue by destinationRevenue by product2 Retail/wholesale revenue by product division 1', 'All references to revenue growth on page 2 are presented at Constant Exchange Rates (CER)', 'See page 49 for reconciliation to total revenue', '2', 'Retail/wholesale revenue', '3', 'For more detail on performance see Group Financial Highlights on pages 48 to 54']\n",
      "\n",
      "Data type: <class 'list'>\n"
     ]
    }
   ],
   "source": [
    "# print the sentences summary of 2021 annual report\n",
    "print(f\"Total number of sentences of 2021: {len(brby_sen_2021)}\")\n",
    "print(\"\\nPrint the first 10 sentences from Burberry annual reports: \")\n",
    "print(brby_sen_2021[:10])\n",
    "print(f\"\\nData type: {type(brby_sen_2021)}\")"
   ]
  },
  {
   "cell_type": "markdown",
   "id": "be0b803c-d896-485a-a625-a63d5fcb02f2",
   "metadata": {},
   "source": [
    "Second, it will standardise the sentences for each annual reports."
   ]
  },
  {
   "cell_type": "code",
   "execution_count": 121,
   "id": "4a565da0-e070-4942-af68-0bd4626ab11a",
   "metadata": {},
   "outputs": [],
   "source": [
    "# Standardise all sentences from all annual reports\n",
    "brby_standsent_2022 = standardize_sentences(brby_sen_2022)\n",
    "brby_standsent_2021 = standardize_sentences(brby_sen_2021)\n",
    "brby_standsent_2020 = standardize_sentences(brby_sen_2020)\n",
    "brby_standsent_2019 = standardize_sentences(brby_sen_2019)\n",
    "brby_standsent_2018 = standardize_sentences(brby_sen_2018)\n",
    "brby_standsent_2017 = standardize_sentences(brby_sen_2017)\n",
    "brby_standsent_2016 = standardize_sentences(brby_sen_2016)\n",
    "brby_standsent_2015 = standardize_sentences(brby_sen_2015)\n",
    "brby_standsent_2014 = standardize_sentences(brby_sen_2014)\n",
    "brby_standsent_2013 = standardize_sentences(brby_sen_2013)\n",
    "brby_standsent_2012 = standardize_sentences(brby_sen_2012)"
   ]
  },
  {
   "cell_type": "markdown",
   "id": "8f3ce2b2-8510-400f-a8e2-50cbe54919f4",
   "metadata": {},
   "source": [
    "Print the short summary of standardised sentences of 2021 annual reports."
   ]
  },
  {
   "cell_type": "code",
   "execution_count": 122,
   "id": "a9c6deed-87be-456c-9475-0b51b2d85828",
   "metadata": {},
   "outputs": [
    {
     "name": "stdout",
     "output_type": "stream",
     "text": [
      "Total number of standardized sentences of 2021: 7153\n",
      "\n",
      "Print the first 10 standardized sentences from Burberry  annual reprots: \n",
      "['annual report annual report', 'inherent every burberry garment freedom thomas burberry', 'contents strategic report highlights chairman letter chief executive officer letter purpose business model investment case luxury market environment strategy key performance indicators group financial highlights capital allocation framework supporting stakeholders covid environmental social governance people communities environment sustainability bond non financial information statement stakeholder engagement board engagement risk viability report task force climate related financial disclosures tcfd risk management activities fy viability statementcorporate governance statement board leadership company purpose chairman introduction board directors executive committee corporate governance report principal areas focus board fy division responsibilities governance structure division responsibilities composition succession evaluation board evaluation report nomination committee audit risk internal control report audit committee remuneration directors remuneration report directors reportfinancial statements statement directors responsibilities independent auditor report members burberry group plc group income statement group statement comprehensive income group balance sheet group statement changes equity group statement cash flows notes financial statements five year summary company balance sheet company statement changes equity notes company financial statements shareholder information', 'financial operational highlights revenue region americas cer number stores europe middle east india africa emeia cer number stores asia pacific cer number stores period ending march march retail wholesale licensing period ending march march accessories women men children beauty total revenue channel retail wholesale revenue destinationrevenue product retail wholesale revenue product division', 'references revenue growth page presented constant exchange rates cer', 'see page reconciliation total revenue', '', 'retail wholesale revenue', '', 'detail performance see group financial highlights pages']\n",
      "\n",
      "Data type: <class 'list'>\n"
     ]
    }
   ],
   "source": [
    "# print the standardized sentences summary of 2021 annual report\n",
    "print(f\"Total number of standardized sentences of 2021: {len(brby_standsent_2021)}\")\n",
    "print(\"\\nPrint the first 10 standardized sentences from Burberry  annual reprots: \")\n",
    "print(brby_standsent_2021[:10])\n",
    "print(f\"\\nData type: {type(brby_standsent_2021)}\")"
   ]
  },
  {
   "cell_type": "markdown",
   "id": "4c4bfee3-ad34-48ad-a145-2e08321ebae1",
   "metadata": {},
   "source": [
    "Next, it will combine all standardised sentences together as a list."
   ]
  },
  {
   "cell_type": "code",
   "execution_count": 123,
   "id": "7d0cf375-6f6d-4eb9-8bfe-bdb1ebab1ea1",
   "metadata": {},
   "outputs": [
    {
     "name": "stdout",
     "output_type": "stream",
     "text": [
      "Total number of all standardised sentences: 66398\n",
      "\n",
      "The first 10 Burberry standardised sentences:\n",
      "['annual report annual report', 'table contents strategic report chair letter chief executive officer letter financial highlights business model investment case luxury market environment strategy overview key performance indicators financial measures financial review capital allocation framework non financial sustainability information statement environmental social responsibility product planet people communities responsibility approach task force climate related financial disclosures stakeholder engagement board engagement risk viability report risk management activities viability statement corporate governance statement chair introduction board directors executive committee corporate governance report division responsibilities governance structure division responsibilities composition succession evaluation board evaluation report nomination committee audit risk internal control report audit committee remuneration directors remuneration report directors report financial statements statement directors responsibilities independent auditor report members burberry group plc group income statement group statement comprehensive income group balance sheet group statement changes equity group statement cash flows notes financial statements five year summary company balance sheet company statement changes equity notes company financial statements shareholder information burberry', 'gerry murphy chair strategic report chair letter burberry', 'dear shareholder pleased report burberry good shape financially operationally strategically thanks leadership team energy commitment exceptional colleagues around world', 'jonathan akeroyd joined burberry chief executive officer start fy set clear ambition burberry longer term growth quintessential british luxury brand set achieving ambition great urgency', 'performance burberry performing well delivered record sales profits earnings per share', 'strong financial performance achieved background continuing global uncertainty high inflation ongoing recovery covid pandemic especially important asian markets international travel tourism still well pre pandemic levels clearly demonstrates agility resilience business', 'well delivering shareholders continued bring burberry purpose life supporting colleagues reach full potential ensuring burberry always everywhere welcoming inclusive fair safe place work one reflects enriched diversity communities operate', 'brand rooted enduring values founder thomas burberry', 'modern british luxury brand using products drive positive change']\n",
      "\n",
      "Data type: <class 'list'>\n"
     ]
    }
   ],
   "source": [
    "# Combine all standardised sentence into a list\n",
    "brby_standsent_all = (\n",
    "    brby_standsent_2022 +\n",
    "    brby_standsent_2021 +\n",
    "    brby_standsent_2020 +\n",
    "    brby_standsent_2019 +\n",
    "    brby_standsent_2018 +\n",
    "    brby_standsent_2017 +\n",
    "    brby_standsent_2016 +\n",
    "    brby_standsent_2015 +\n",
    "    brby_standsent_2014 +\n",
    "    brby_standsent_2013 +\n",
    "    brby_standsent_2012\n",
    ")\n",
    "\n",
    "print(f'Total number of all standardised sentences: {len(brby_standsent_all)}')\n",
    "print('\\nThe first 10 Burberry standardised sentences:')\n",
    "print(brby_standsent_all[:10])\n",
    "print(f\"\\nData type: {type(brby_standsent_all)}\")"
   ]
  },
  {
   "cell_type": "markdown",
   "id": "1bbc6cc5-180b-4268-b0ab-a14becc36bd6",
   "metadata": {
    "tags": []
   },
   "source": [
    "## B18. Dunelm Group plc"
   ]
  },
  {
   "cell_type": "code",
   "execution_count": 124,
   "id": "135ab695-9d61-425e-ab49-e7ed51691f4f",
   "metadata": {},
   "outputs": [],
   "source": [
    "# Setting the path of annual reports from 2012 to 2022\n",
    "dnlm_2022_path = \"AR/dunelm/dnlm-ar2022.pdf\"\n",
    "dnlm_2021_path = \"AR/dunelm/dnlm-ar2021.pdf\"\n",
    "dnlm_2020_path = \"AR/dunelm/dnlm-ar2020.pdf\"\n",
    "dnlm_2019_path = \"AR/dunelm/dnlm-ar2019.pdf\"\n",
    "dnlm_2018_path = \"AR/dunelm/dnlm-ar2018.pdf\"\n",
    "dnlm_2017_path = \"AR/dunelm/dnlm-ar2017.pdf\"\n",
    "dnlm_2016_path = \"AR/dunelm/dnlm-ar2016.pdf\"\n",
    "dnlm_2015_path = \"AR/dunelm/dnlm-ar2015.pdf\"\n",
    "dnlm_2014_path = \"AR/dunelm/dnlm-ar2014.pdf\"\n",
    "dnlm_2013_path = \"AR/dunelm/dnlm-ar2013.pdf\"\n",
    "dnlm_2012_path = \"AR/dunelm/dnlm-ar2012.pdf\""
   ]
  },
  {
   "cell_type": "code",
   "execution_count": 125,
   "id": "0df0006b-74d3-46c9-895b-eb534071019f",
   "metadata": {},
   "outputs": [],
   "source": [
    "# Extract text from annual report\n",
    "dnlm_sen_2022 = extract_pdf_text(dnlm_2022_path)\n",
    "dnlm_sen_2021 = extract_pdf_text(dnlm_2021_path)\n",
    "dnlm_sen_2020 = extract_pdf_text(dnlm_2020_path)\n",
    "dnlm_sen_2019 = extract_pdf_text(dnlm_2019_path)\n",
    "dnlm_sen_2018 = extract_pdf_text(dnlm_2018_path)\n",
    "dnlm_sen_2017 = extract_pdf_text(dnlm_2017_path)\n",
    "dnlm_sen_2016 = extract_pdf_text(dnlm_2016_path)\n",
    "dnlm_sen_2015 = extract_pdf_text(dnlm_2015_path)\n",
    "dnlm_sen_2014 = extract_pdf_text(dnlm_2014_path)\n",
    "dnlm_sen_2013 = extract_pdf_text(dnlm_2013_path)\n",
    "dnlm_sen_2012 = extract_pdf_text(dnlm_2012_path)\n"
   ]
  },
  {
   "cell_type": "markdown",
   "id": "f104c576-fd29-4198-aa5d-167d692ac906",
   "metadata": {},
   "source": [
    "Print the sentences from the annual report from 2021."
   ]
  },
  {
   "cell_type": "code",
   "execution_count": 126,
   "id": "3fe99df2-3e9c-48e3-91ea-c09149ee28d3",
   "metadata": {},
   "outputs": [
    {
     "name": "stdout",
     "output_type": "stream",
     "text": [
      "Total number of sentences of 2021: 6495\n",
      "\n",
      "Print the first 10 sentences from Dunelm annual reports: \n",
      "['purposeGrowing withDUNELM GROUP PLC ANNUAL REPORT AND ACCOUNTS 2022 DUNELM GROUP PLC ANNUAL REPORT AND ACCOUNTS 2022', 'To help create the joy of truly feeling at home, now and for generations to come', 'Our purpose NickIn last year’s annual report, I talked about our renewed purpose and its relevance to the broader role we play in the lives of our stakeholders', 'Our purpose influences our Board and our colleagues in our decision-making', 'It prompts us to question why we do what we do, and it improves our recognition of how we help create the joy of truly feeling at home for our stakeholders – our customers, colleagues, store communities, suppliers, shareholders and all other people we deal with', 'As we continue to grow it is even more important that we use our purpose to guide us to do the right thing', 'Our plan is to become our customers’ 1st Choice for Home, across all products, services and experiences that we offer', 'Increasingly, we can demonstrate that we are achieving this in a sustainable and responsible way, now and for generations to come', 'In this report we share examples of how our purpose has been used to guide our strategic thinking and actions', 'By growing with purpose, we believe we can better counter the significant macroeconomic uncertainties ahead and keep our stakeholders engaged and committed as we head into our next phase of growth']\n",
      "\n",
      "Data type: <class 'list'>\n"
     ]
    }
   ],
   "source": [
    "# print the sentences summary of 2021 annual report\n",
    "print(f\"Total number of sentences of 2021: {len(dnlm_sen_2021)}\")\n",
    "print(\"\\nPrint the first 10 sentences from Dunelm annual reports: \")\n",
    "print(dnlm_sen_2021[:10])\n",
    "print(f\"\\nData type: {type(dnlm_sen_2021)}\")"
   ]
  },
  {
   "cell_type": "markdown",
   "id": "08423f6f-f20e-4416-99e2-fff50aaa94e0",
   "metadata": {},
   "source": [
    "Second, it will standardise the sentences for each annual reports."
   ]
  },
  {
   "cell_type": "code",
   "execution_count": 127,
   "id": "be355d1c-2b69-4c9b-b35e-80f7bf6bdd07",
   "metadata": {},
   "outputs": [],
   "source": [
    "# Standardise all sentences from all annual reports\n",
    "dnlm_standsent_2022 = standardize_sentences(dnlm_sen_2022)\n",
    "dnlm_standsent_2021 = standardize_sentences(dnlm_sen_2021)\n",
    "dnlm_standsent_2020 = standardize_sentences(dnlm_sen_2020)\n",
    "dnlm_standsent_2019 = standardize_sentences(dnlm_sen_2019)\n",
    "dnlm_standsent_2018 = standardize_sentences(dnlm_sen_2018)\n",
    "dnlm_standsent_2017 = standardize_sentences(dnlm_sen_2017)\n",
    "dnlm_standsent_2016 = standardize_sentences(dnlm_sen_2016)\n",
    "dnlm_standsent_2015 = standardize_sentences(dnlm_sen_2015)\n",
    "dnlm_standsent_2014 = standardize_sentences(dnlm_sen_2014)\n",
    "dnlm_standsent_2013 = standardize_sentences(dnlm_sen_2013)\n",
    "dnlm_standsent_2012 = standardize_sentences(dnlm_sen_2012)"
   ]
  },
  {
   "cell_type": "markdown",
   "id": "7bc7b99e-31af-449c-9898-00bbffa377be",
   "metadata": {},
   "source": [
    "Print the short summary of standardised sentences of 2021 annual reports."
   ]
  },
  {
   "cell_type": "code",
   "execution_count": 128,
   "id": "2ad4cc24-8ad1-4038-861e-717102703b4b",
   "metadata": {},
   "outputs": [
    {
     "name": "stdout",
     "output_type": "stream",
     "text": [
      "Total number of standardized sentences of 2021: 6495\n",
      "\n",
      "Print the first 10 standardized sentences from Dunelm annual reprots: \n",
      "['purposegrowing withdunelm group plc annual report accounts dunelm group plc annual report accounts', 'help create joy truly feeling home generations come', 'purpose nickin last year annual report talked renewed purpose relevance broader role play lives stakeholders', 'purpose influences board colleagues decision making', 'prompts us question improves recognition help create joy truly feeling home stakeholders customers colleagues store communities suppliers shareholders people deal', 'continue grow even important use purpose guide us right thing', 'plan become customers st choice home across products services experiences offer', 'increasingly demonstrate achieving sustainable responsible way generations come', 'report share examples purpose used guide strategic thinking actions', 'growing purpose believe better counter significant macroeconomic uncertainties ahead keep stakeholders engaged committed head next phase growth']\n",
      "\n",
      "Data type: <class 'list'>\n"
     ]
    }
   ],
   "source": [
    "# print the standardized sentences summary of 2021 annual report\n",
    "print(f\"Total number of standardized sentences of 2021: {len(dnlm_standsent_2021)}\")\n",
    "print(\"\\nPrint the first 10 standardized sentences from Dunelm annual reprots: \")\n",
    "print(dnlm_standsent_2021[:10])\n",
    "print(f\"\\nData type: {type(dnlm_standsent_2021)}\")"
   ]
  },
  {
   "cell_type": "markdown",
   "id": "1406b333-97aa-4c8f-ab9d-0b4f64acb471",
   "metadata": {},
   "source": [
    "Next, it will combine all standardised sentences together as a list."
   ]
  },
  {
   "cell_type": "code",
   "execution_count": 129,
   "id": "c687552c-f4f4-47c1-b0b5-793a1db9fb96",
   "metadata": {},
   "outputs": [
    {
     "name": "stdout",
     "output_type": "stream",
     "text": [
      "Total number of all standardised sentences: 43790\n",
      "\n",
      "The first 10 Dunelm standardised sentences:\n",
      "['purposegrowing withdunelm group plc annual report accounts dunelm group plc annual report accounts', 'help create joy truly feeling home generations come', 'purpose nickin last year annual report talked renewed purpose relevance broader role play lives stakeholders', 'purpose influences board colleagues decision making', 'prompts us question improves recognition help create joy truly feeling home stakeholders customers colleagues store communities suppliers shareholders people deal', 'continue grow even important use purpose guide us right thing', 'plan become customers st choice home across products services experiences offer', 'increasingly demonstrate achieving sustainable responsible way generations come', 'report share examples purpose used guide strategic thinking actions', 'growing purpose believe better counter significant macroeconomic uncertainties ahead keep stakeholders engaged committed head next phase growth']\n",
      "\n",
      "Data type: <class 'list'>\n"
     ]
    }
   ],
   "source": [
    "# Combine all standardised sentence into a list\n",
    "dnlm_standsent_all = (\n",
    "    dnlm_standsent_2022 +\n",
    "    dnlm_standsent_2021 +\n",
    "    dnlm_standsent_2020 +\n",
    "    dnlm_standsent_2019 +\n",
    "    dnlm_standsent_2018 +\n",
    "    dnlm_standsent_2017 +\n",
    "    dnlm_standsent_2016 +\n",
    "    dnlm_standsent_2015 +\n",
    "    dnlm_standsent_2014 +\n",
    "    dnlm_standsent_2013 +\n",
    "    dnlm_standsent_2012\n",
    ")\n",
    "\n",
    "print(f'Total number of all standardised sentences: {len(dnlm_standsent_all)}')\n",
    "print('\\nThe first 10 Dunelm standardised sentences:')\n",
    "print(dnlm_standsent_all[:10])\n",
    "print(f\"\\nData type: {type(dnlm_standsent_all)}\")"
   ]
  },
  {
   "cell_type": "markdown",
   "id": "d888b08a-2159-4677-90ad-574d2901fd29",
   "metadata": {
    "tags": []
   },
   "source": [
    "## B19. Halfords Group plc"
   ]
  },
  {
   "cell_type": "code",
   "execution_count": 130,
   "id": "5a9482ec-06fa-4021-b3c8-2ad012af0445",
   "metadata": {},
   "outputs": [],
   "source": [
    "# Setting the path of annual reports from 2012 to 2022\n",
    "hfd_2022_path = \"AR/halfords/hfd-ar2022.pdf\"\n",
    "hfd_2021_path = \"AR/halfords/hfd-ar2021.pdf\"\n",
    "hfd_2020_path = \"AR/halfords/hfd-ar2020.pdf\"\n",
    "hfd_2019_path = \"AR/halfords/hfd-ar2019.pdf\"\n",
    "hfd_2018_path = \"AR/halfords/hfd-ar2018.pdf\"\n",
    "hfd_2017_path = \"AR/halfords/hfd-ar2017.pdf\"\n",
    "hfd_2016_path = \"AR/halfords/hfd-ar2016.pdf\"\n",
    "hfd_2015_path = \"AR/halfords/hfd-ar2015.pdf\"\n",
    "hfd_2014_path = \"AR/halfords/hfd-ar2014.pdf\"\n",
    "hfd_2013_path = \"AR/halfords/hfd-ar2013.pdf\"\n",
    "hfd_2012_path = \"AR/halfords/hfd-ar2012.pdf\""
   ]
  },
  {
   "cell_type": "code",
   "execution_count": 131,
   "id": "54ae99b1-fa8d-4a05-92fa-e1dbaa96ef26",
   "metadata": {},
   "outputs": [],
   "source": [
    "# Extract text from annual report\n",
    "hfd_sen_2022 = extract_pdf_text(hfd_2022_path)\n",
    "hfd_sen_2021 = extract_pdf_text(hfd_2021_path)\n",
    "hfd_sen_2020 = extract_pdf_text(hfd_2020_path)\n",
    "hfd_sen_2019 = extract_pdf_text(hfd_2019_path)\n",
    "hfd_sen_2018 = extract_pdf_text(hfd_2018_path)\n",
    "hfd_sen_2017 = extract_pdf_text(hfd_2017_path)\n",
    "hfd_sen_2016 = extract_pdf_text(hfd_2016_path)\n",
    "hfd_sen_2015 = extract_pdf_text(hfd_2015_path)\n",
    "hfd_sen_2014 = extract_pdf_text(hfd_2014_path)\n",
    "hfd_sen_2013 = extract_pdf_text(hfd_2013_path)\n",
    "hfd_sen_2012 = extract_pdf_text(hfd_2012_path)\n"
   ]
  },
  {
   "cell_type": "markdown",
   "id": "6b2f3ef6-45c0-4e7a-93e2-4adebe8ad593",
   "metadata": {},
   "source": [
    "Print the sentences from the annual report from 2021."
   ]
  },
  {
   "cell_type": "code",
   "execution_count": 132,
   "id": "28622440-912c-4e47-b067-a0b93ed6ede6",
   "metadata": {},
   "outputs": [
    {
     "name": "stdout",
     "output_type": "stream",
     "text": [
      "Total number of sentences of 2021: 6593\n",
      "\n",
      "Print the first 10 sentences from Halfords annual reports: \n",
      "['Job Number 15 July 2021 7:09 pm Proof Number Halfords Group plc Annual Report and Accounts for the period ended 2 April 2021 Halfords Group plc Annual Report and Accounts for the period ended 2 April 2021 Stock code: HFDTo Inspire and Support a Lifetime of motoring and cycling 30441-Halfords-Annual-Report-2021-Strategic', 'indd 330441-Halfords-Annual-Report-2021-Strategic', 'indd 3 15/07/2021 19:12:3615/07/2021 19:12:36', 'Job Number 15 July 2021 7:09 pm Proof Number Halfords is the UK’s leading provider of motoring and cycling products and services', 'Our purpose is to Inspire and Support a Lifetime of motoring and cycling', 'Our vision is to be the super-specialists in motoring and cycling, trusted by the nation', 'Evolving into a consumer and B2B services-led business, positioned for long-term success', 'Our unique market position means we can offer customers products and services for all their motoring and cycling needs under the Halfords brand', 'We have proven that our strategic direction is right and with our highly skilled colleagues and strong culture, we are well-positioned to deliver for all our stakeholders', 'We offer a unique proposition We are the market-leader in motoring and cycling products and services, providing our customers with the convenience of over 900 fixed and mobile locations and with unparalleled specialist expertise']\n",
      "\n",
      "Data type: <class 'list'>\n"
     ]
    }
   ],
   "source": [
    "# print the sentences summary of 2021 annual report\n",
    "print(f\"Total number of sentences of 2021: {len(hfd_sen_2021)}\")\n",
    "print(\"\\nPrint the first 10 sentences from Halfords annual reports: \")\n",
    "print(hfd_sen_2021[:10])\n",
    "print(f\"\\nData type: {type(hfd_sen_2021)}\")"
   ]
  },
  {
   "cell_type": "markdown",
   "id": "a5ec6c07-e201-49e3-964d-c1f8045eb387",
   "metadata": {},
   "source": [
    "Second, it will standardise the sentences for each annual reports."
   ]
  },
  {
   "cell_type": "code",
   "execution_count": 133,
   "id": "44a99686-1b34-4d36-bd48-e89586713151",
   "metadata": {},
   "outputs": [],
   "source": [
    "# Standardise all sentences from all annual reports\n",
    "hfd_standsent_2022 = standardize_sentences(hfd_sen_2022)\n",
    "hfd_standsent_2021 = standardize_sentences(hfd_sen_2021)\n",
    "hfd_standsent_2020 = standardize_sentences(hfd_sen_2020)\n",
    "hfd_standsent_2019 = standardize_sentences(hfd_sen_2019)\n",
    "hfd_standsent_2018 = standardize_sentences(hfd_sen_2018)\n",
    "hfd_standsent_2017 = standardize_sentences(hfd_sen_2017)\n",
    "hfd_standsent_2016 = standardize_sentences(hfd_sen_2016)\n",
    "hfd_standsent_2015 = standardize_sentences(hfd_sen_2015)\n",
    "hfd_standsent_2014 = standardize_sentences(hfd_sen_2014)\n",
    "hfd_standsent_2013 = standardize_sentences(hfd_sen_2013)\n",
    "hfd_standsent_2012 = standardize_sentences(hfd_sen_2012)"
   ]
  },
  {
   "cell_type": "markdown",
   "id": "68a29d96-6fb4-4fc4-a68a-0a17fe579763",
   "metadata": {},
   "source": [
    "Print the short summary of standardised sentences of 2021 annual reports."
   ]
  },
  {
   "cell_type": "code",
   "execution_count": 134,
   "id": "fbce4423-4d8e-4f65-9078-3853c2b93061",
   "metadata": {},
   "outputs": [
    {
     "name": "stdout",
     "output_type": "stream",
     "text": [
      "Total number of standardized sentences of 2021: 6593\n",
      "\n",
      "Print the first 10 standardized sentences from Halfords annual reprots: \n",
      "['job number july pm proof number halfords group plc annual report accounts period ended april halfords group plc annual report accounts period ended april stock code hfdto inspire support lifetime motoring cycling halfords annual report strategic', 'indd halfords annual report strategic', 'indd', 'job number july pm proof number halfords uk leading provider motoring cycling products services', 'purpose inspire support lifetime motoring cycling', 'vision super specialists motoring cycling trusted nation', 'evolving consumer b b services led business positioned long term success', 'unique market position means offer customers products services motoring cycling needs halfords brand', 'proven strategic direction right highly skilled colleagues strong culture well positioned deliver stakeholders', 'offer unique proposition market leader motoring cycling products services providing customers convenience fixed mobile locations unparalleled specialist expertise']\n",
      "\n",
      "Data type: <class 'list'>\n"
     ]
    }
   ],
   "source": [
    "# print the standardized sentences summary of 2021 annual report\n",
    "print(f\"Total number of standardized sentences of 2021: {len(hfd_standsent_2021)}\")\n",
    "print(\"\\nPrint the first 10 standardized sentences from Halfords annual reprots: \")\n",
    "print(hfd_standsent_2021[:10])\n",
    "print(f\"\\nData type: {type(hfd_standsent_2021)}\")"
   ]
  },
  {
   "cell_type": "markdown",
   "id": "38a95c66-e4c6-4b6d-8b63-317c6cc90d4a",
   "metadata": {},
   "source": [
    "Next, it will combine all standardised sentences together as a list."
   ]
  },
  {
   "cell_type": "code",
   "execution_count": 135,
   "id": "8f217773-aafa-416d-8311-4816d330aebf",
   "metadata": {},
   "outputs": [
    {
     "name": "stdout",
     "output_type": "stream",
     "text": [
      "Total number of all standardised sentences: 55614\n",
      "\n",
      "The first 10 Halfords standardised sentences:\n",
      "['halfords group plc annual report accounts period ended april halfords group plc annual report accounts period ended april inspire support lifetime motoring cycling', 'contents group overview scale change group highlights purpose values strategy culture group glance chair statement investment case strategic report chief executive officer statement marketplace engagement stakeholders section statement create value strategy environmental social governance key performance indicators chief financial officer review risk management climate related financial disclosure tcfd principal risks uncertainties viability statement governance board directors directors report corporate governance report nomination committee report esg committee report audit committee report remuneration committee report directors remuneration policy summary report directors remuneration report directors responsibilities financial statements independent auditor report consolidated income statement consolidated statement comprehensive income consolidated statement financial position consolidated statement changes shareholders equity consolidated statement cash flows notes consolidated statement cash flows accounting policies notes financial statements company balance sheet company statement changes shareholders equity accounting policies notes financial statements shareholder information five year record glossary alternative performance measures company information welcome annual report halfords uk leading provider motoring cycling products services', 'purpose inspire support lifetime motoring cycling', 'medium term goal evolve consumer b b services focused business', 'integrated report eighth integrated report designed provide concise overview generate value stakeholders', 'following integrated reporting model aim show competitive advantage sustainable short medium long term', 'whilst report focuses value generation shareholders also demonstrates interact stakeholders', 'online annual report read annual report online including link full remuneration policy halfords', 'annualreport', 'com corporate website catch latest news learn halfords corporate website www']\n",
      "\n",
      "Data type: <class 'list'>\n"
     ]
    }
   ],
   "source": [
    "# Combine all standardised sentence into a list\n",
    "hfd_standsent_all = (\n",
    "    hfd_standsent_2022 +\n",
    "    hfd_standsent_2021 +\n",
    "    hfd_standsent_2020 +\n",
    "    hfd_standsent_2019 +\n",
    "    hfd_standsent_2018 +\n",
    "    hfd_standsent_2017 +\n",
    "    hfd_standsent_2016 +\n",
    "    hfd_standsent_2015 +\n",
    "    hfd_standsent_2014 +\n",
    "    hfd_standsent_2013 +\n",
    "    hfd_standsent_2012\n",
    ")\n",
    "\n",
    "print(f'Total number of all standardised sentences: {len(hfd_standsent_all)}')\n",
    "print('\\nThe first 10 Halfords standardised sentences:')\n",
    "print(hfd_standsent_all[:10])\n",
    "print(f\"\\nData type: {type(hfd_standsent_all)}\")"
   ]
  },
  {
   "cell_type": "markdown",
   "id": "8b70a809-454b-400b-82e5-db94660b8717",
   "metadata": {
    "tags": []
   },
   "source": [
    "## B20. JD Sports Fashion PLC"
   ]
  },
  {
   "cell_type": "code",
   "execution_count": 136,
   "id": "d5fdaa1b-0b49-49f8-ab64-5137d29267fe",
   "metadata": {},
   "outputs": [],
   "source": [
    "# Setting the path of annual reports from 2012 to 2022\n",
    "jd_2022_path = \"AR/jd_sports/jd-ar2022.pdf\"\n",
    "jd_2021_path = \"AR/jd_sports/jd-ar2021.pdf\"\n",
    "jd_2020_path = \"AR/jd_sports/jd-ar2020.pdf\"\n",
    "jd_2019_path = \"AR/jd_sports/jd-ar2019.pdf\"\n",
    "jd_2018_path = \"AR/jd_sports/jd-ar2018.pdf\"\n",
    "jd_2017_path = \"AR/jd_sports/jd-ar2017.pdf\"\n",
    "jd_2016_path = \"AR/jd_sports/jd-ar2016.pdf\"\n",
    "jd_2015_path = \"AR/jd_sports/jd-ar2015.pdf\"\n",
    "jd_2014_path = \"AR/jd_sports/jd-ar2014.pdf\"\n",
    "jd_2013_path = \"AR/jd_sports/jd-ar2013.pdf\"\n",
    "jd_2012_path = \"AR/jd_sports/jd-ar2012.pdf\""
   ]
  },
  {
   "cell_type": "code",
   "execution_count": 137,
   "id": "9a011fd2-ce90-423d-8745-13ac68bf6e5b",
   "metadata": {},
   "outputs": [],
   "source": [
    "# Extract text from annual report\n",
    "jd_sen_2022 = extract_pdf_text(jd_2022_path)\n",
    "jd_sen_2021 = extract_pdf_text(jd_2021_path)\n",
    "jd_sen_2020 = extract_pdf_text(jd_2020_path)\n",
    "jd_sen_2019 = extract_pdf_text(jd_2019_path)\n",
    "jd_sen_2018 = extract_pdf_text(jd_2018_path)\n",
    "jd_sen_2017 = extract_pdf_text(jd_2017_path)\n",
    "jd_sen_2016 = extract_pdf_text(jd_2016_path)\n",
    "jd_sen_2015 = extract_pdf_text(jd_2015_path)\n",
    "jd_sen_2014 = extract_pdf_text(jd_2014_path)\n",
    "jd_sen_2013 = extract_pdf_text(jd_2013_path)\n",
    "jd_sen_2012 = extract_pdf_text(jd_2012_path)\n",
    "\n"
   ]
  },
  {
   "cell_type": "markdown",
   "id": "618bfb34-5441-4985-b6f2-f51a7041d3ed",
   "metadata": {},
   "source": [
    "Print the sentences from the annual report from 2021."
   ]
  },
  {
   "cell_type": "code",
   "execution_count": 138,
   "id": "4ee0bb53-385a-44cd-a0e9-407e3eb1a974",
   "metadata": {},
   "outputs": [
    {
     "name": "stdout",
     "output_type": "stream",
     "text": [
      "Total number of sentences of 2021: 6958\n",
      "\n",
      "Print the first 10 sentences from JD Sports annual reports: \n",
      "['ANNUAL REPORT AND ACCOUNTS', 'CONTENTS OVERVIEW 2 HIGHLIGHTS 6 OUR BRANDS 30 WHERE WE ARE 36 EXECUTIVE CHAIRMAN’S STATEMENT STRATEGIC REPORT 44 BUSINESS MODEL 46 OUR STRATEGY 51 PRINCIPAL RISKS 79 BUSINESS REVIEW 83 FINANCIAL REVIEW 88 PROPERTY AND STORES REVIEW 96 CORPORATE AND SOCIAL RESPONSIBILITY 140 THE JD FOUNDATION 154 SECTION 172 STATEMENT GOVERNANCE 160 THE BOARD 162 DIRECTORS’ REPORT 168 CORPORATE GOVERNANCE REPORT 176 AUDIT COMMITTEE REPORT 179 DIRECTORS’ REMUNERATION REPORT FINANCIAL STATEMENTS 210 STATEMENT OF DIRECTORS’ RESPONSIBILITIES 212 INDEPENDENT AUDITOR’S REPORT 226 CONSOLIDATED INCOME STATEMENT 226 CONSOLIDATED STATEMENT OF COMPREHENSIVE INCOME 227 CONSOLIDATED STATEMENT OF FINANCIAL POSITION 228 CONSOLIDATED STATEMENT OF CHANGES IN EQUITY 229 CONSOLIDATED STATEMENT OF CASH FLOWS 230 NOTES TO THE CONSOLIDATED FINANCIAL STATEMENTS 313 COMPANY BALANCE SHEET 314 COMPANY STATEMENT OF CHANGES IN EQUITY 314 NOTES TO THE COMPANY FINANCIAL STATEMENTS GROUP INFORMATION 326 FINANCIAL CALENDAR 327 SHAREHOLDER INFORMATION 328 FIVE YEAR RECORD 329 ALTERNATIVE PERFORMANCE MEASURES', 'NYcNEW STORE IN', '2 HIGHLIGHTS *\\x07 Throughout\\x07the\\x07Annual\\x07Report\\x07‘*’\\x07indicates\\x07the\\x07first\\x07instance\\x07of\\x07a\\x07term\\x07defined\\x07and\\x07is\\x07explained\\x07in\\x07the\\x07Alternative\\x07Performance\\x07Measures\\x07on\\x07page\\x07329', '\\x07 Exceptional\\x07items\\x07are\\x07disclosed\\x07in\\x07Note\\x074\\x07of\\x07the\\x07financial\\x07statements', '\\x07 **\\x07Final\\x07dividend\\x07withheld\\x07as\\x07cash\\x07was\\x07preserved\\x07due\\x07to\\x07COVID-19\\x07outbreak', '£6,167', '3m £6,110', '8m £4,717', '8 m £3,161']\n",
      "\n",
      "Data type: <class 'list'>\n"
     ]
    }
   ],
   "source": [
    "# print the sentences summary of 2021 annual report\n",
    "print(f\"Total number of sentences of 2021: {len(jd_sen_2021)}\")\n",
    "print(\"\\nPrint the first 10 sentences from JD Sports annual reports: \")\n",
    "print(jd_sen_2021[:10])\n",
    "print(f\"\\nData type: {type(jd_sen_2021)}\")"
   ]
  },
  {
   "cell_type": "markdown",
   "id": "a391f28b-37b8-44e3-9506-d267b8dc6c68",
   "metadata": {},
   "source": [
    "Second, it will standardise the sentences for each annual reports."
   ]
  },
  {
   "cell_type": "code",
   "execution_count": 139,
   "id": "65a49da2-c1a9-42e0-9f95-eb1dc1e23f40",
   "metadata": {},
   "outputs": [],
   "source": [
    "# Standardise all sentences from all annual reports\n",
    "jd_standsent_2022 = standardize_sentences(jd_sen_2022)\n",
    "jd_standsent_2021 = standardize_sentences(jd_sen_2021)\n",
    "jd_standsent_2020 = standardize_sentences(jd_sen_2020)\n",
    "jd_standsent_2019 = standardize_sentences(jd_sen_2019)\n",
    "jd_standsent_2018 = standardize_sentences(jd_sen_2018)\n",
    "jd_standsent_2017 = standardize_sentences(jd_sen_2017)\n",
    "jd_standsent_2016 = standardize_sentences(jd_sen_2016)\n",
    "jd_standsent_2015 = standardize_sentences(jd_sen_2015)\n",
    "jd_standsent_2014 = standardize_sentences(jd_sen_2014)\n",
    "jd_standsent_2013 = standardize_sentences(jd_sen_2013)\n",
    "jd_standsent_2012 = standardize_sentences(jd_sen_2012)"
   ]
  },
  {
   "cell_type": "markdown",
   "id": "b63087ca-dd3f-46b3-8c4d-b857f837b38a",
   "metadata": {},
   "source": [
    "Print the short summary of standardised sentences of 2021 annual reports."
   ]
  },
  {
   "cell_type": "code",
   "execution_count": 140,
   "id": "180341bc-fa16-479e-b8dd-96271e6b0d4b",
   "metadata": {},
   "outputs": [
    {
     "name": "stdout",
     "output_type": "stream",
     "text": [
      "Total number of standardized sentences of 2021: 6958\n",
      "\n",
      "Print the first 10 standardized sentences from JD Sports annual reprots: \n",
      "['annual report accounts', 'contents overview highlights brands executive chairman statement strategic report business model strategy principal risks business review financial review property stores review corporate social responsibility jd foundation section statement governance board directors report corporate governance report audit committee report directors remuneration report financial statements statement directors responsibilities independent auditor report consolidated income statement consolidated statement comprehensive income consolidated statement financial position consolidated statement changes equity consolidated statement cash flows notes consolidated financial statements company balance sheet company statement changes equity notes company financial statements group information financial calendar shareholder information five year record alternative performance measures', 'nycnew store', 'highlights throughout annual report indicates first instance term defined explained alternative performance measures page', 'exceptional items disclosed note financial statements', 'final dividend withheld cash preserved due covid outbreak', '', '', '', '']\n",
      "\n",
      "Data type: <class 'list'>\n"
     ]
    }
   ],
   "source": [
    "# print the standardized sentences summary of 2021 annual report\n",
    "print(f\"Total number of standardized sentences of 2021: {len(jd_standsent_2021)}\")\n",
    "print(\"\\nPrint the first 10 standardized sentences from JD Sports annual reprots: \")\n",
    "print(jd_standsent_2021[:10])\n",
    "print(f\"\\nData type: {type(jd_standsent_2021)}\")"
   ]
  },
  {
   "cell_type": "markdown",
   "id": "fa2b12d3-9c9f-4124-83d1-d0660da6a7aa",
   "metadata": {},
   "source": [
    "Next, it will combine all standardised sentences together as a list."
   ]
  },
  {
   "cell_type": "code",
   "execution_count": 141,
   "id": "3805da8b-da44-4711-9195-07c5b7184cb4",
   "metadata": {},
   "outputs": [
    {
     "name": "stdout",
     "output_type": "stream",
     "text": [
      "Total number of all standardised sentences: 43655\n",
      "\n",
      "The first 10 JD Sports standardised sentences:\n",
      "['jd sports fashion plc annual report accounts years ofstyle', 'strategic report statement board interim non executive chair statement investment proposition business model strategy strategy action principal risks business financial review alternative performance measures property stores review environmental overview governance environmental tcfd environmental climate change environmental sector emissions data environmental sustainability social ethical sourcing social people social health safety social jd foundation social global empowerment governance section statement governance stakeholder engagement governance board directors directors report corporate governance report nominations committee report audit risk committee report directors remuneration report financial statements statement directors responsibilities independent auditor report consolidated income statement consolidated statement comprehensive income consolidated statement financial position consolidated statement changes equity consolidated statement cash flows notes consolidated financial statements company balance sheet company statement changes equity notes company financial statements group information financial calendar shareholder information five year record acquisitions completed financial year including dtlr usour purpose group purpose leading international multichannel retailer sports fashion outdoor brands core values connecting consumers continual investment store portfolio nurturing global branded supplier relationships improving sustainability financial performance', 'culture values entrepreneurial group strong track record revenue growth profit optimisation international expansion', 'maintain ultimate flexibility business model enables us capitalise fast pace consumer trends', 'competitive brand ethos innovation creativity competitiveness', 'respect member team everyone encouraged put forward ideas regardless big small dynamic thinking drives business competitive', 'committed group committed protecting long term interests shareholders whilst balancing promoting interests key stakeholders including colleagues suppliers', 'team oriented people integral success heartbeat business', 'deliver daily basis enable group meet exceed expectations', 'problems solved opportunities seized people working together levels organisation']\n",
      "\n",
      "Data type: <class 'list'>\n"
     ]
    }
   ],
   "source": [
    "# Combine all standardised sentence into a list\n",
    "jd_standsent_all = (\n",
    "    jd_standsent_2022 +\n",
    "    jd_standsent_2021 +\n",
    "    jd_standsent_2020 +\n",
    "    jd_standsent_2019 +\n",
    "    jd_standsent_2018 +\n",
    "    jd_standsent_2017 +\n",
    "    jd_standsent_2016 +\n",
    "    jd_standsent_2015 +\n",
    "    jd_standsent_2014 +\n",
    "    jd_standsent_2013 +\n",
    "    jd_standsent_2012\n",
    ")\n",
    "\n",
    "print(f'Total number of all standardised sentences: {len(jd_standsent_all)}')\n",
    "print('\\nThe first 10 JD Sports standardised sentences:')\n",
    "print(jd_standsent_all[:10])\n",
    "print(f\"\\nData type: {type(jd_standsent_all)}\")"
   ]
  },
  {
   "cell_type": "markdown",
   "id": "aac14615-5c4d-4991-8afe-4ca2cf7ca354",
   "metadata": {
    "tags": []
   },
   "source": [
    "## B21. Inchcape"
   ]
  },
  {
   "cell_type": "markdown",
   "id": "c914081c-3f1c-4acb-9bbe-5d43de4768bb",
   "metadata": {},
   "source": [
    "2014 annual reports is not available online."
   ]
  },
  {
   "cell_type": "code",
   "execution_count": 142,
   "id": "75efc006-ba96-4b38-9349-64e9b545491a",
   "metadata": {},
   "outputs": [],
   "source": [
    "# Setting the path of annual reports from 2012 to 2022\n",
    "inch_2022_path = \"AR/inchcape/inch-ar2022.pdf\"\n",
    "inch_2021_path = \"AR/inchcape/inch-ar2021.pdf\"\n",
    "inch_2020_path = \"AR/inchcape/inch-ar2020.pdf\"\n",
    "inch_2019_path = \"AR/inchcape/inch-ar2019.pdf\"\n",
    "inch_2018_path = \"AR/inchcape/inch-ar2018.pdf\"\n",
    "inch_2017_path = \"AR/inchcape/inch-ar2017.pdf\"\n",
    "inch_2016_path = \"AR/inchcape/inch-ar2016.pdf\"\n",
    "inch_2015_path = \"AR/inchcape/inch-ar2015.pdf\"\n",
    "inch_2013_path = \"AR/inchcape/inch-ar2013.pdf\"\n",
    "inch_2012_path = \"AR/inchcape/inch-ar2012.pdf\""
   ]
  },
  {
   "cell_type": "code",
   "execution_count": 143,
   "id": "0f463465-dea2-42be-804a-e16cd960dbc4",
   "metadata": {},
   "outputs": [],
   "source": [
    "# Extract text from annual report\n",
    "inch_sen_2022 = extract_pdf_text(inch_2022_path)\n",
    "inch_sen_2021 = extract_pdf_text(inch_2021_path)\n",
    "inch_sen_2020 = extract_pdf_text(inch_2020_path)\n",
    "inch_sen_2019 = extract_pdf_text(inch_2019_path)\n",
    "inch_sen_2018 = extract_pdf_text(inch_2018_path)\n",
    "inch_sen_2017 = extract_pdf_text(inch_2017_path)\n",
    "inch_sen_2016 = extract_pdf_text(inch_2016_path)\n",
    "inch_sen_2015 = extract_pdf_text(inch_2015_path)\n",
    "inch_sen_2013 = extract_pdf_text(inch_2013_path)\n",
    "inch_sen_2012 = extract_pdf_text(inch_2012_path)\n"
   ]
  },
  {
   "cell_type": "markdown",
   "id": "c69bed46-481b-41f4-86a9-82336a02e8c1",
   "metadata": {},
   "source": [
    "Print the sentences from the annual report from 2021."
   ]
  },
  {
   "cell_type": "code",
   "execution_count": 144,
   "id": "b2a3263a-ac0b-4060-a2f8-6d0b26081519",
   "metadata": {},
   "outputs": [
    {
     "name": "stdout",
     "output_type": "stream",
     "text": [
      "Total number of sentences of 2021: 7391\n",
      "\n",
      "Print the first 10 sentences from Inchcape annual reports: \n",
      "['INCHCAPE ANNUAL REPORT AND ACCOUNTS 2021ANNUAL REPORT AND ACCOUNTS 2021Note: Spine set to 12', '5mm', 'Please adjust if necessary', 'INCHCAPE IS ON AN AMBITIOUS GROWTH JOURNEY As the leading automotive distributor in a highly fragmented global market, we have developed a ‘plug-and-play’ distribution platform and built our digital and data capability to create a significant competitive advantage', 'We are also uniquely positioned to capture more of a vehicle’s lifetime value', 'Our commitment to return shareholder value through organic growth, consolidation and cash returns will be delivered by our Accelerate strategy and is underpinned by our Responsible Business framework, ‘Driving What Matters’', 'STRATEGIC REPORT 2 Our business model 4 Our strategy 6 Chairman’s welcome 8 Chief Executive’s review 12 Facing into the future 14 Acquisition progress 16 Stakeholder engagement 20 Key performance indicators 22 Investment case 24 Operating and financial review 33 Responsible Business 40 Task Force on Climate-related Financial Disclosures 46 Non-financial information statement 48 Risk management GOVERNANCE 60 Chairman’s statement 68 Governance at a glance 70 Board of Directors 72 Corporate Governance Report 75 Nomination Committee Report 77 Audit Committee Report 82 CSR Committee Report 84 Director’s Report on Remuneration 104 Directors’ ReportFINANCIAL STATEMENTS 110 Independent auditor’s report to the members of Inchcape plc 120 Consolidated income statement 121 Consolidated statement of comprehensive income 122 Consolidated statement of financial position 123 Consolidated statement of changes in equity 124 Consolidated statement of cash flows 125 Accounting policies 136 Notes to the financial statements 186 Alternative performance measures 188 Five year record 189 Company statement of financial position 190 Company statement of changes in equity 191 Accounting policies 194 Notes to the Company financial statements OTHER INFORMATION 206 Shareholder information', 'HIGHLIGHTS Revenue £ 7', '6bn 2020: £6', '8bn Free cash flow1 £289 m 2020: £177m Return on capital employed1 30% 2020: 12% Dividend per share 22']\n",
      "\n",
      "Data type: <class 'list'>\n"
     ]
    }
   ],
   "source": [
    "# print the sentences summary of 2021 annual report\n",
    "print(f\"Total number of sentences of 2021: {len(inch_sen_2021)}\")\n",
    "print(\"\\nPrint the first 10 sentences from Inchcape annual reports: \")\n",
    "print(inch_sen_2021[:10])\n",
    "print(f\"\\nData type: {type(inch_sen_2021)}\")"
   ]
  },
  {
   "cell_type": "markdown",
   "id": "58a3c84e-bbd5-4fd7-bb98-c888e365b632",
   "metadata": {},
   "source": [
    "Second, it will standardise the sentences for each annual reports."
   ]
  },
  {
   "cell_type": "code",
   "execution_count": 145,
   "id": "874dd8eb-ddd1-4141-99e6-6b109dbc3221",
   "metadata": {},
   "outputs": [],
   "source": [
    "# Standardise all sentences from all annual reports\n",
    "inch_standsent_2022 = standardize_sentences(inch_sen_2022)\n",
    "inch_standsent_2021 = standardize_sentences(inch_sen_2021)\n",
    "inch_standsent_2020 = standardize_sentences(inch_sen_2020)\n",
    "inch_standsent_2019 = standardize_sentences(inch_sen_2019)\n",
    "inch_standsent_2018 = standardize_sentences(inch_sen_2018)\n",
    "inch_standsent_2017 = standardize_sentences(inch_sen_2017)\n",
    "inch_standsent_2016 = standardize_sentences(inch_sen_2016)\n",
    "inch_standsent_2015 = standardize_sentences(inch_sen_2015)\n",
    "inch_standsent_2013 = standardize_sentences(inch_sen_2013)\n",
    "inch_standsent_2012 = standardize_sentences(inch_sen_2012)"
   ]
  },
  {
   "cell_type": "markdown",
   "id": "c6769df5-859d-4024-b648-76edbb317ea7",
   "metadata": {},
   "source": [
    "Print the short summary of standardised sentences of 2021 annual reports."
   ]
  },
  {
   "cell_type": "code",
   "execution_count": 146,
   "id": "182abce6-efad-414e-b5d2-2b5ee485f7a6",
   "metadata": {},
   "outputs": [
    {
     "name": "stdout",
     "output_type": "stream",
     "text": [
      "Total number of standardized sentences of 2021: 7391\n",
      "\n",
      "Print the first 10 standardized sentences from Inchcape annual reprots: \n",
      "['inchcape annual report accounts annual report accounts note spine set', 'mm', 'please adjust necessary', 'inchcape ambitious growth journey leading automotive distributor highly fragmented global market developed plug play distribution platform built digital data capability create significant competitive advantage', 'also uniquely positioned capture vehicle lifetime value', 'commitment return shareholder value organic growth consolidation cash returns delivered accelerate strategy underpinned responsible business framework driving matters', 'strategic report business model strategy chairman welcome chief executive review facing future acquisition progress stakeholder engagement key performance indicators investment case operating financial review responsible business task force climate related financial disclosures non financial information statement risk management governance chairman statement governance glance board directors corporate governance report nomination committee report audit committee report csr committee report director report remuneration directors reportfinancial statements independent auditor report members inchcape plc consolidated income statement consolidated statement comprehensive income consolidated statement financial position consolidated statement changes equity consolidated statement cash flows accounting policies notes financial statements alternative performance measures five year record company statement financial position company statement changes equity accounting policies notes company financial statements information shareholder information', 'highlights revenue', 'bn', 'bn free cash flow return capital employed dividend per share']\n",
      "\n",
      "Data type: <class 'list'>\n"
     ]
    }
   ],
   "source": [
    "# print the standardized sentences summary of 2021 annual report\n",
    "print(f\"Total number of standardized sentences of 2021: {len(inch_standsent_2021)}\")\n",
    "print(\"\\nPrint the first 10 standardized sentences from Inchcape annual reprots: \")\n",
    "print(inch_standsent_2021[:10])\n",
    "print(f\"\\nData type: {type(inch_standsent_2021)}\")"
   ]
  },
  {
   "cell_type": "markdown",
   "id": "93ee0f1e-1545-45a7-ae60-d43d4df83ba3",
   "metadata": {},
   "source": [
    "Next, it will combine all standardised sentences together as a list."
   ]
  },
  {
   "cell_type": "code",
   "execution_count": 147,
   "id": "f2004fa6-b430-49ba-88bf-b65e0fdf449f",
   "metadata": {},
   "outputs": [
    {
     "name": "stdout",
     "output_type": "stream",
     "text": [
      "Total number of all standardised sentences: 67233\n",
      "\n",
      "The first 10 Inchcape standardised sentences:\n",
      "['ipl annual report', 'incitec pivot limited annual report incitec pivot limited annual report incitec pivot limited abn level freshwater place southbank victoria australia telephone facsimile www', 'incitecpivot', 'com', 'au', 'incitec pivot limited annual report us key operations ipl strategy snapshot performance outlook year review chairman report managing director ceo report operating financial review sustainable business zero harm number one company value people sustainability overview climate change caring communities governance corporate governance board directors executive team financial statutory reports directors report remuneration report financial report independent auditor report additional information shareholder information five year financial statistics glossary corporate directory contents', 'incitec pivot limited annual report', 'us ipl leading technology supplier resources agricultural sectors committed helping create sustainable decarbonised world', 'incitec pivot limited annual report', 'incitec pivot limited annual report ormstown augusta maine drilling blasting simsbury new galilee wampum hardware grundy vedco waggaman santiagocoquimbocalamarainy river cheyenne calgary st helens salt lake city wesco littleton buckley powder carthage dinamita gomez palacio louisianawolf lake graham chilemexicousacanadadyno nobel corporate ce manufacturing distribution emulsions initiation systems ammonium nitrate explosive services joint ventures investmentsincitec pivot limited company headquartersincitec pivot fertilisers corporate ce manufacturing distribution industrial chemicals agricultural products feedstock fertiliser services joint ventures investments lihir moranbah blackwater curragh moura queensland nitrates qnp noumea katiramona explosif sas nord sud dynamitage f iter geelong melbourne australian bio fert mt isa phosphate hillsoma kayseriamailloux ankara toka tindungvongespontailler jakartamartabe singapore perthpretoria detnet enviro blasting services johannesburg sasol dyno nobel berau tujuh bukitdakar doualacotonouulaanbaatar titanobel mongolia australiaturkey singapore indonesiapapua new guinea new caledonia south africasenegal cameroonbeninmongoliafrance gibson island helidon hunter valleykey operations operations across continents million tonnes ammonium nitrate sold']\n",
      "\n",
      "Data type: <class 'list'>\n"
     ]
    }
   ],
   "source": [
    "# Combine all standardised sentence into a list\n",
    "inch_standsent_all = (\n",
    "    inch_standsent_2022 +\n",
    "    inch_standsent_2021 +\n",
    "    inch_standsent_2020 +\n",
    "    inch_standsent_2019 +\n",
    "    inch_standsent_2018 +\n",
    "    inch_standsent_2017 +\n",
    "    inch_standsent_2016 +\n",
    "    inch_standsent_2015 +\n",
    "    inch_standsent_2013 +\n",
    "    inch_standsent_2012\n",
    ")\n",
    "\n",
    "print(f'Total number of all standardised sentences: {len(inch_standsent_all)}')\n",
    "print('\\nThe first 10 Inchcape standardised sentences:')\n",
    "print(inch_standsent_all[:10])\n",
    "print(f\"\\nData type: {type(inch_standsent_all)}\")"
   ]
  },
  {
   "cell_type": "markdown",
   "id": "abaffe30-c417-428a-ac06-bc2151d4ebd5",
   "metadata": {
    "tags": []
   },
   "source": [
    "## B22. Lookers plc \n"
   ]
  },
  {
   "cell_type": "code",
   "execution_count": 148,
   "id": "80cca119-424e-4b4f-9903-3d3d496b0069",
   "metadata": {},
   "outputs": [],
   "source": [
    "# Setting the path of annual reports from 2012 to 2022\n",
    "look_2012to2022_path = \"AR/lookers/look-ar2012-2022.pdf\"\n"
   ]
  },
  {
   "cell_type": "code",
   "execution_count": 149,
   "id": "03c0c80f-3a8e-46da-beef-83fcbb900ed9",
   "metadata": {},
   "outputs": [],
   "source": [
    "# Extract text from annual report\n",
    "look_sen_2012to2022 = extract_pdf_text(look_2012to2022_path)\n"
   ]
  },
  {
   "cell_type": "markdown",
   "id": "8ff997e6-315a-4f3f-9b3e-d322a001c54b",
   "metadata": {},
   "source": [
    "Print the sentences from the annual report from 2021."
   ]
  },
  {
   "cell_type": "code",
   "execution_count": 150,
   "id": "45fe909e-0f81-422e-bf11-43fa0c7d0d62",
   "metadata": {},
   "outputs": [
    {
     "name": "stdout",
     "output_type": "stream",
     "text": [
      "Total number of sentences of 2021: 51730\n",
      "\n",
      "Print the first 10 sentences from Lookers annual reports: \n",
      "['Annual Report & Accounts 31st December 2012', 'Lookers plc Registered Ofﬁce: 776 Chester Road, Stretford, Manchester, M32 0QH', 'Registered Number: 111876Lomond Audi – Glasgow Group Net Assets 5 year history£204m £197m £182m £160m £83m2012 2011 2010 2009 2008 £ million2012 2011 2010 2009 2008', 'Lookers plc Annual Report & A ccounts 2012 1CONTENTS2012 REVIEW“ Together we will strive to be an outstanding company achieving customers for life', '” COMPANY MISSION STATEMENT FINANCIAL CALENDAR 6 March 2013 Announcement of the results for the full year 30 May 2013 Annual General MeetingFinancial Highlights', '02 Chairman’s Review', '05 Chief Executive’s Review', '09 Finance Director’s Review', '17 Board of Directors', '20 Directors’ Report']\n",
      "\n",
      "Data type: <class 'list'>\n"
     ]
    }
   ],
   "source": [
    "# print the sentences summary of annual report\n",
    "print(f\"Total number of sentences of 2021: {len(look_sen_2012to2022)}\")\n",
    "print(\"\\nPrint the first 10 sentences from Lookers annual reports: \")\n",
    "print(look_sen_2012to2022[:10])\n",
    "print(f\"\\nData type: {type(look_sen_2012to2022)}\")"
   ]
  },
  {
   "cell_type": "markdown",
   "id": "e1accc03-41a6-4094-acb1-b8eac3a05fbb",
   "metadata": {},
   "source": [
    "Second, it will standardise the sentences for each annual reports."
   ]
  },
  {
   "cell_type": "code",
   "execution_count": 151,
   "id": "b25db2fa-72da-4b6c-913c-36dda043f246",
   "metadata": {},
   "outputs": [],
   "source": [
    "# Standardise all sentences from all annual reports\n",
    "look_standsent_all = standardize_sentences(look_sen_2012to2022)\n"
   ]
  },
  {
   "cell_type": "markdown",
   "id": "fa278fdd-cd89-4a22-a703-a0437fbd891e",
   "metadata": {},
   "source": [
    "Print the short summary of standardised sentences of 2021 annual reports."
   ]
  },
  {
   "cell_type": "code",
   "execution_count": 152,
   "id": "aae4ece5-d5d3-4d89-bb8d-8a078513390b",
   "metadata": {},
   "outputs": [
    {
     "name": "stdout",
     "output_type": "stream",
     "text": [
      "Total number of standardized sentences of 2021: 51730\n",
      "\n",
      "Print the first 10 standardized sentences from Lookers annual reprots: \n",
      "['annual report accounts st december', 'lookers plc registered ce chester road stretford manchester qh', 'registered number lomond audi glasgow group net assets year history million', 'lookers plc annual report ccounts contents review together strive outstanding company achieving customers life', 'company mission statement financial calendar march announcement results full year may annual general meetingfinancial highlights', 'chairman review', 'chief executive review', 'finance director review', 'board directors', 'directors report']\n",
      "\n",
      "Data type: <class 'list'>\n"
     ]
    }
   ],
   "source": [
    "# print the standardized sentences summary of annual report\n",
    "print(f\"Total number of standardized sentences of 2021: {len(look_standsent_all)}\")\n",
    "print(\"\\nPrint the first 10 standardized sentences from Lookers annual reprots: \")\n",
    "print(look_standsent_all[:10])\n",
    "print(f\"\\nData type: {type(look_standsent_all)}\")"
   ]
  },
  {
   "cell_type": "markdown",
   "id": "49d1f20f-6aaa-4dd1-b174-5cf972f0b3fd",
   "metadata": {
    "tags": []
   },
   "source": [
    "## B23. McColl's"
   ]
  },
  {
   "cell_type": "markdown",
   "id": "e75b86dc-b2ec-47c9-8ffc-8dab14e9d5b8",
   "metadata": {},
   "source": [
    "Annual reports only available from 2012 to 2020."
   ]
  },
  {
   "cell_type": "code",
   "execution_count": 153,
   "id": "de2bae96-90b9-477a-8b9c-573954966231",
   "metadata": {},
   "outputs": [],
   "source": [
    "# Setting the path of annual reports from 2012 to 2022\n",
    "mcls_2012to2022_path = \"AR/mccoll/mcls-ar2012-2020.pdf\"\n"
   ]
  },
  {
   "cell_type": "code",
   "execution_count": 154,
   "id": "cb67a268-0c2c-4a3d-a035-b2b6ad481d2c",
   "metadata": {},
   "outputs": [],
   "source": [
    "# Extract text from annual report\n",
    "mcls_sen_2012to2022 = extract_pdf_text(mcls_2012to2022_path)\n"
   ]
  },
  {
   "cell_type": "markdown",
   "id": "377a3e0d-a530-4592-81b2-f50de227d97b",
   "metadata": {},
   "source": [
    "Print the sentences from the annual report from 2021."
   ]
  },
  {
   "cell_type": "code",
   "execution_count": 155,
   "id": "523ebff5-970e-445c-b728-bc004a6b43f1",
   "metadata": {},
   "outputs": [
    {
     "name": "stdout",
     "output_type": "stream",
     "text": [
      "Total number of sentences of 2021: 20154\n",
      "\n",
      "Print the first 10 sentences from McColl's annual reports: \n",
      "['McColl’s Retail Group plc Annual Report and Accounts 2020Your favourite neighbourhood shop', 'Contents Strategic report IFC Financial KPIs 1 2020 highlights 2 Chairman’s statement 4 Where we operate 6 What we offer 8 Chief Executive’s review 20 Marketplace 24 Our business model 26 Resources and relationships 30 Our key performance indicators 31 Financial review 35 Our approach to stakeholders 36 Non-ﬁnancial information statement 37 Sustainability review 42 Principal risks 48 Viability Statement Governance 49 Chairman’s introduction 50 Leadership and Company purpose 54 Division of responsibilities 56 Composition, succession and evaluation 60 Audit, Risk and Internal control 64 Remuneration 84 Directors’ report 89 Directors’ responsibilities statement Financial statements 90 Independent Auditor’s report to the members of McColl’s Retail Group plc 97 Consolidated income statement 97 Consolidated statement of comprehensive income 98 Consolidated statement of ﬁnancial position 99 Consolidated statement of changes in equity 100 Consolidated statement of cash ﬂows 101 Notes to the ﬁnancial statements 130 Company balance sheet 130 Company statement of equity 131 Notes to the Company ﬁnancial statements 135 Glossary of terms IBC Contacts, addresses and shareholder informationFinancial KPIs 34', '3 %Grocery & Alcohol Mix2 +270bp 2019 23', '9 %Gross proﬁt margin –200bp 2019 0', '6 pAdjusted earnings per share -89', '3% 201912', '0 %Like-for-like sales1 +12ppt 2019 £29', '1 mAdjusted EBITDA3 –9', '3% 2019 £7', '61Average basket size +21']\n",
      "\n",
      "Data type: <class 'list'>\n"
     ]
    }
   ],
   "source": [
    "# print the sentences summary of annual report\n",
    "print(f\"Total number of sentences of 2021: {len(mcls_sen_2012to2022)}\")\n",
    "print(\"\\nPrint the first 10 sentences from McColl's annual reports: \")\n",
    "print(mcls_sen_2012to2022[:10])\n",
    "print(f\"\\nData type: {type(mcls_sen_2012to2022)}\")"
   ]
  },
  {
   "cell_type": "markdown",
   "id": "f900942e-07ee-4000-a8d6-6ae1ebc66c95",
   "metadata": {},
   "source": [
    "Second, it will standardise the sentences for each annual reports."
   ]
  },
  {
   "cell_type": "code",
   "execution_count": 156,
   "id": "647bc35d-ca0a-4088-b27e-19d8d440366f",
   "metadata": {},
   "outputs": [],
   "source": [
    "# Standardise all sentences from all annual reports\n",
    "mcls_standsent_all = standardize_sentences(mcls_sen_2012to2022)\n"
   ]
  },
  {
   "cell_type": "markdown",
   "id": "10634ea6-599e-48d7-96a1-994cf5552b34",
   "metadata": {},
   "source": [
    "Print the short summary of standardised sentences of 2021 annual reports."
   ]
  },
  {
   "cell_type": "code",
   "execution_count": 157,
   "id": "c5e841b9-04f0-4b50-a414-c7f1b52315f5",
   "metadata": {},
   "outputs": [
    {
     "name": "stdout",
     "output_type": "stream",
     "text": [
      "Total number of standardized sentences of 2021: 20154\n",
      "\n",
      "Print the first 10 standardized sentences from McColl's annual reprots: \n",
      "['mccoll retail group plc annual report accounts favourite neighbourhood shop', 'contents strategic report ifc financial kpis highlights chairman statement operate offer chief executive review marketplace business model resources relationships key performance indicators financial review approach stakeholders non nancial information statement sustainability review principal risks viability statement governance chairman introduction leadership company purpose division responsibilities composition succession evaluation audit risk internal control remuneration directors report directors responsibilities statement financial statements independent auditor report members mccoll retail group plc consolidated income statement consolidated statement comprehensive income consolidated statement nancial position consolidated statement changes equity consolidated statement cash ows notes nancial statements company balance sheet company statement equity notes company nancial statements glossary terms ibc contacts addresses shareholder informationfinancial kpis', 'grocery alcohol mix bp', 'gross pro margin bp', 'padjusted earnings per share', '', 'like like sales ppt', 'madjusted ebitda', '', 'average basket size']\n",
      "\n",
      "Data type: <class 'list'>\n"
     ]
    }
   ],
   "source": [
    "# print the standardized sentences summary of annual report\n",
    "print(f\"Total number of standardized sentences of 2021: {len(mcls_standsent_all)}\")\n",
    "print(\"\\nPrint the first 10 standardized sentences from McColl's annual reprots: \")\n",
    "print(mcls_standsent_all[:10])\n",
    "print(f\"\\nData type: {type(mcls_standsent_all)}\")"
   ]
  },
  {
   "cell_type": "markdown",
   "id": "ac227bf2-ef70-46ce-a50f-8ec2549836af",
   "metadata": {
    "tags": []
   },
   "source": [
    "## B24. Pets at Home Group"
   ]
  },
  {
   "cell_type": "markdown",
   "id": "14e72adc-f5f3-44e6-b20a-8941aa33dca5",
   "metadata": {},
   "source": [
    "Annual reports only available from 2014 to 2022."
   ]
  },
  {
   "cell_type": "code",
   "execution_count": 158,
   "id": "5dd5c90f-166b-4494-b739-13ed892f6895",
   "metadata": {},
   "outputs": [],
   "source": [
    "# Setting the path of annual reports from 2014 to 2022\n",
    "pets_2012to2022_path = \"AR/pets_at_home/pets-ar2014-2022.pdf\"\n"
   ]
  },
  {
   "cell_type": "code",
   "execution_count": 159,
   "id": "4ae97cf6-8b46-4769-9a28-6c113fd87c9c",
   "metadata": {},
   "outputs": [],
   "source": [
    "# Extract text from annual report\n",
    "pets_sen_2012to2022 = extract_pdf_text(pets_2012to2022_path)\n"
   ]
  },
  {
   "cell_type": "markdown",
   "id": "c87cb86c-a96f-4e54-b467-78b2bdc977ea",
   "metadata": {},
   "source": [
    "Print the sentences from the annual report from 2021."
   ]
  },
  {
   "cell_type": "code",
   "execution_count": 160,
   "id": "4b4c7418-ff30-402b-8113-9f2071ef2a7c",
   "metadata": {},
   "outputs": [
    {
     "name": "stdout",
     "output_type": "stream",
     "text": [
      "Total number of sentences of 2021: 40359\n",
      "\n",
      "Print the first 10 sentences from Pets at Home annual reports: \n",
      "['Annual Report & Accounts 2023Creating a be/t_ter world for pets and the people who love them', 'What we do We provide the best products, services and advice to guide pet owners through their pet care journey Our unique proposition of products, services and advice allows us to deliver complete pet care to consumers in a way competitors cannot easily replicate, and enables us to continue to take share across both our key markets of retail and veterinary', 'For more information please visit: https:/ /investors', 'petsathome', 'comPets at Home Group Plc Annual Report & Accounts 2023', '01Strategic Report Governance Financial Statements £1,404', '2 m £136', '4 m£122', '5 m 12', '8 p+6']\n",
      "\n",
      "Data type: <class 'list'>\n"
     ]
    }
   ],
   "source": [
    "# print the sentences summary of annual report\n",
    "print(f\"Total number of sentences of 2021: {len(pets_sen_2012to2022)}\")\n",
    "print(\"\\nPrint the first 10 sentences from Pets at Home annual reports: \")\n",
    "print(pets_sen_2012to2022[:10])\n",
    "print(f\"\\nData type: {type(pets_sen_2012to2022)}\")"
   ]
  },
  {
   "cell_type": "markdown",
   "id": "2dbd0d2f-2820-42c0-8a26-60daf55da6b9",
   "metadata": {},
   "source": [
    "Second, it will standardise the sentences for each annual reports."
   ]
  },
  {
   "cell_type": "code",
   "execution_count": 161,
   "id": "fcb28943-27bb-4c52-b1ac-06b2de1ac18d",
   "metadata": {},
   "outputs": [],
   "source": [
    "# Standardise all sentences from all annual reports\n",
    "pets_standsent_all = standardize_sentences(pets_sen_2012to2022)\n"
   ]
  },
  {
   "cell_type": "markdown",
   "id": "e0c0390e-281d-4ca7-82a1-59ad02f0f2aa",
   "metadata": {},
   "source": [
    "Print the short summary of standardised sentences of 2021 annual reports."
   ]
  },
  {
   "cell_type": "code",
   "execution_count": 162,
   "id": "f427109d-e0db-45c1-9c39-badccfab0f2b",
   "metadata": {},
   "outputs": [
    {
     "name": "stdout",
     "output_type": "stream",
     "text": [
      "Total number of standardized sentences of 2021: 40359\n",
      "\n",
      "Print the first 10 standardized sentences from Pets at Home annual reprots: \n",
      "['annual report accounts creating ter world pets people love', 'provide best products services advice guide pet owners pet care journey unique proposition products services advice allows us deliver complete pet care consumers way competitors cannot easily replicate enables us continue take share across key markets retail veterinary', 'information please visit https investors', 'petsathome', 'compets home group plc annual report accounts', 'strategic report governance financial statements', '', '', '', 'p']\n",
      "\n",
      "Data type: <class 'list'>\n"
     ]
    }
   ],
   "source": [
    "# print the standardized sentences summary of annual report\n",
    "print(f\"Total number of standardized sentences of 2021: {len(pets_standsent_all)}\")\n",
    "print(\"\\nPrint the first 10 standardized sentences from Pets at Home annual reprots: \")\n",
    "print(pets_standsent_all[:10])\n",
    "print(f\"\\nData type: {type(pets_standsent_all)}\")"
   ]
  },
  {
   "cell_type": "markdown",
   "id": "acc8ee01-a988-40c1-8ea2-44044d4e931e",
   "metadata": {
    "tags": []
   },
   "source": [
    "## B25. SCS Group Plc"
   ]
  },
  {
   "cell_type": "markdown",
   "id": "2459ea55-5dee-4852-b00e-8743bcc55cf2",
   "metadata": {},
   "source": [
    "Annual reprots are available online from 2015 to 2022."
   ]
  },
  {
   "cell_type": "code",
   "execution_count": 163,
   "id": "ae456096-8075-48a8-9dbd-24a27d1043ef",
   "metadata": {},
   "outputs": [],
   "source": [
    "# Setting the path of annual reports from 2015 to 2022\n",
    "scs_2012to2022_path = \"AR/scs/scs-ar2015-2022.pdf\"\n"
   ]
  },
  {
   "cell_type": "code",
   "execution_count": 164,
   "id": "f9db61df-8cf3-4da2-bb4e-2ec2e8fb52ca",
   "metadata": {},
   "outputs": [],
   "source": [
    "# Extract text from annual report\n",
    "scs_sen_2012to2022 = extract_pdf_text(scs_2012to2022_path)\n"
   ]
  },
  {
   "cell_type": "markdown",
   "id": "fd6cef45-723f-4d16-8c64-2c47c6d585e4",
   "metadata": {},
   "source": [
    "Print the sentences from the annual report from 2021."
   ]
  },
  {
   "cell_type": "code",
   "execution_count": 165,
   "id": "4fbe253b-ccc0-44c7-b11e-97c7ef846244",
   "metadata": {},
   "outputs": [
    {
     "name": "stdout",
     "output_type": "stream",
     "text": [
      "Total number of sentences of 2021: 19541\n",
      "\n",
      "Print the first 10 sentences from SCS Group annual reports: \n",
      "['The Sofa Carpet Specialist Annual Report 2015 Sofa Carpet Specialist ScS Group plc Annual Report 2015', 'See our website for more information www', 'scsplc', 'co', 'uk The Sofa Carpet Specialist ScS is one of the UK’s leading furniture and flooring retailers, operating from 96 stores', 'Principally located in modern retail park locations and 30 House of Fraser concessions across the country – as far north as Dundee and as far south as Plymouth, offering a focused range of upholstered furniture and floorcoverings', 'ScS has over 100 years of furniture retailing experience and our specialist staff are highly trained in their fields so that we can offer our customers the best service when they choose new sofas and flooring for their homes', '1 ScS Group plc Annual Report 2015Strategic Report Corporate Governance Financial Statements Gross sales up 13', '2% to £292', '2 million (2014: £258']\n",
      "\n",
      "Data type: <class 'list'>\n"
     ]
    }
   ],
   "source": [
    "# print the sentences summary of annual report\n",
    "print(f\"Total number of sentences of 2021: {len(scs_sen_2012to2022)}\")\n",
    "print(\"\\nPrint the first 10 sentences from SCS Group annual reports: \")\n",
    "print(scs_sen_2012to2022[:10])\n",
    "print(f\"\\nData type: {type(scs_sen_2012to2022)}\")"
   ]
  },
  {
   "cell_type": "markdown",
   "id": "c99d9ef8-900b-425d-b1a3-4e5cd02b3ff3",
   "metadata": {},
   "source": [
    "Second, it will standardise the sentences for each annual reports."
   ]
  },
  {
   "cell_type": "code",
   "execution_count": 166,
   "id": "4b5b76bf-c797-4f6b-99af-4454e18fe260",
   "metadata": {},
   "outputs": [],
   "source": [
    "# Standardise all sentences from all annual reports\n",
    "scs_standsent_all = standardize_sentences(scs_sen_2012to2022)\n"
   ]
  },
  {
   "cell_type": "markdown",
   "id": "4906819c-57e6-4425-9122-53acac600b2f",
   "metadata": {},
   "source": [
    "Print the short summary of standardised sentences of 2021 annual reports."
   ]
  },
  {
   "cell_type": "code",
   "execution_count": 167,
   "id": "db30637c-b44f-456e-a5ab-11b8a4689dd9",
   "metadata": {},
   "outputs": [
    {
     "name": "stdout",
     "output_type": "stream",
     "text": [
      "Total number of standardized sentences of 2021: 19541\n",
      "\n",
      "Print the first 10 standardized sentences from SCS Group annual reprots: \n",
      "['sofa carpet specialist annual report sofa carpet specialist scs group plc annual report', 'see website information www', 'scsplc', 'co', 'uk sofa carpet specialist scs one uk leading furniture flooring retailers operating stores', 'principally located modern retail park locations house fraser concessions across country far north dundee far south plymouth offering focused range upholstered furniture floorcoverings', 'scs years furniture retailing experience specialist staff highly trained fields offer customers best service choose new sofas flooring homes', 'scs group plc annual report strategic report corporate governance financial statements gross sales', '', 'million']\n",
      "\n",
      "Data type: <class 'list'>\n"
     ]
    }
   ],
   "source": [
    "# print the standardized sentences summary of annual report\n",
    "print(f\"Total number of standardized sentences of 2021: {len(scs_standsent_all)}\")\n",
    "print(\"\\nPrint the first 10 standardized sentences from SCS Group annual reprots: \")\n",
    "print(scs_standsent_all[:10])\n",
    "print(f\"\\nData type: {type(scs_standsent_all)}\")"
   ]
  },
  {
   "cell_type": "markdown",
   "id": "0d79dc46-2b9c-424b-a2f7-ced9924bdfba",
   "metadata": {
    "tags": []
   },
   "source": [
    "## B26. MYSALE Group "
   ]
  },
  {
   "cell_type": "markdown",
   "id": "1d08ca64-4eb9-45da-80ed-1c6b42ab133a",
   "metadata": {},
   "source": [
    "Annual reports are available from 2014 to 2021."
   ]
  },
  {
   "cell_type": "code",
   "execution_count": 168,
   "id": "eba21f40-5069-467b-ba4c-652a294bc5ca",
   "metadata": {},
   "outputs": [],
   "source": [
    "# Setting the path of annual reports from 2014 to 2021\n",
    "mysl_2012to2022_path = \"AR/mysale/mysl-ar2014to2021.pdf\"\n"
   ]
  },
  {
   "cell_type": "code",
   "execution_count": 169,
   "id": "3add8033-6518-48b9-902f-c2f4f2a18649",
   "metadata": {},
   "outputs": [],
   "source": [
    "# Extract text from annual report\n",
    "mysl_sen_2012to2022 = extract_pdf_text(mysl_2012to2022_path)\n"
   ]
  },
  {
   "cell_type": "markdown",
   "id": "62adcfda-d5cd-4b8b-8f4c-0ddde295a11a",
   "metadata": {},
   "source": [
    "Print the sentences from the annual report from 2021."
   ]
  },
  {
   "cell_type": "code",
   "execution_count": 170,
   "id": "6a7625b8-ac6a-4e02-b7bd-05cafcd4f62b",
   "metadata": {},
   "outputs": [
    {
     "name": "stdout",
     "output_type": "stream",
     "text": [
      "Total number of sentences of 2021: 11667\n",
      "\n",
      "Print the first 10 sentences from Mysale Group annual reports: \n",
      "['MySale Group Plc Corporate directory 30 June 2014 1 Directors David Mortimer AO - Independent Non-Executive Chairman Jamie Jackson - Executive Director and Vice Chairman Carl Jackson - Executive Director and Chief Executive Officer Andrew Dingle - Executive Director and Chief Financial Officer Adrian MacKenzie - Independent Non-Executive Director Head office 5/111 Old Pittwater Rd, Brookvale, NSW 2100, Australia Company secretary Prism Cosec Limited, 10 Margaret Street, London, W1W 8RL Registered office Ogier House, The Esplanade, St', 'Helier, JE4 9WG, Jersey Principal place of business United Kingdom: 959 Fulham Rd, London SW6 6HY Australia: 5/111 Old Pittwater Rd, Brookvale, NSW 2100 United States: 1107 S', 'Boyle Avenue, Los Angeles, CA 90023 Auditor PricewaterhouseCoopers,1 Embankment Place, London WC2N 6RH Solicitors United Kingdom: Linklaters LLP, One Silk Street, London, EC2Y 8HQ Australia: Clayton Utz, Level 15, 1 Bligh Street, Sydney, NSW 2000 Jersey: Ogier, Ogier House, The Esplanade, St Helier, Jersey, JE4 9WG Website www', 'mysalegroup', 'com Nominated brokers Macquarie Capital (Europe) Ltd, Level 7, 28 Ropemaker Street, London, EC2Y 9HD Zeus Capital Limited, 23 Berkeley Square, Mayfair, London, W1J 6HE Company registrars Computershare Investor Services (Jersey) Limited Queensway House, Hilgrove Street, St Helier, Jersey JE1 1ES Company number 115584', \"MySale Group Plc Contents 30 June 2014 2 Contents Strategic report 3 Corporate governance 8 Directors' remuneration report 10 Directors' report 13 Directors' responsibility statement 16 Independent auditors' report to the members of MySale Group plc 17 Statement of profit or loss and other comprehensive income 19 Balance sheet 20 Statement of changes in equity 21 Statement of cash flows 22 Notes to the financial statements 23 Parent company balance sheet 63 Notes to the parent company financial statements 64 Notice of Annual General Meeting 70\", 'MySale Group Plc Strategic report 30 June 2014 3 Business review During the financial year ended 30 June 2014 , an internal reorganisation took place in preparation of the admission of the group on the Alternate Investment Market (’ AIM’), a market regulated by London Stock Exchange Plc', 'This resulted in a newly incorporated company, MySale Group Plc (previously known as MySale Group Limited (‘MySale’ or the ‘company’ ), together with its subsidiaries, the ‘group’', 'becoming the legal parent of the group', 'The commentary below is therefore based on the group ’s performance for the entire financial year']\n",
      "\n",
      "Data type: <class 'list'>\n"
     ]
    }
   ],
   "source": [
    "# print the sentences summary of annual report\n",
    "print(f\"Total number of sentences of 2021: {len(mysl_sen_2012to2022)}\")\n",
    "print(\"\\nPrint the first 10 sentences from Mysale Group annual reports: \")\n",
    "print(mysl_sen_2012to2022[:10])\n",
    "print(f\"\\nData type: {type(mysl_sen_2012to2022)}\")"
   ]
  },
  {
   "cell_type": "markdown",
   "id": "b45039e4-8eab-4021-87f2-4d87a124826f",
   "metadata": {},
   "source": [
    "Second, it will standardise the sentences for each annual reports."
   ]
  },
  {
   "cell_type": "code",
   "execution_count": 171,
   "id": "31df715c-4d45-47fa-8c70-b832821f8d95",
   "metadata": {},
   "outputs": [],
   "source": [
    "# Standardise all sentences from all annual reports\n",
    "mysl_standsent_all = standardize_sentences(mysl_sen_2012to2022)\n"
   ]
  },
  {
   "cell_type": "markdown",
   "id": "77797be3-f0e2-4525-a89f-369160a7b461",
   "metadata": {},
   "source": [
    "Print the short summary of standardised sentences of 2021 annual reports."
   ]
  },
  {
   "cell_type": "code",
   "execution_count": 172,
   "id": "616305ad-2a61-4a86-bff2-4ed64af36fc7",
   "metadata": {},
   "outputs": [
    {
     "name": "stdout",
     "output_type": "stream",
     "text": [
      "Total number of standardized sentences of 2021: 11667\n",
      "\n",
      "Print the first 10 standardized sentences from Mysale Group annual reprots: \n",
      "['mysale group plc corporate directory june directors david mortimer ao independent non executive chairman jamie jackson executive director vice chairman carl jackson executive director chief executive officer andrew dingle executive director chief financial officer adrian mackenzie independent non executive director head office old pittwater rd brookvale nsw australia company secretary prism cosec limited margaret street london w w rl registered office ogier house esplanade st', 'helier je wg jersey principal place business united kingdom fulham rd london sw hy australia old pittwater rd brookvale nsw united states', 'boyle avenue los angeles ca auditor pricewaterhousecoopers embankment place london wc n rh solicitors united kingdom linklaters llp one silk street london ec hq australia clayton utz level bligh street sydney nsw jersey ogier ogier house esplanade st helier jersey je wg website www', 'mysalegroup', 'com nominated brokers macquarie capital europe ltd level ropemaker street london ec hd zeus capital limited berkeley square mayfair london w j company registrars computershare investor services jersey limited queensway house hilgrove street st helier jersey je es company number', 'mysale group plc contents june contents strategic report corporate governance directors remuneration report directors report directors responsibility statement independent auditors report members mysale group plc statement profit loss comprehensive income balance sheet statement changes equity statement cash flows notes financial statements parent company balance sheet notes parent company financial statements notice annual general meeting', 'mysale group plc strategic report june business review financial year ended june internal reorganisation took place preparation admission group alternate investment market aim market regulated london stock exchange plc', 'resulted newly incorporated company mysale group plc previously known mysale group limited mysale company together subsidiaries group', 'becoming legal parent group', 'commentary therefore based group performance entire financial year']\n",
      "\n",
      "Data type: <class 'list'>\n"
     ]
    }
   ],
   "source": [
    "# print the standardized sentences summary of annual report\n",
    "print(f\"Total number of standardized sentences of 2021: {len(mysl_standsent_all)}\")\n",
    "print(\"\\nPrint the first 10 standardized sentences from Mysale Group annual reprots: \")\n",
    "print(mysl_standsent_all[:10])\n",
    "print(f\"\\nData type: {type(mysl_standsent_all)}\")"
   ]
  },
  {
   "cell_type": "markdown",
   "id": "5413dde3-83bd-4c0b-848f-926743c98d37",
   "metadata": {
    "tags": []
   },
   "source": [
    "## B27. Card Factory PLC"
   ]
  },
  {
   "cell_type": "markdown",
   "id": "3c1913be-beb7-4ba6-b608-fc83ee9c382f",
   "metadata": {},
   "source": [
    "Annual reports are available from 2015 to 2022."
   ]
  },
  {
   "cell_type": "code",
   "execution_count": 173,
   "id": "62128565-079b-4ccc-968c-854b4cb76f20",
   "metadata": {},
   "outputs": [],
   "source": [
    "# Setting the path of annual reports from 2015 to 2022\n",
    "card_2012to2022_path = \"AR/card_factory/card-ar2015-2022.pdf\"\n"
   ]
  },
  {
   "cell_type": "code",
   "execution_count": 174,
   "id": "6865e742-4cf0-4b47-9df6-61fead2650b0",
   "metadata": {},
   "outputs": [],
   "source": [
    "# Extract text from annual report\n",
    "card_sen_2012to2022 = extract_pdf_text(card_2012to2022_path)\n"
   ]
  },
  {
   "cell_type": "markdown",
   "id": "1560278d-02d6-46b7-aad9-25d4099bba6c",
   "metadata": {},
   "source": [
    "Print the sentences from the annual report from 2021."
   ]
  },
  {
   "cell_type": "code",
   "execution_count": 175,
   "id": "591440dc-b3dc-4939-96b8-92f1161234b7",
   "metadata": {},
   "outputs": [
    {
     "name": "stdout",
     "output_type": "stream",
     "text": [
      "Total number of sentences of 2021: 32229\n",
      "\n",
      "Print the first 10 sentences from Card Factory annual reports: \n",
      "['Celebrate life’s moments Annual Report and Accounts 2022', 'Card Factory sells more greeting cards in the UK than/uni00A0anyone else and is ranked #1 by shoppers on/uni00A0“wide range of cards” and/uni00A0“value for money”', '/uni00B9 Vision: Card Factory aspires to be recognised as the world’s best greeting/uni00A0card retailer: everywhere, and/uni00A0for all occasions, the first choice for/uni00A0greeting/uni00A0cards', 'Mission: Card Factory’s mission is helping people celebrate life moments by making our products affordable and/uni00A0available for everyone', '1 Source: Dynata February 2022', 'Card Factory is the UK’s leading specialist retailer of greeting cards, gifts, wrap and bags', 'Strategic Report 01 FY22 highlights 02 Welcome to Card Factory 04 Investment case 06 Chair’s statement 08 Market overview 10 Business model 12 Chief Executive Officer’s review 16 Our strategy 23 Our stakeholders 32 Chief Financial Officer’s review 38 Risk management 42 ESG strategy 55 Non-financial information statement Governance 56 Board of Directors 58 Chair’s Letter – Corporate Governance 59 Corporate Governance Report 68 Chair’s Letter – Audit & Risk Committee 69 Audit & Risk Committee Report 74 Chair’s Letter – Remuneration Committee 77 Directors’ Remuneration Report 86 Annual Report on Remuneration 98 Chair’s Letter – Nomination Committee 99 Nomination Committee Report 100 Directors’ Report 106 Statement of Directors’ Responsibilities Financial Statements 107 Independent auditor’s report 117 Consolidated income statement 118 Consolidated statement of comprehensive income 119 Consolidated statement of financial position 120 Consolidated statement of changes in equity 121 Consolidated cash flow statement 122 Notes to the financial statements 152 Parent Company statement of financial position 153 Parent Company statement of changes in equity 154 Parent Company cash flow statement 155 Notes to the Parent Company financial statements Company Information 160 Glossary 161 Advisors and Contacts', 'Leverage1 (excluding lease liabilities) 0', '9xOperating Cash Flow (£m) £113', '6mFY22 highlights Financial highlights 01 Card Factory plc Annual Report and Accounts 2022Financial Statements GovernanceStrategic Report (4']\n",
      "\n",
      "Data type: <class 'list'>\n"
     ]
    }
   ],
   "source": [
    "# print the sentences summary of annual report\n",
    "print(f\"Total number of sentences of 2021: {len(card_sen_2012to2022)}\")\n",
    "print(\"\\nPrint the first 10 sentences from Card Factory annual reports: \")\n",
    "print(card_sen_2012to2022[:10])\n",
    "print(f\"\\nData type: {type(card_sen_2012to2022)}\")"
   ]
  },
  {
   "cell_type": "markdown",
   "id": "7f93e796-57bd-46d8-9176-745bbc971ae1",
   "metadata": {},
   "source": [
    "Second, it will standardise the sentences for each annual reports."
   ]
  },
  {
   "cell_type": "code",
   "execution_count": 176,
   "id": "f2900687-a03a-4c95-bd19-7965b40f4063",
   "metadata": {},
   "outputs": [],
   "source": [
    "# Standardise all sentences from all annual reports\n",
    "card_standsent_all = standardize_sentences(card_sen_2012to2022)\n"
   ]
  },
  {
   "cell_type": "markdown",
   "id": "5e1493f2-e22c-4da7-abab-35cebdb83aae",
   "metadata": {},
   "source": [
    "Print the short summary of standardised sentences of 2021 annual reports."
   ]
  },
  {
   "cell_type": "code",
   "execution_count": 177,
   "id": "0d90fa6a-38ea-4e5a-914a-c07c947677c5",
   "metadata": {},
   "outputs": [
    {
     "name": "stdout",
     "output_type": "stream",
     "text": [
      "Total number of standardized sentences of 2021: 32229\n",
      "\n",
      "Print the first 10 standardized sentences from Card Factory annual reprots: \n",
      "['celebrate life moments annual report accounts', 'card factory sells greeting cards uk uni anyone else ranked shoppers uni wide range cards uni value money', 'uni b vision card factory aspires recognised world best greeting uni card retailer everywhere uni occasions first choice uni greeting uni cards', 'mission card factory mission helping people celebrate life moments making products affordable uni available everyone', 'source dynata february', 'card factory uk leading specialist retailer greeting cards gifts wrap bags', 'strategic report fy highlights welcome card factory investment case chair statement market overview business model chief executive officer review strategy stakeholders chief financial officer review risk management esg strategy non financial information statement governance board directors chair letter corporate governance corporate governance report chair letter audit risk committee audit risk committee report chair letter remuneration committee directors remuneration report annual report remuneration chair letter nomination committee nomination committee report directors report statement directors responsibilities financial statements independent auditor report consolidated income statement consolidated statement comprehensive income consolidated statement financial position consolidated statement changes equity consolidated cash flow statement notes financial statements parent company statement financial position parent company statement changes equity parent company cash flow statement notes parent company financial statements company information glossary advisors contacts', 'leverage excluding lease liabilities', 'xoperating cash flow', 'mfy highlights financial highlights card factory plc annual report accounts financial statements governancestrategic report']\n",
      "\n",
      "Data type: <class 'list'>\n"
     ]
    }
   ],
   "source": [
    "# print the standardized sentences summary of annual report\n",
    "print(f\"Total number of standardized sentences of 2021: {len(card_standsent_all)}\")\n",
    "print(\"\\nPrint the first 10 standardized sentences from Card Factory annual reprots: \")\n",
    "print(card_standsent_all[:10])\n",
    "print(f\"\\nData type: {type(card_standsent_all)}\")"
   ]
  },
  {
   "cell_type": "markdown",
   "id": "c709ca1e-9b03-41ae-b0ad-6b0f64758cfd",
   "metadata": {
    "tags": []
   },
   "source": [
    "## B28. N Brown Group plc"
   ]
  },
  {
   "cell_type": "code",
   "execution_count": 178,
   "id": "01d1a35a-69aa-4e6c-82b3-9bcd014048a0",
   "metadata": {},
   "outputs": [],
   "source": [
    "# Setting the path of annual reports from 2012 to 2022\n",
    "bwng_2012to2022_path = \"AR/n_brown_group/bwng-ar2012-2022.pdf\"\n"
   ]
  },
  {
   "cell_type": "code",
   "execution_count": 179,
   "id": "8d06273c-c8c7-4102-a275-c7452c9b7a40",
   "metadata": {},
   "outputs": [],
   "source": [
    "# Extract text from annual report\n",
    "bwng_sen_2012to2022 = extract_pdf_text(bwng_2012to2022_path)\n"
   ]
  },
  {
   "cell_type": "markdown",
   "id": "65987f00-ea0e-425a-80df-0114d607253b",
   "metadata": {},
   "source": [
    "Print the sentences from the annual report from 2021."
   ]
  },
  {
   "cell_type": "code",
   "execution_count": 180,
   "id": "fb6412be-be78-4718-b88c-0d041a545055",
   "metadata": {},
   "outputs": [
    {
     "name": "stdout",
     "output_type": "stream",
     "text": [
      "Total number of sentences of 2021: 45875\n",
      "\n",
      "Print the first 10 sentences from N Brown Group annual reports: \n",
      "['N Brown Group plc Annual Report and Accounts 2012FREEDOM TO', 'Young (30-45) fashionworld', 'co', 'uk simplybe', 'co', 'uk simplybe', 'com simplybe', 'de simplybe', 'eu simplyyours', 'co']\n",
      "\n",
      "Data type: <class 'list'>\n"
     ]
    }
   ],
   "source": [
    "# print the sentences summary of annual report\n",
    "print(f\"Total number of sentences of 2021: {len(bwng_sen_2012to2022)}\")\n",
    "print(\"\\nPrint the first 10 sentences from N Brown Group annual reports: \")\n",
    "print(bwng_sen_2012to2022[:10])\n",
    "print(f\"\\nData type: {type(bwng_sen_2012to2022)}\")"
   ]
  },
  {
   "cell_type": "markdown",
   "id": "bf5a3238-daa7-41f7-a4fd-bda141c96382",
   "metadata": {},
   "source": [
    "Second, it will standardise the sentences for each annual reports."
   ]
  },
  {
   "cell_type": "code",
   "execution_count": 181,
   "id": "7a34505a-9759-4be0-97a3-914665ffebed",
   "metadata": {},
   "outputs": [],
   "source": [
    "# Standardise all sentences from all annual reports\n",
    "bwng_standsent_all = standardize_sentences(bwng_sen_2012to2022)\n"
   ]
  },
  {
   "cell_type": "markdown",
   "id": "e3f86759-5db7-4ac5-838a-280bb7994bb4",
   "metadata": {},
   "source": [
    "Print the short summary of standardised sentences of 2021 annual reports."
   ]
  },
  {
   "cell_type": "code",
   "execution_count": 182,
   "id": "c70f3d55-1a14-489d-abbe-0ea5a225c4c4",
   "metadata": {},
   "outputs": [
    {
     "name": "stdout",
     "output_type": "stream",
     "text": [
      "Total number of standardized sentences of 2021: 45875\n",
      "\n",
      "Print the first 10 standardized sentences from Card Factory annual reprots: \n",
      "['n brown group plc annual report accounts freedom', 'young fashionworld', 'co', 'uk simplybe', 'co', 'uk simplybe', 'com simplybe', 'de simplybe', 'eu simplyyours', 'co']\n",
      "\n",
      "Data type: <class 'list'>\n"
     ]
    }
   ],
   "source": [
    "# print the standardized sentences summary of annual report\n",
    "print(f\"Total number of standardized sentences of 2021: {len(bwng_standsent_all)}\")\n",
    "print(\"\\nPrint the first 10 standardized sentences from Card Factory annual reprots: \")\n",
    "print(bwng_standsent_all[:10])\n",
    "print(f\"\\nData type: {type(bwng_standsent_all)}\")"
   ]
  },
  {
   "cell_type": "markdown",
   "id": "42c1634c-7b4f-4b3b-9c99-61a563745d8b",
   "metadata": {
    "tags": []
   },
   "source": [
    "## B29. The Hut Group"
   ]
  },
  {
   "cell_type": "markdown",
   "id": "06875243-baa4-4ac4-aad6-c495f74d3723",
   "metadata": {},
   "source": [
    "Annual reports are available from 2015 to 2022."
   ]
  },
  {
   "cell_type": "code",
   "execution_count": 183,
   "id": "dcee6d1f-64d8-4179-9d1d-0d6700ad75e4",
   "metadata": {},
   "outputs": [],
   "source": [
    "# Setting the path of annual reports from 2015 to 2022\n",
    "thg_2012to2022_path = \"AR/thg/thg-ar2015-2022.pdf\"\n"
   ]
  },
  {
   "cell_type": "code",
   "execution_count": 184,
   "id": "f4d86bd7-9ae2-46f4-9480-93e1a68eaaac",
   "metadata": {},
   "outputs": [],
   "source": [
    "# Extract text from annual report\n",
    "thg_sen_2012to2022 = extract_pdf_text(thg_2012to2022_path)\n"
   ]
  },
  {
   "cell_type": "markdown",
   "id": "7d921f08-87b6-406c-90aa-cc3fda895bec",
   "metadata": {},
   "source": [
    "Print the sentences from the annual report from 2021."
   ]
  },
  {
   "cell_type": "code",
   "execution_count": 185,
   "id": "abeba8d1-1d99-465d-aeb8-5b9a8543628a",
   "metadata": {},
   "outputs": [
    {
     "name": "stdout",
     "output_type": "stream",
     "text": [
      "Total number of sentences of 2021: 14637\n",
      "\n",
      "Print the first 10 sentences from THG annual reports: \n",
      "['Annual Report and Financial Statements The Hut Group Limited', 'Company Number: 06539496 Year Ended 31 December 2015', 'CONTENTS 02 Directors and advisors24 Consolidated statement of changes in equity 03 Strategic report25 Consolidated statement of cash flows 12 Directors’ report26 Notes to the financial statements 18 Independent auditor’s report54 Company balance sheet 21 Consolidated statement of comprehensive income56 Company statement of changes in equity 23 Consolidated balance sheet 57 Notes to the Company financial statements', '2 THE HUT GROUP ANNUAL REPORT AND FINANCIAL STATEMENTS COMPANY SECRETARYAUDITORS Ernst & Young LLP 100 Barbirolli Square Manchester M2 3EY BANKERS Barclays Bank Plc 1 Churchill Place, London E14 5HP HSBC 8 Canada Square, Canary Wharf, London E14 5HQ Santander UK Plc 2 Triton Square, Regent’s Place, London NW1 3AN REGISTERED OFFICE The Hut Group Meridian House Rudheath Gadbrook Park Northwich Cheshire CW9 7RA J P POCHINDIRECTORS Lloyds Bank Plc 25 Gresham Street, London EC2V 7HN I McDONALDP J GEDMAN EXECUTIVE DIRECTOR NON EXECUTIVE DIRECTOR W M EVANS NON EXECUTIVE DIRECTOR M J MOULDING J A GALLEMORE A MONRO NON EXECUTIVE DIRECTORCFO CEO D P MURPHY NON EXECUTIVE DIRECTOR R J PENNYCOOK NON EXECUTIVE DIRECTOR(APPOINTED 24 MAY 2015) A J DUCKWORTH EXECUTIVE DIRECTOR Allied Irish Banks Plc Bankcentre, Ballsbridge, Dublin 4, IrelandThe Royal Bank Of Scotland Plc 36 St Andrew Square, Edinburgh EH2 2YB', 'We have audited the parent company financial statements of The Hut Group Limited for the year ended 31 December 2014 which comprise the company balance sheet and the related notes 1 to 9', 'The financial reporting framework that has been applied in their preparation is applicable law and United Kingdom Accounting Standards (United Kingdom Generally Accepted Accounting Practice)', 'This report is made solely to the company’s members, as a body, in accordance with Chapter 3 of Part 16 of the Companies Act 2006', 'Our audit work has been undertaken so that we might state to the company’s members those matters we are required to state to them in an auditor’s report and for no other purpose', 'To the fullest extent permitted by law, we do not accept or assume responsibility to anyone other than the company and the company’s members as a body, for our audit work, for this report, or for the opinions we have formed', 'AUDITORS BANKERS Barclays Bank Plc 1 Churchill Place, London E14 5HP HSBC 8 Canada Square, Canary Wharf, London E14 5HQ Santander UK Plc 2 Triton Square, Regent’s Place, London NW1 3AN REGISTERED OFFICELloyds Bank Plc 25 Gresham Street, London EC2V 7HN01 STRATEGIC REPORT FOR THE YEAR ENDED 31 DECEMBER 2015Allied Irish Banks Plc Bankcentre, Ballsbridge, Dublin 4, IrelandThe Royal Bank Of Scotland Plc 36 St Andrew Square, Edinburgh EH2 2YB']\n",
      "\n",
      "Data type: <class 'list'>\n"
     ]
    }
   ],
   "source": [
    "# print the sentences summary of annual report\n",
    "print(f\"Total number of sentences of 2021: {len(thg_sen_2012to2022)}\")\n",
    "print(\"\\nPrint the first 10 sentences from THG annual reports: \")\n",
    "print(thg_sen_2012to2022[:10])\n",
    "print(f\"\\nData type: {type(thg_sen_2012to2022)}\")"
   ]
  },
  {
   "cell_type": "markdown",
   "id": "baf842c9-fbd7-4232-86eb-506194d12514",
   "metadata": {},
   "source": [
    "Second, it will standardise the sentences for each annual reports."
   ]
  },
  {
   "cell_type": "code",
   "execution_count": 186,
   "id": "974e85f7-fed8-41ea-b8aa-b94136282c4e",
   "metadata": {},
   "outputs": [],
   "source": [
    "# Standardise all sentences from all annual reports\n",
    "thg_standsent_all = standardize_sentences(thg_sen_2012to2022)\n"
   ]
  },
  {
   "cell_type": "markdown",
   "id": "8222d3d7-1f5a-4be9-b72e-ca0bc81c803a",
   "metadata": {},
   "source": [
    "Print the short summary of standardised sentences of 2021 annual reports."
   ]
  },
  {
   "cell_type": "code",
   "execution_count": 187,
   "id": "46f7d3ee-d504-457a-b869-d77812615ac1",
   "metadata": {},
   "outputs": [
    {
     "name": "stdout",
     "output_type": "stream",
     "text": [
      "Total number of standardized sentences of 2021: 14637\n",
      "\n",
      "Print the first 10 standardized sentences from THG annual reprots: \n",
      "['annual report financial statements hut group limited', 'company number year ended december', 'contents directors advisors consolidated statement changes equity strategic report consolidated statement cash flows directors report notes financial statements independent auditor report company balance sheet consolidated statement comprehensive income company statement changes equity consolidated balance sheet notes company financial statements', 'hut group annual report financial statements company secretaryauditors ernst young llp barbirolli square manchester ey bankers barclays bank plc churchill place london e hp hsbc canada square canary wharf london e hq santander uk plc triton square regent place london nw registered office hut group meridian house rudheath gadbrook park northwich cheshire cw ra j p pochindirectors lloyds bank plc gresham street london ec v hn mcdonaldp j gedman executive director non executive director w evans non executive director j moulding j gallemore monro non executive directorcfo ceo p murphy non executive director r j pennycook non executive director appointed may j duckworth executive director allied irish banks plc bankcentre ballsbridge dublin irelandthe royal bank scotland plc st andrew square edinburgh eh yb', 'audited parent company financial statements hut group limited year ended december comprise company balance sheet related notes', 'financial reporting framework applied preparation applicable law united kingdom accounting standards united kingdom generally accepted accounting practice', 'report made solely company members body accordance chapter part companies act', 'audit work undertaken might state company members matters required state auditor report purpose', 'fullest extent permitted law accept assume responsibility anyone company company members body audit work report opinions formed', 'auditors bankers barclays bank plc churchill place london e hp hsbc canada square canary wharf london e hq santander uk plc triton square regent place london nw registered officelloyds bank plc gresham street london ec v hn strategic report year ended december allied irish banks plc bankcentre ballsbridge dublin irelandthe royal bank scotland plc st andrew square edinburgh eh yb']\n",
      "\n",
      "Data type: <class 'list'>\n"
     ]
    }
   ],
   "source": [
    "# print the standardized sentences summary of annual report\n",
    "print(f\"Total number of standardized sentences of 2021: {len(thg_standsent_all)}\")\n",
    "print(\"\\nPrint the first 10 standardized sentences from THG annual reprots: \")\n",
    "print(thg_standsent_all[:10])\n",
    "print(f\"\\nData type: {type(thg_standsent_all)}\")"
   ]
  },
  {
   "cell_type": "markdown",
   "id": "2ca8a43b-c6c5-491d-84ec-8a13aa24177d",
   "metadata": {
    "tags": []
   },
   "source": [
    "## B30. Mothercare plc"
   ]
  },
  {
   "cell_type": "code",
   "execution_count": 188,
   "id": "115df778-f1ec-4a07-9fd7-51475896a02e",
   "metadata": {},
   "outputs": [],
   "source": [
    "# Setting the path of annual reports from 2012 to 2022\n",
    "mtc_2012to2022_path = \"AR/mothercare/mtc-ar2012-2022.pdf\"\n"
   ]
  },
  {
   "cell_type": "code",
   "execution_count": 189,
   "id": "2052dfc7-10de-4de2-b08b-cd175c08ac34",
   "metadata": {},
   "outputs": [],
   "source": [
    "# Extract text from annual report\n",
    "mtc_sen_2012to2022 = extract_pdf_text(mtc_2012to2022_path)\n"
   ]
  },
  {
   "cell_type": "markdown",
   "id": "de0a4067-0eac-4f78-9ff1-3bc28f693fd4",
   "metadata": {},
   "source": [
    "Print the sentences from the annual report from 2021."
   ]
  },
  {
   "cell_type": "code",
   "execution_count": 190,
   "id": "45bd7399-1775-4da9-99ea-937d54a3829d",
   "metadata": {},
   "outputs": [
    {
     "name": "stdout",
     "output_type": "stream",
     "text": [
      "Total number of sentences of 2021: 44905\n",
      "\n",
      "Print the first 10 sentences from Mothercare annual reports: \n",
      "['Mothercare plc Annual report and accounts 2012 www', 'mothercareplc', 'com Transformation and growth', 'Financial highlights Worldwide network sales £1,232', '4m +6', '4% Group sales £812', '7m +2', '4% Operating proﬁt £1', '6m -94', '4%UK operating loss £24']\n",
      "\n",
      "Data type: <class 'list'>\n"
     ]
    }
   ],
   "source": [
    "# print the sentences summary of annual report\n",
    "print(f\"Total number of sentences of 2021: {len(mtc_sen_2012to2022)}\")\n",
    "print(\"\\nPrint the first 10 sentences from Mothercare annual reports: \")\n",
    "print(mtc_sen_2012to2022[:10])\n",
    "print(f\"\\nData type: {type(mtc_sen_2012to2022)}\")"
   ]
  },
  {
   "cell_type": "markdown",
   "id": "d2ef4709-a3a9-4473-8251-7a85a6ff6b31",
   "metadata": {},
   "source": [
    "Second, it will standardise the sentences for each annual reports."
   ]
  },
  {
   "cell_type": "code",
   "execution_count": 191,
   "id": "f4c82046-216d-4d6d-a44d-c2179c6f1ffd",
   "metadata": {},
   "outputs": [],
   "source": [
    "# Standardise all sentences from all annual reports\n",
    "mtc_standsent_all = standardize_sentences(mtc_sen_2012to2022)\n"
   ]
  },
  {
   "cell_type": "markdown",
   "id": "cd194b80-de02-4344-b979-a04eb2737190",
   "metadata": {},
   "source": [
    "Print the short summary of standardised sentences of 2021 annual reports."
   ]
  },
  {
   "cell_type": "code",
   "execution_count": 192,
   "id": "6fe5a1c9-21f8-4fcf-b592-19d229bce68a",
   "metadata": {},
   "outputs": [
    {
     "name": "stdout",
     "output_type": "stream",
     "text": [
      "Total number of standardized sentences of 2021: 44905\n",
      "\n",
      "Print the first 10 standardized sentences from Mothercare annual reprots: \n",
      "['mothercare plc annual report accounts www', 'mothercareplc', 'com transformation growth', 'financial highlights worldwide network sales', '', 'group sales', '', 'operating pro', '', 'uk operating loss']\n",
      "\n",
      "Data type: <class 'list'>\n"
     ]
    }
   ],
   "source": [
    "# print the standardized sentences summary of annual report\n",
    "print(f\"Total number of standardized sentences of 2021: {len(mtc_standsent_all)}\")\n",
    "print(\"\\nPrint the first 10 standardized sentences from Mothercare annual reprots: \")\n",
    "print(mtc_standsent_all[:10])\n",
    "print(f\"\\nData type: {type(mtc_standsent_all)}\")"
   ]
  },
  {
   "cell_type": "markdown",
   "id": "c50dc8a9-c2ee-43da-b09d-1af79d6dbc56",
   "metadata": {},
   "source": [
    "# Part C. Combine all sentences"
   ]
  },
  {
   "cell_type": "markdown",
   "id": "3605d5ad-c2c0-4f6e-a87a-a5047f4a6b78",
   "metadata": {},
   "source": [
    "The following codes will combine all standardised sentences from the above 30 companies."
   ]
  },
  {
   "cell_type": "code",
   "execution_count": 193,
   "id": "a97d5f90-d2c9-42e9-b7e1-dd457d0ae906",
   "metadata": {},
   "outputs": [],
   "source": [
    "ar_standsent_all = (\n",
    "    mtc_standsent_all + #30 \n",
    "    thg_standsent_all + #29\n",
    "    bwng_standsent_all + #28\n",
    "    card_standsent_all + #27\n",
    "    mysl_standsent_all + #26\n",
    "    scs_standsent_all + #25\n",
    "    pets_standsent_all + #24\n",
    "    mcls_standsent_all + #23\n",
    "    look_standsent_all + #22\n",
    "    inch_standsent_all + #21\n",
    "    jd_standsent_all + #20\n",
    "    hfd_standsent_all + #19\n",
    "    dnlm_standsent_2012 + #18\n",
    "    brby_standsent_2012 + #17\n",
    "    fras_standsent_all + #16\n",
    "    sgi_standsent_all + #15\n",
    "    smwh_standsent_all + #14\n",
    "    cury_standsent_all + #13\n",
    "    bme_standsent_all + #12\n",
    "    asos_standsent_all + #11\n",
    "    ao_standsent_all + #10\n",
    "    tbk_standsent_all + #9\n",
    "    nxt_standsent_all + #8\n",
    "    abf_standsent_all + #7\n",
    "    coop_standsent_all + #6\n",
    "    morri_standsent_all + #5\n",
    "    jl_standsent_all + #4\n",
    "    tesco_standsent_all + #3\n",
    "    ms_standsent_all + #2\n",
    "    sain_standsent_all #1    \n",
    ")"
   ]
  },
  {
   "cell_type": "markdown",
   "id": "dac3593b-4358-4657-8d22-52efae78b1e8",
   "metadata": {},
   "source": [
    "Print the summary after combine all standardised sentences from the above companies."
   ]
  },
  {
   "cell_type": "code",
   "execution_count": 194,
   "id": "5304f97d-c114-4a84-b4cf-7f4eb21aea28",
   "metadata": {},
   "outputs": [
    {
     "name": "stdout",
     "output_type": "stream",
     "text": [
      "Total number of standardised sentences 1133413\n",
      "\n",
      "The first 5 standardised sentences:\n",
      "['mothercare plc annual report accounts www', 'mothercareplc', 'com transformation growth', 'financial highlights worldwide network sales', '']\n",
      "\n",
      "The last 5 standardised sentences:\n",
      "['sainsbury accolade reflects work store pharmacies', 'official partner london paralympic games proud first ever paralympics sponsor', 'sponsorship helping us promote healthier active lifestyle across ages abilities', 'celebrating majesty diamond jubilee sainsbury celebrating majesty queen diamond jubilee support thames diamond jubilee pageant diamond jubilee beacons jubilee family festival woodland trust jubilee woods project', 'winner superm arket year winner convenience chain year annual report financial statements']\n",
      "\n",
      "Data type: <class 'list'>\n"
     ]
    }
   ],
   "source": [
    "print(f'Total number of standardised sentences {len(ar_standsent_all)}')\n",
    "print(\"\\nThe first 5 standardised sentences:\")\n",
    "print(ar_standsent_all[:5])\n",
    "print(\"\\nThe last 5 standardised sentences:\")\n",
    "print(ar_standsent_all[-5:])\n",
    "print(f\"\\nData type: {type(ar_standsent_all)}\")"
   ]
  },
  {
   "cell_type": "markdown",
   "id": "f94aa582-dad9-4b21-9e9a-b9ebe90af6a8",
   "metadata": {},
   "source": [
    "Convert to a pd dataframe."
   ]
  },
  {
   "cell_type": "code",
   "execution_count": 195,
   "id": "863d07ac-8b33-4809-b3dc-0871f7f5b61d",
   "metadata": {},
   "outputs": [
    {
     "name": "stdout",
     "output_type": "stream",
     "text": [
      "Total number of standardised sentences: 1133413\n",
      "\n",
      "The first 5 standardised sentences:\n",
      "                         standardised sentences\n",
      "0     mothercare plc annual report accounts www\n",
      "1                                 mothercareplc\n",
      "2                     com transformation growth\n",
      "3  financial highlights worldwide network sales\n",
      "4                                              \n",
      "\n",
      "The last 5 standardised sentences:\n",
      "                                    standardised sentences\n",
      "1133408  sainsbury accolade reflects work store pharmacies\n",
      "1133409  official partner london paralympic games proud...\n",
      "1133410  sponsorship helping us promote healthier activ...\n",
      "1133411  celebrating majesty diamond jubilee sainsbury ...\n",
      "1133412  winner superm arket year winner convenience ch...\n",
      "\n",
      "Data type: <class 'pandas.core.frame.DataFrame'>\n"
     ]
    }
   ],
   "source": [
    "import pandas as pd\n",
    "\n",
    "# Create a dictionary with the 'ar_standsent_all' data\n",
    "text = {'standardised sentences': ar_standsent_all}\n",
    "\n",
    "# Create a pandas DataFrame\n",
    "AR_30companies = pd.DataFrame(text)\n",
    "\n",
    "# Print the summary\n",
    "print(f'Total number of standardised sentences: {len(AR_30companies)}')\n",
    "print(\"\\nThe first 5 standardised sentences:\")\n",
    "print(AR_30companies.head(5))\n",
    "print(\"\\nThe last 5 standardised sentences:\")\n",
    "print(AR_30companies.tail(5))\n",
    "print(f\"\\nData type: {type(AR_30companies)}\")\n"
   ]
  },
  {
   "cell_type": "markdown",
   "id": "62835747-6856-452c-8c49-4b2931c841b7",
   "metadata": {},
   "source": [
    "As it can be seen, there is a row without any text. It should remove to save computational capacity."
   ]
  },
  {
   "cell_type": "code",
   "execution_count": 196,
   "id": "65136424-82c4-4945-af6d-218797e77f0a",
   "metadata": {},
   "outputs": [
    {
     "name": "stdout",
     "output_type": "stream",
     "text": [
      "Total number of standardised sentences: 904498\n",
      "\n",
      "The first 5 standardised sentences:\n",
      "                         standardised sentences\n",
      "0     mothercare plc annual report accounts www\n",
      "1                                 mothercareplc\n",
      "2                     com transformation growth\n",
      "3  financial highlights worldwide network sales\n",
      "4                                   group sales\n",
      "\n",
      "The last 5 standardised sentences:\n",
      "                                   standardised sentences\n",
      "904493  sainsbury accolade reflects work store pharmacies\n",
      "904494  official partner london paralympic games proud...\n",
      "904495  sponsorship helping us promote healthier activ...\n",
      "904496  celebrating majesty diamond jubilee sainsbury ...\n",
      "904497  winner superm arket year winner convenience ch...\n",
      "\n",
      "Data type: <class 'pandas.core.frame.DataFrame'>\n"
     ]
    }
   ],
   "source": [
    "# Remove rows with empty sentences\n",
    "AR_30companies_1 = AR_30companies[AR_30companies['standardised sentences'] != '']\n",
    "\n",
    "# Reset the index\n",
    "AR_30companies_1.reset_index(drop=True, inplace=True)\n",
    "\n",
    "# Print the updated DataFrame\n",
    "# Print the summary\n",
    "print(f'Total number of standardised sentences: {len(AR_30companies_1)}')\n",
    "print(\"\\nThe first 5 standardised sentences:\")\n",
    "print(AR_30companies_1.head(5))\n",
    "print(\"\\nThe last 5 standardised sentences:\")\n",
    "print(AR_30companies_1.tail(5))\n",
    "print(f\"\\nData type: {type(AR_30companies_1)}\")\n"
   ]
  },
  {
   "cell_type": "markdown",
   "id": "cd7ec548-c0e2-4b36-a72c-ccfc84d06471",
   "metadata": {},
   "source": [
    "Save as a csv file for the above dataframe."
   ]
  },
  {
   "cell_type": "code",
   "execution_count": 197,
   "id": "822eb099-972f-45e5-9077-28c603d977f3",
   "metadata": {},
   "outputs": [],
   "source": [
    "# Save the DataFrame to a CSV file\n",
    "AR_30companies_1.to_csv('ar_30companies.csv', index=True)"
   ]
  },
  {
   "cell_type": "code",
   "execution_count": 198,
   "id": "5162b7d3-862b-46bf-a701-025b25e4bcc4",
   "metadata": {},
   "outputs": [
    {
     "name": "stdout",
     "output_type": "stream",
     "text": [
      "/Users/amosmbp14/Jupyter notebook/Summer_proj\n"
     ]
    }
   ],
   "source": [
    "import os\n",
    "\n",
    "current_directory = os.getcwd()\n",
    "print(current_directory)\n"
   ]
  },
  {
   "cell_type": "code",
   "execution_count": null,
   "id": "5a67f1c8-ccf9-412c-b5c2-de30f46e8dc7",
   "metadata": {},
   "outputs": [],
   "source": []
  }
 ],
 "metadata": {
  "kernelspec": {
   "display_name": "Python 3 (ipykernel)",
   "language": "python",
   "name": "python3"
  },
  "language_info": {
   "codemirror_mode": {
    "name": "ipython",
    "version": 3
   },
   "file_extension": ".py",
   "mimetype": "text/x-python",
   "name": "python",
   "nbconvert_exporter": "python",
   "pygments_lexer": "ipython3",
   "version": "3.9.16"
  }
 },
 "nbformat": 4,
 "nbformat_minor": 5
}
